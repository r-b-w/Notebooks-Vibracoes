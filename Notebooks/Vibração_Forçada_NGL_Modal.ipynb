{
 "cells": [
  {
   "cell_type": "markdown",
   "id": "67d77141-f39d-422d-af8c-6a0a46a653a4",
   "metadata": {},
   "source": [
    "# Vibração Forçada NGL via Decomposição Modal"
   ]
  },
  {
   "cell_type": "markdown",
   "id": "58bc4647-7588-4ed2-bdf3-3a5ae9505913",
   "metadata": {},
   "source": [
    "Este notebook resolve o problema de vibração forçada, *não amortecida*, para um problema com\n",
    "$N$ graus de liberdade via decomposição modal.\n",
    "\n",
    "A ideia é transformar o sistema de equações diferenciais de segunda ordem em um conjunto de equções diferenciais ordinárias de segunda ordem desacopladas, através da escolha de coordenadas generalizadas adequadas."
   ]
  },
  {
   "cell_type": "markdown",
   "id": "14978f21-e484-44db-aa9e-0884c0062fe9",
   "metadata": {},
   "source": [
    "## Equações de movimento\n",
    "\n",
    "O problema é definido por\n",
    "\n",
    "$$ \\boldsymbol{m}\\boldsymbol{\\ddot x} + \\boldsymbol{k}\\boldsymbol{\\dot x} = \\boldsymbol{F}(t).$$\n",
    "\n",
    "Para aplicar a decomposição modal precisamos das frequências naturais e modos normais, que são soluções do seguinte problema de autovalores generalizado,\n",
    "\n",
    "$$ \\omega^2 \\boldsymbol{m} \\boldsymbol{X} = \\boldsymbol{k} \\boldsymbol{X},$$\n",
    "\n",
    "que pode ser reorganizado para\n",
    "\n",
    "$$ \\omega^2 \\boldsymbol{X} = \\boldsymbol{\\hat k} \\boldsymbol{X},$$\n",
    "\n",
    "com $\\boldsymbol{\\hat k} = \\boldsymbol{m}^{-1} \\boldsymbol{k}$.\n",
    "\n",
    "## Decomposição modal\n",
    "Supondo que todos os autovalores sejam distintos, teremos $N$ autovalores, que são as frequências naturais, $\\omega_1, \\omega_2, \\ldots, \\omega_N$, e $N$ autovetores, que não os modos normais $\\boldsymbol{X}^{(1)}, \\boldsymbol{X}^{(2)}, \\ldots, \\boldsymbol{X}^{(N)}$.\n",
    "\n",
    "Vamos normalizar os modos normais pela matriz de massa, de forma que \n",
    "\n",
    "$${\\boldsymbol{X}^{(i)}}^T \\boldsymbol{m}\\boldsymbol{X}^{(j)} = 1, \\quad\\text{para } i = j,$$ \n",
    "$${\\boldsymbol{X}^{(i)}}^T \\boldsymbol{m}\\boldsymbol{X}^{(j)} = 0, \\quad\\text{para } i \\ne j,$$ \n",
    "e\n",
    "$${\\boldsymbol{X}^{(i)}}^T \\boldsymbol{k}\\boldsymbol{X}^{(j)} = \\omega_i^2, \\quad\\text{para } i = j,$$ \n",
    "$${\\boldsymbol{X}^{(i)}}^T \\boldsymbol{k}\\boldsymbol{X}^{(j)} = 0, \\quad\\text{para } i \\ne j.$$ \n",
    "\n",
    "Vamos agrupar os modos normais como colunas da *matriz modal*,\n",
    "\n",
    "$$ \\boldsymbol{X}_m = \\left[\\boldsymbol{X}^{(1)}, \\boldsymbol{X}^{(2)}, \\ldots, \\boldsymbol{X}^{(N)} \\right].$$"
   ]
  },
  {
   "cell_type": "markdown",
   "id": "414caa7b-130c-4d3f-8f2a-7d2bb237c639",
   "metadata": {},
   "source": [
    "### Teorema da expansão\n",
    "\n",
    "Como os modos normais são ortogonais entre si, formam uma base para o espaço $\\mathbb{R}^N$, podemos escrever um vetor arbitrário deste espaço como uma combinação linear destes vetores,\n",
    "\n",
    "$$ \\boldsymbol{x}(t) = q_1(t)\\boldsymbol{X}^{(1)} + q_2(t) \\boldsymbol{X}^{(2)} + \\cdots +  q_N(t)\\boldsymbol{X}^{(N)} ,$$\n",
    "\n",
    "onde $q_1(t), q_2(t), \\ldots, q_N(t)$ são os *coeficientes de participação modal* ou *coordenadas principais.* Em termos da matriz modal, esta equação pode ser reescrita para\n",
    "\n",
    "$$ \\boldsymbol{x}(t) = \\boldsymbol{X}_m \\boldsymbol{q},$$\n",
    "\n",
    "com $\\boldsymbol{q}^T = \\left[q_1(t), q_2(t), \\cdots,  q_N(t)\\right] $. Derivando esta equação em relação ao tempo, temos\n",
    "\n",
    "$$ \\boldsymbol{\\ddot x}(t) = \\boldsymbol{X}_m \\boldsymbol{\\ddot q},$$\n",
    "\n",
    "e podemos escrever a equação de movimento como\n",
    "\n",
    "$$   \\boldsymbol{m}\\boldsymbol{X}_m \\boldsymbol{\\ddot q} + \\boldsymbol{k} \\boldsymbol{X}_m \\boldsymbol{q} =   \\boldsymbol{F}.$$\n",
    "\n",
    "Pré-multiplicando esta equação por ${\\boldsymbol{X}_m}^T$, ficamos com\n",
    "\n",
    "$$  {\\boldsymbol{X}_m}^T \\boldsymbol{m}\\boldsymbol{X}_m \\boldsymbol{\\ddot q} + {\\boldsymbol{X}_m}^T \\boldsymbol{k} \\boldsymbol{X}_m \\boldsymbol{q} = {\\boldsymbol{X}_m}^T \\boldsymbol{F} ,$$\n",
    "\n",
    "mas, ${\\boldsymbol{X}_m}^T \\boldsymbol{m}\\boldsymbol{X}_m = \\boldsymbol{I}$, ${\\boldsymbol{X}_m}^T \\boldsymbol{k} \\boldsymbol{X}_m = \\boldsymbol{\\omega}^2$, onde $\\boldsymbol{\\omega}^2$ é uma matriz diagonal com $\\omega_{ii}^2 = \\omega_{i}^2$, e definindo $\\boldsymbol{Q} = {\\boldsymbol{X}_m}^T \\boldsymbol{F}$, temos\n",
    "\n",
    "$$ \\boldsymbol{\\ddot q} + {\\boldsymbol{\\omega}}^2 \\boldsymbol{q} = \\boldsymbol{Q},$$\n",
    "\n",
    "que são $N$ equações diferenciais de segunda ordem, desacopladas, da forma,\n",
    "\n",
    "$$ \\ddot q_i(t) + \\omega_i^2 q_i(t) = Q_i(t),\\quad i=1, \\ldots, N.$$\n",
    "\n",
    "## Solução\n",
    "Cada uma destas equações é não homogênea, com solução $q_i(t) = {q_i}_h(t) + {q_i}_p(t)$. A solução da parte homogênea é, claramente,\n",
    "\n",
    "$$ {q_i}_h(t) = q_i(0)\\cos \\omega_i t + \\frac{\\dot q_i(0)}{\\omega_i}\\sin \\omega_i t,$$ \n",
    "\n",
    "e a solução da equação particular pode ser calculada de qualquer forma que trate forças arbitrárias, por exemplo, através da integral de convolução,\n",
    "\n",
    "$$ {q_i}_p(t) = \\frac{1}{\\omega_i} \\int_0^t \\!\\! Q_i(\\tau) \\sin \\omega_i (t -\\tau)\\, d\\tau.$$\n",
    "\n",
    "### Condições iniciais\n",
    "\n",
    "Para calcular as condições iniciais em termos das coordenadas generalizadas, temos\n",
    "\n",
    "$$\\boldsymbol{x}(t) = \\boldsymbol{X}_m \\boldsymbol{q}(t), $$\n",
    "\n",
    "que, prémultiplicada por ${\\boldsymbol{X}_m}^T \\boldsymbol{m}$ leva a\n",
    "\n",
    "$$ \\boldsymbol{q}(t) = {\\boldsymbol{X}_m}^T \\boldsymbol{m} \\boldsymbol{x}(t),$$\n",
    "\n",
    "assim,\n",
    "\n",
    "$$  \\boldsymbol{q}(0) = {\\boldsymbol{X}_m}^T \\boldsymbol{m} \\boldsymbol{x}(0), \\quad\\text{e}\\quad\n",
    "    \\boldsymbol{\\ddot q}(0) = {\\boldsymbol{X}_m}^T \\boldsymbol{m} \\boldsymbol{\\ddot x}(0). $$"
   ]
  },
  {
   "cell_type": "markdown",
   "id": "d5a05a98-42a3-40dd-894c-79ec7c8f0989",
   "metadata": {
    "tags": []
   },
   "source": [
    "## Setup"
   ]
  },
  {
   "cell_type": "code",
   "execution_count": 25,
   "id": "9b2651e7-ebc9-4b2c-bf64-4cf653c4dc9a",
   "metadata": {},
   "outputs": [],
   "source": [
    "import numpy as np\n",
    "import matplotlib.pyplot as plt"
   ]
  },
  {
   "cell_type": "markdown",
   "id": "807e8e47-e420-42e5-9517-f2e07b892db4",
   "metadata": {},
   "source": [
    "## Exemplo"
   ]
  },
  {
   "cell_type": "markdown",
   "id": "c6412c03-858f-44a6-829b-77b674bd409b",
   "metadata": {},
   "source": [
    "Este notebook pode ser usado para qualquer problema com $N$ graus de liberdade, basta entrar com as matrizes de massa, rigidez e o vetor de forças apropriadamente. \n",
    "\n",
    "Como demonstração, vamos usar o exemplo 6.17 do Rao.\n",
    "\n",
    "Vamos deixar a definição das forças aplicadas para depois do cálculo das frequências naturais e modos normais, pois precisamos ter uma ideia dos intervalos de tempo necessários para a solução numérica e plotagem dos resultados."
   ]
  },
  {
   "cell_type": "code",
   "execution_count": 2,
   "id": "33e8ea3d-8597-4b18-905a-4b8f2b28c113",
   "metadata": {},
   "outputs": [],
   "source": [
    "m = np.array([[200e3, 0], [0, 250e3]], dtype=np.float64)\n",
    "\n",
    "k = np.array([[150e6, -150e6], [-150e6, 225e6]], dtype=np.float64)"
   ]
  },
  {
   "cell_type": "markdown",
   "id": "9a97250a-5376-4eed-8bad-696896e4df22",
   "metadata": {},
   "source": [
    "### Condições iniciais"
   ]
  },
  {
   "cell_type": "code",
   "execution_count": 16,
   "id": "5b0fdf5b-19de-40d5-b42b-90362b232ece",
   "metadata": {},
   "outputs": [],
   "source": [
    "X0 = np.zeros((2,), dtype=np.float64)\n",
    "V0 = np.zeros((2,), dtype=np.float64)"
   ]
  },
  {
   "cell_type": "markdown",
   "id": "ad2e2f82-2b60-42ff-a97e-a646e669a084",
   "metadata": {},
   "source": [
    "### Frequências naturais e modos normais"
   ]
  },
  {
   "cell_type": "code",
   "execution_count": 3,
   "id": "1ce15238-33f7-49bd-aea5-6f3b4ebc7487",
   "metadata": {},
   "outputs": [
    {
     "data": {
      "text/plain": [
       "array([12.24744871, 38.72983346])"
      ]
     },
     "metadata": {},
     "output_type": "display_data"
    },
    {
     "data": {
      "text/plain": [
       "array([[-0.78086881,  0.70710678],\n",
       "       [-0.62469505, -0.70710678]])"
      ]
     },
     "metadata": {},
     "output_type": "display_data"
    }
   ],
   "source": [
    "k_hat = np.linalg.inv(m)@k\n",
    "λ, X = np.linalg.eig(k_hat)\n",
    "ω = np.sqrt(λ)\n",
    "perm = np.argsort(ω)     # reordering index\n",
    "ω = ω[perm]\n",
    "X[...] = X[:, perm]      # modal matrix\n",
    "display(ω)\n",
    "display(X)"
   ]
  },
  {
   "cell_type": "markdown",
   "id": "e322ec18-b979-47dd-ba79-f6c128705d0c",
   "metadata": {},
   "source": [
    "### Normalização"
   ]
  },
  {
   "cell_type": "code",
   "execution_count": 4,
   "id": "f2b5b40f-d48c-4713-a72e-d886fe1743fe",
   "metadata": {},
   "outputs": [],
   "source": [
    "XmX = X.T@m@X\n",
    "Mii = np.diag(XmX)\n",
    "Xm = X/np.sqrt(Mii) "
   ]
  },
  {
   "cell_type": "markdown",
   "id": "63aab2d7-8eb0-4aa4-954d-66d8e4398815",
   "metadata": {},
   "source": [
    "## Tempos de cálculo\n",
    "\n",
    "Vamos colocar pelo menos 30 pontos por período, para o menor período que aparece na solução, que corresponde à maior frequência, e vamos calcular a reposta por pelo menos 4 períodos da menor frequência natural, para podermos ter uma boa ideia do comportamento da solução."
   ]
  },
  {
   "cell_type": "code",
   "execution_count": 8,
   "id": "12d00188-392f-43c9-adbd-68bbca8f90a9",
   "metadata": {},
   "outputs": [],
   "source": [
    "ntp = 31\n",
    "nt = 4\n",
    "τ_min = 2*np.pi/ω[-1]\n",
    "dt = τ_min/ntp\n",
    "τ_max =  2*np.pi/ω[0]\n",
    "times = np.linspace(0, nt*τ_max, int(nt*τ_max/dt))"
   ]
  },
  {
   "cell_type": "markdown",
   "id": "d4b626d1-e436-468d-834f-5d8d0ad5c259",
   "metadata": {},
   "source": [
    "## Força externa "
   ]
  },
  {
   "cell_type": "code",
   "execution_count": 9,
   "id": "d0187dc6-3e89-4b81-a5cf-bec00f90ad5d",
   "metadata": {},
   "outputs": [],
   "source": [
    "F = np.zeros((k.shape[0], times.shape[0]), dtype=np.float64)"
   ]
  },
  {
   "cell_type": "code",
   "execution_count": 10,
   "id": "1c3ceea6-8664-4f05-88ad-4fe4bd40e678",
   "metadata": {},
   "outputs": [],
   "source": [
    "F[0,:] = np.where(times<=0.1, 25e3, 0.0)"
   ]
  },
  {
   "cell_type": "markdown",
   "id": "3fb673a6-dc97-4589-bce7-c3d71af99a2d",
   "metadata": {},
   "source": [
    "## Forças generalizadas"
   ]
  },
  {
   "cell_type": "code",
   "execution_count": 11,
   "id": "dea08eec-b9d2-4df5-af6b-cbb77dc085fd",
   "metadata": {},
   "outputs": [],
   "source": [
    "Q = Xm.T@F"
   ]
  },
  {
   "cell_type": "markdown",
   "id": "5b8a590e-9773-4a77-a59a-14a1be8e7a41",
   "metadata": {},
   "source": [
    "## Solução homogênea\n",
    "\n",
    "Obs: no exemplo a condição inicial é nula e tudo isto é redundante, estou deixando aqui para generalizar o notebook."
   ]
  },
  {
   "cell_type": "code",
   "execution_count": 50,
   "id": "066e52c8-08e0-4947-8717-8c94af7c2ed1",
   "metadata": {},
   "outputs": [],
   "source": [
    "q0 = Xm.T@m@X0\n",
    "vq0 = Xm.T@m@V0\n",
    "\n",
    "#q0 = np.array([1.0, 1.0])    # Just for testing\n",
    "#v0 = np.array([10.0, 10.0])\n",
    "\n",
    "ωt = ω[:, np.newaxis]*times\n",
    "qh = q0[:, np.newaxis]*np.cos(ωt) + (vq0/ω)[:, np.newaxis]*np.sin(ωt)"
   ]
  },
  {
   "cell_type": "markdown",
   "id": "6be2a33d-b2de-4acb-a9b9-7aa25acbc26c",
   "metadata": {},
   "source": [
    "## Solução particular\n",
    "\n",
    "A maneira mais conveniente neste caso é usar a convolução numérica, como fizemos para 1 grau de liberdade.\n",
    "\n",
    "Lembrem-se que para 1 grau de liberdade vimos que:\n",
    "\n",
    "$$ x(t) =  \\int_0^t \\!\\! F(\\tau) g(t-\\tau) \\, d\\tau.$$\n",
    "\n",
    "onde $F(t)$ é a força externa aplicada e $g(t)$ é a resposta ao impulso unitário,\n",
    "\n",
    "$$ g(t) = \\frac{1}{m \\omega_d} e^{-\\zeta \\omega_n t} \\sin \\omega_d t.$$\n",
    "\n",
    "Para este caso particular podemos simplificar a resposta ao impulso unitário, pois todas as massas são unitárias, não há amortecimento, $\\zeta = 0$, e portanto $\\omega_d = \\omega_n$. Então\n",
    "\n",
    "$$ g(t) = \\frac{1}{\\omega_n} \\sin \\omega_n t.$$ Daí vem as equações mostradas no início do notebook.\n",
    "\n",
    "Vamos também definir uma função auxiliar para calcular a convolução numérica da forma que é apropriada para o cálculo da resposta mecânica."
   ]
  },
  {
   "cell_type": "code",
   "execution_count": 45,
   "id": "b875f970-a75e-466b-81e8-a1ddf26917d8",
   "metadata": {},
   "outputs": [],
   "source": [
    "def g(wn, t):\n",
    "    return np.sin(wn*t)/wn\n",
    "\n",
    "def do_conv(Q, g, dt):\n",
    "    return np.convolve(dt*Q, g)[:Q.shape[0]]"
   ]
  },
  {
   "cell_type": "markdown",
   "id": "bd47c67c-ff7e-4770-a655-d4c7e51cb8b7",
   "metadata": {},
   "source": [
    "### Resposta nas coordenadas generalizadas"
   ]
  },
  {
   "cell_type": "code",
   "execution_count": 47,
   "id": "edf49258-d576-4cf3-865f-d71fada92f32",
   "metadata": {},
   "outputs": [],
   "source": [
    "qp = np.empty_like(Q, dtype=np.float64)\n",
    "dt = times[1]-times[0]\n",
    "for i in range(qp.shape[0]):\n",
    "    gi = g(ω[i], times)\n",
    "    qp[i] = do_conv(Q[i], gi, dt)"
   ]
  },
  {
   "cell_type": "markdown",
   "id": "21fd1303-7ac0-4da7-97e0-3ffb1b3d4f34",
   "metadata": {},
   "source": [
    "### Resposta total"
   ]
  },
  {
   "cell_type": "code",
   "execution_count": 51,
   "id": "b55bfd4e-0d6d-4c32-8648-d006bcd16df2",
   "metadata": {},
   "outputs": [],
   "source": [
    "q = qh+qp"
   ]
  },
  {
   "cell_type": "markdown",
   "id": "d91f08ab-005d-4f5e-905a-d0f39ce2e5d6",
   "metadata": {},
   "source": [
    "# Resposta nas coordenadas físicas"
   ]
  },
  {
   "cell_type": "code",
   "execution_count": 54,
   "id": "ddcee1fc-37e3-4a76-86b8-7fe53088f7ae",
   "metadata": {},
   "outputs": [],
   "source": [
    "xt = Xm@q"
   ]
  },
  {
   "cell_type": "code",
   "execution_count": 56,
   "id": "cca05caf-8ceb-448d-8bf3-3db21c431269",
   "metadata": {},
   "outputs": [
    {
     "data": {
      "image/png": "[encoded data removed]",
      "text/plain": [
       "<Figure size 864x432 with 1 Axes>"
      ]
     },
     "metadata": {
      "needs_background": "light"
     },
     "output_type": "display_data"
    }
   ],
   "source": [
    "fig, ax = plt.subplots(figsize=(12,6))\n",
    "_ = ax.plot(times, xt.T)"
   ]
  }
 ],
 "metadata": {
  "kernelspec": {
   "display_name": "Python 3 (ipykernel)",
   "language": "python",
   "name": "python3"
  },
  "language_info": {
   "codemirror_mode": {
    "name": "ipython",
    "version": 3
   },
   "file_extension": ".py",
   "mimetype": "text/x-python",
   "name": "python",
   "nbconvert_exporter": "python",
   "pygments_lexer": "ipython3",
   "version": "3.9.4"
  }
 },
 "nbformat": 4,
 "nbformat_minor": 5
}
