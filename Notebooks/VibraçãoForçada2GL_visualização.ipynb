{
 "cells": [
  {
   "cell_type": "markdown",
   "id": "0a555b5c-20f5-4906-b4e4-1ede6d6dcaa0",
   "metadata": {},
   "source": [
    "# Vibração Forçada 2GL -- Visualização\n",
    "\n",
    "Neste notebook vemos uma visualização do movimento e das magnitudes relativas das forças que agem um\n",
    "problema de vibração forçada com dois graus de liberdade.\n",
    "\n",
    "<img src=\"exemplo_forced.png\">\n",
    "\n",
    "Vamos tratar deste problema específico, com $F_1 = 0$, $F_2 = 1\\,\\mathrm{N}$,  $m_1 = 1\\,\\mathrm{kg}$,\n",
    "$m_2 = 2\\,\\mathrm{kg}$, $c_1 = 0.2\\,\\mathrm{kg/s}$, $c_3 = 0.15\\,\\mathrm{kg/s}$, $k_2 = 40\\,\\mathrm{N/m}$,\n",
    "$k_3 = 30\\,\\mathrm{N/m}$.\n",
    "\n",
    "A força $F_2$ é harmônica, mas a frequência será variável para estudarmos os diferentes comportamentos.\n"
   ]
  },
  {
   "cell_type": "markdown",
   "id": "c1cfb522-a54e-4fc4-981d-006215ca0dfa",
   "metadata": {},
   "source": [
    "##  Setup"
   ]
  },
  {
   "cell_type": "code",
   "execution_count": 54,
   "id": "517ced55-d32a-453c-b565-d9aeca81b9fa",
   "metadata": {},
   "outputs": [],
   "source": [
    "import sympy as sp\n",
    "from sympy import I\n",
    "from sympy.abc import t\n",
    "\n",
    "import numpy as np\n",
    "import matplotlib.pyplot as plt\n",
    "from matplotlib.patches import Ellipse\n",
    "from matplotlib.collections import PatchCollection\n",
    "from matplotlib import animation\n",
    "from IPython.display import HTML"
   ]
  },
  {
   "cell_type": "markdown",
   "id": "ecfdda08-3a50-44aa-9c6e-332509c2a971",
   "metadata": {},
   "source": [
    "## Sistema mecânico\n",
    "Vamos definir o sistema mecânico com as matrizes de massa, rigidez e amortecimento."
   ]
  },
  {
   "cell_type": "code",
   "execution_count": 55,
   "id": "214bd394-4834-4d00-980c-8bd0c4c9e8a0",
   "metadata": {},
   "outputs": [],
   "source": [
    "m = sp.Matrix([[1, 0],\n",
    "               [0, 2]])\n",
    "c = sp.Matrix([[0.2, 0],\n",
    "               [0.0, 0.15]])\n",
    "k = sp.Matrix([[40.0, -40.0],\n",
    "               [-40.0, 70.0]])"
   ]
  },
  {
   "cell_type": "markdown",
   "id": "f213d271-1273-40e2-be39-cde03940b804",
   "metadata": {},
   "source": [
    "## Força externa"
   ]
  },
  {
   "cell_type": "code",
   "execution_count": 56,
   "id": "424fa620-d829-4ea3-9970-36a6a06e6ac2",
   "metadata": {},
   "outputs": [],
   "source": [
    "F0 = sp.Matrix([0.0, 1.0])"
   ]
  },
  {
   "cell_type": "markdown",
   "id": "62c486ce-9058-4675-8afd-98669402c657",
   "metadata": {},
   "source": [
    "## Frequências naturais\n",
    "Apesar de não ser estritamente necessário, sempre é bom calcular as frequências naturais do problema, para ajudar a entender o comportamento."
   ]
  },
  {
   "cell_type": "code",
   "execution_count": 57,
   "id": "c308dcc8-a48c-4605-a887-de192b612e71",
   "metadata": {},
   "outputs": [
    {
     "data": {
      "text/latex": [
       "$\\displaystyle \\left[\\begin{matrix}40.0 - ω_{n}^{2} & -40.0\\\\-40.0 & 70.0 - 2 ω_{n}^{2}\\end{matrix}\\right]$"
      ],
      "text/plain": [
       "Matrix([\n",
       "[40.0 - ω_n**2,           -40.0],\n",
       "[        -40.0, 70.0 - 2*ω_n**2]])"
      ]
     },
     "metadata": {},
     "output_type": "display_data"
    }
   ],
   "source": [
    "ω_n = sp.symbols('ω_n')\n",
    "Z0 = k - ω_n**2 * m\n",
    "display(Z0)"
   ]
  },
  {
   "cell_type": "markdown",
   "id": "94356344-26ff-4af8-bbc7-3f037d9fbfd9",
   "metadata": {},
   "source": [
    "### Equação característica"
   ]
  },
  {
   "cell_type": "code",
   "execution_count": 58,
   "id": "44e43b22-937f-4651-b67b-7b359630055e",
   "metadata": {},
   "outputs": [
    {
     "data": {
      "text/latex": [
       "$\\displaystyle 2 ω_{n}^{4} - 150.0 ω_{n}^{2} + 1200.0$"
      ],
      "text/plain": [
       "2*ω_n**4 - 150.0*ω_n**2 + 1200.0"
      ]
     },
     "metadata": {},
     "output_type": "display_data"
    }
   ],
   "source": [
    "eqc = sp.det(Z0)\n",
    "display(eqc)"
   ]
  },
  {
   "cell_type": "code",
   "execution_count": 59,
   "id": "ec959988-e711-475c-a273-c7ba501c49e4",
   "metadata": {},
   "outputs": [
    {
     "name": "stdout",
     "output_type": "stream",
     "text": [
      "[3.01752518978693, 8.11754530193712]\n"
     ]
    }
   ],
   "source": [
    "roots = sp.solve(eqc, ω_n)\n",
    "roots = [ r for r in roots if r > 0]\n",
    "print(roots)\n",
    "ω_1 = min(roots)\n",
    "ω_2 = max(roots)"
   ]
  },
  {
   "cell_type": "markdown",
   "id": "6ed47add-5ce3-4e68-b41b-8e3549d1045f",
   "metadata": {},
   "source": [
    "## Matriz de impedância mecânica\n",
    "A matriz de impedância mecânica é"
   ]
  },
  {
   "cell_type": "code",
   "execution_count": 60,
   "id": "f61b41da-0c74-4533-91e2-db1aa2889e70",
   "metadata": {},
   "outputs": [
    {
     "data": {
      "text/latex": [
       "$\\displaystyle \\left[\\begin{matrix}- ω^{2} + 0.2 i ω + 40.0 & -40.0\\\\-40.0 & - 2 ω^{2} + 0.15 i ω + 70.0\\end{matrix}\\right]$"
      ],
      "text/plain": [
       "Matrix([\n",
       "[-ω**2 + 0.2*I*ω + 40.0,                     -40.0],\n",
       "[                 -40.0, -2*ω**2 + 0.15*I*ω + 70.0]])"
      ]
     },
     "metadata": {},
     "output_type": "display_data"
    }
   ],
   "source": [
    "ω = sp.symbols('ω', real=True)\n",
    "Ziw = k - ω**2*m + I*ω*c\n",
    "display(Ziw)"
   ]
  },
  {
   "cell_type": "code",
   "execution_count": 61,
   "id": "526b54a6-d310-4d89-9703-4950cdefefee",
   "metadata": {},
   "outputs": [
    {
     "data": {
      "text/latex": [
       "$\\displaystyle \\left[\\begin{matrix}\\frac{- 80.0 ω^{2} + 6.0 i ω + 2800.0}{80.0 ω^{4} - 22.0 i ω^{3} - 6001.2 ω^{2} + 800.0 i ω + 48000.0} & \\frac{1600.0}{80.0 ω^{4} - 22.0 i ω^{3} - 6001.2 ω^{2} + 800.0 i ω + 48000.0}\\\\\\frac{40.0}{2.0 ω^{4} - 0.55 i ω^{3} - 150.03 ω^{2} + 20.0 i ω + 1200.0} & \\frac{- 1.0 ω^{2} + 0.2 i ω + 40.0}{2.0 ω^{4} - 0.55 i ω^{3} - 150.03 ω^{2} + 20.0 i ω + 1200.0}\\end{matrix}\\right]$"
      ],
      "text/plain": [
       "Matrix([\n",
       "[(-80.0*ω**2 + 6.0*I*ω + 2800.0)/(80.0*ω**4 - 22.0*I*ω**3 - 6001.2*ω**2 + 800.0*I*ω + 48000.0),                    1600.0/(80.0*ω**4 - 22.0*I*ω**3 - 6001.2*ω**2 + 800.0*I*ω + 48000.0)],\n",
       "[                              40.0/(2.0*ω**4 - 0.55*I*ω**3 - 150.03*ω**2 + 20.0*I*ω + 1200.0), (-1.0*ω**2 + 0.2*I*ω + 40.0)/(2.0*ω**4 - 0.55*I*ω**3 - 150.03*ω**2 + 20.0*I*ω + 1200.0)]])"
      ]
     },
     "execution_count": 61,
     "metadata": {},
     "output_type": "execute_result"
    }
   ],
   "source": [
    "Ziw.inv()"
   ]
  },
  {
   "cell_type": "markdown",
   "id": "0eb1c2c8-4255-4593-b505-070d42f02c26",
   "metadata": {},
   "source": [
    "## Resolvendo para os deslocamentos"
   ]
  },
  {
   "cell_type": "code",
   "execution_count": 62,
   "id": "82ea9dd6-1557-4906-80e6-54d24ef77545",
   "metadata": {},
   "outputs": [
    {
     "data": {
      "text/latex": [
       "$\\displaystyle \\left[\\begin{matrix}\\frac{1600.0}{80.0 ω^{4} - 22.0 i ω^{3} - 6001.2 ω^{2} + 800.0 i ω + 48000.0}\\\\\\frac{1.0 \\left(- 1.0 ω^{2} + 0.2 i ω + 40.0\\right)}{2.0 ω^{4} - 0.55 i ω^{3} - 150.03 ω^{2} + 20.0 i ω + 1200.0}\\end{matrix}\\right]$"
      ],
      "text/plain": [
       "Matrix([\n",
       "[                       1600.0/(80.0*ω**4 - 22.0*I*ω**3 - 6001.2*ω**2 + 800.0*I*ω + 48000.0)],\n",
       "[1.0*(-1.0*ω**2 + 0.2*I*ω + 40.0)/(2.0*ω**4 - 0.55*I*ω**3 - 150.03*ω**2 + 20.0*I*ω + 1200.0)]])"
      ]
     },
     "metadata": {},
     "output_type": "display_data"
    }
   ],
   "source": [
    "X = Ziw.inv()*F0\n",
    "display(X)"
   ]
  },
  {
   "cell_type": "markdown",
   "id": "07e4af34-21a0-4e64-b178-b5b1a432c1e4",
   "metadata": {},
   "source": [
    "Percebam que os deslocamentos são complexos, com magnitude e fase."
   ]
  },
  {
   "cell_type": "markdown",
   "id": "c97a77bd-5cdc-4b42-a471-fdae476632cc",
   "metadata": {},
   "source": [
    "## Magnitude\n",
    "\n",
    "Vamos calcular a magnitude em função da frequência.\n"
   ]
  },
  {
   "cell_type": "code",
   "execution_count": 63,
   "id": "d67216f5-d370-4f6e-a121-fe156a08ab39",
   "metadata": {},
   "outputs": [
    {
     "data": {
      "text/latex": [
       "$\\displaystyle \\frac{0.0333333333333333}{\\sqrt{2.77777777777778 \\cdot 10^{-6} ω^{8} - 0.000416539930555556 ω^{6} + 0.0189493061805556 ω^{4} - 0.249772222222222 ω^{2} + 1}}$"
      ],
      "text/plain": [
       "0.0333333333333333/sqrt(2.77777777777778e-6*ω**8 - 0.000416539930555556*ω**6 + 0.0189493061805556*ω**4 - 0.249772222222222*ω**2 + 1)"
      ]
     },
     "metadata": {},
     "output_type": "display_data"
    },
    {
     "data": {
      "text/latex": [
       "$\\displaystyle \\frac{0.0333333333333333 \\sqrt{1.73611111111111 \\cdot 10^{-9} ω^{12} - 3.99156901041667 \\cdot 10^{-7} ω^{10} + 3.54376771701389 \\cdot 10^{-5} ω^{8} - 0.00151963914581771 ω^{6} + 0.0320566729861111 ω^{4} - 0.299747222222222 ω^{2} + 1}}{2.77777777777778 \\cdot 10^{-6} ω^{8} - 0.000416539930555556 ω^{6} + 0.0189493061805556 ω^{4} - 0.249772222222222 ω^{2} + 1.0}$"
      ],
      "text/plain": [
       "0.0333333333333333*sqrt(1.73611111111111e-9*ω**12 - 3.99156901041667e-7*ω**10 + 3.54376771701389e-5*ω**8 - 0.00151963914581771*ω**6 + 0.0320566729861111*ω**4 - 0.299747222222222*ω**2 + 1)/(2.77777777777778e-6*ω**8 - 0.000416539930555556*ω**6 + 0.0189493061805556*ω**4 - 0.249772222222222*ω**2 + 1.0)"
      ]
     },
     "metadata": {},
     "output_type": "display_data"
    },
    {
     "data": {
      "image/png": "[encoded data removed]",
      "text/plain": [
       "<Figure size 720x432 with 1 Axes>"
      ]
     },
     "metadata": {
      "needs_background": "light"
     },
     "output_type": "display_data"
    }
   ],
   "source": [
    "x1 = X[0]\n",
    "x2 = X[1]\n",
    "x1m = sp.sqrt(sp.re(x1)**2+sp.im(x1)**2).simplify() # A função embutida dá uma expressão muito complicada\n",
    "x2m = sp.sqrt(sp.re(x2)**2+sp.im(x2)**2).simplify() # idem\n",
    "display(x1m)\n",
    "display(x2m)\n",
    "\n",
    "p1 = sp.plot(x1m, (ω, 0, 1.3*ω_2), size=(10,6), xlabel=\"Frequência circular (rad/s)\", ylabel=\"Amplitude (m)\",\n",
    "             show=False, label=r\"$x_1$\", legend=True) \n",
    "p2 = sp.plot(x2m, (ω, 0, 1.3*ω_2), show=False, label=r\"$x_2$\")\n",
    "p1.extend(p2)\n",
    "p1.show()"
   ]
  },
  {
   "cell_type": "code",
   "execution_count": null,
   "id": "d19c0592-42e4-47e0-9021-30efebd7bb03",
   "metadata": {},
   "outputs": [],
   "source": []
  },
  {
   "cell_type": "markdown",
   "id": "58f200f7-769d-4d15-a785-6026197931ec",
   "metadata": {},
   "source": [
    "## Visualização da resposta\n",
    "\n",
    "Excluindo o transiente é claro.\n",
    "\n",
    "### Frequência da força de excitação"
   ]
  },
  {
   "cell_type": "code",
   "execution_count": 64,
   "id": "f243d6c8-02f1-48bc-a473-86912385062d",
   "metadata": {},
   "outputs": [],
   "source": [
    "ω_f = 4.0 "
   ]
  },
  {
   "cell_type": "code",
   "execution_count": 65,
   "id": "a6d76ccc-4506-484e-bd90-e671b19250bf",
   "metadata": {},
   "outputs": [
    {
     "data": {
      "text/latex": [
       "$\\displaystyle -0.0578540340167199 - 0.00376461295019326 i$"
      ],
      "text/plain": [
       "-0.0578540340167199 - 0.00376461295019326*I"
      ]
     },
     "metadata": {},
     "output_type": "display_data"
    },
    {
     "data": {
      "text/latex": [
       "$\\displaystyle 2.10078847667034 \\cdot 10^{-6} \\left(-688.48 - 44.8 i\\right) \\left(24.0 + 0.8 i\\right)$"
      ],
      "text/plain": [
       "2.10078847667034e-6*(-688.48 - 44.8*I)*(24.0 + 0.8*I)"
      ]
     },
     "metadata": {},
     "output_type": "display_data"
    },
    {
     "data": {
      "text/latex": [
       "$\\displaystyle - 0.0579763879753866 \\cos{\\left(4.0 t + 0.0649792719389888 \\right)}$"
      ],
      "text/plain": [
       "-0.0579763879753866*cos(4.0*t + 0.0649792719389888)"
      ]
     },
     "metadata": {},
     "output_type": "display_data"
    },
    {
     "data": {
      "text/latex": [
       "$\\displaystyle - 0.0348051528826866 \\cos{\\left(4.0 t + 0.0983002678172359 \\right)}$"
      ],
      "text/plain": [
       "-0.0348051528826866*cos(4.0*t + 0.0983002678172359)"
      ]
     },
     "metadata": {},
     "output_type": "display_data"
    }
   ],
   "source": [
    "x1w = x1.subs([(ω, ω_f)])\n",
    "x2w = x2.subs([(ω, ω_f)])\n",
    "display(x1w)\n",
    "display(x2w)               \n",
    "xt1 = sp.Abs(x1w)*sp.cos(ω_f*t+sp.arg(x1w))\n",
    "xt2 = sp.Abs(x2w)*sp.cos(ω_f*t+sp.arg(x2w))\n",
    "display(xt1)\n",
    "display(xt2)"
   ]
  },
  {
   "cell_type": "markdown",
   "id": "097cb81c-b724-4312-b193-014c0844e94a",
   "metadata": {},
   "source": [
    "### Resposta na forma gráfica"
   ]
  },
  {
   "cell_type": "code",
   "execution_count": 66,
   "id": "7e7e303b-83b0-4906-a632-59ff2aace734",
   "metadata": {},
   "outputs": [
    {
     "data": {
      "image/png": "[encoded data removed]",
      "text/plain": [
       "<Figure size 720x432 with 1 Axes>"
      ]
     },
     "metadata": {
      "needs_background": "light"
     },
     "output_type": "display_data"
    }
   ],
   "source": [
    "τe = 2*sp.pi/ω_f\n",
    "p1 = sp.plot(xt1, (t, 0, 5*τe), size=(10,6), xlabel=\"tempo (s)\", ylabel=\"Deslocamento (m)\",\n",
    "             show=False, label=r\"$x_1$\", legend=True, adaptive=False, nb_of_points=600) \n",
    "p2 = sp.plot(xt2, (t, 0, 5*τe), show=False, label=r\"$x_2$\", adaptive=False, nb_of_points=600)\n",
    "p1.extend(p2)\n",
    "p1.show()"
   ]
  },
  {
   "cell_type": "markdown",
   "id": "af142add-6003-4d72-9351-42c96f84fecf",
   "metadata": {},
   "source": [
    "## Animação"
   ]
  },
  {
   "cell_type": "markdown",
   "id": "6a2aabd3-4f96-442a-b65e-50646988b769",
   "metadata": {
    "jp-MarkdownHeadingCollapsed": true,
    "tags": []
   },
   "source": [
    "### Transformação para vetores do NumPy\n",
    "\n",
    "Para trabalhar com o matplotlib, precisamos de vetores numéricos, não simbólicos do SymPy."
   ]
  },
  {
   "cell_type": "code",
   "execution_count": 67,
   "id": "d2e78204-e156-49a7-b4cb-77158cf429f7",
   "metadata": {},
   "outputs": [],
   "source": [
    "fxt1 = sp.lambdify(t, xt1, 'numpy')\n",
    "fxt2 = sp.lambdify(t, xt2, 'numpy')"
   ]
  },
  {
   "cell_type": "markdown",
   "id": "ab7fa993-d5d8-429d-8a91-98deedba7903",
   "metadata": {},
   "source": [
    "### Tempos para plotagem\n",
    "\n",
    "Vamos fazer a animação por alguns períodos, e precisamos de um certo número de pontos em cada período para termos uma animação suave."
   ]
  },
  {
   "cell_type": "code",
   "execution_count": 68,
   "id": "a38a7013-b024-49fc-8b64-293359d80095",
   "metadata": {},
   "outputs": [],
   "source": [
    "nτ = 3\n",
    "npτ = 50\n",
    "τ = 2*np.pi/ω_f\n",
    "times = np.linspace(0, nτ*τ, nτ*npτ)\n",
    "\n",
    "x1n = fxt1(times)\n",
    "x2n = fxt2(times)"
   ]
  },
  {
   "cell_type": "markdown",
   "id": "38941ad1-8b64-444a-95fd-276b446df03d",
   "metadata": {},
   "source": [
    "### Valores máximos\n",
    "\n",
    "Para determinar os limites de plotagem."
   ]
  },
  {
   "cell_type": "code",
   "execution_count": 69,
   "id": "4d782864-f371-4540-a7db-192bfbc416c8",
   "metadata": {},
   "outputs": [
    {
     "name": "stdout",
     "output_type": "stream",
     "text": [
      "0.057976301644533344 0.03480427010208263\n",
      "-0.07826800722012002 0.17223953649574314\n",
      "-0.02783417152398479 0.02783417152398479\n"
     ]
    }
   ],
   "source": [
    "max1 = x1n.max()\n",
    "max2 = x2n.max()\n",
    "print(max1, max2)\n",
    "\n",
    "lref = max1+max2     # comprimento de referência\n",
    "fuzz = 1.35          # uma folga\n",
    "min_dist = fuzz*lref\n",
    "\n",
    "max_dist = fuzz*2.0*(max1+max2)\n",
    "lshape = 0.15*lref   # comprimento característo das massas\n",
    "\n",
    "bbminx = -fuzz*max1\n",
    "bbmaxx = min_dist+fuzz*max2\n",
    "bbminy = -2*lshape\n",
    "bbmaxy = 2*lshape\n",
    "bbdx = bbmaxx - bbminx\n",
    "bbdy = bbmaxy - bbminy\n",
    "print(bbminx, bbmaxx)\n",
    "print(bbminy, bbmaxy)\n",
    "\n",
    "x2n += min_dist                 # to plot m2 on correct place"
   ]
  },
  {
   "cell_type": "markdown",
   "id": "ac51147b-c5e2-4d02-8bf1-9cecf12b6a2c",
   "metadata": {},
   "source": [
    "## Cria animação"
   ]
  },
  {
   "cell_type": "code",
   "execution_count": 72,
   "id": "41599891-abc1-4480-b93d-71d33323e09d",
   "metadata": {
    "tags": []
   },
   "outputs": [],
   "source": [
    "m1 = Ellipse((x1n[0],0), width=lshape, height=0.5*lshape, fc='blue')\n",
    "m2 = Ellipse((x2n[0],0), width=lshape, height=0.5*lshape, fc='red')\n",
    "patches = PatchCollection([m1, m2])\n",
    "\n",
    "ar = bbdx/bbdy\n",
    "fig, ax = plt.subplots()\n",
    "\n",
    "def init():\n",
    "    fig.set_size_inches(14, 14/ar)\n",
    "    ax.set_xlim(left=bbminx, right=bbmaxx)\n",
    "    ax.set_ylim(bottom=bbminy, top=bbmaxy)\n",
    "    ax.add_patch(m1)\n",
    "    ax.add_patch(m2)\n",
    "    m1.center = (x1n[0], 0)\n",
    "    m2.center = (x2n[0], 0)\n",
    "    return m1, m2\n",
    "\n",
    "    \n",
    "def animate(i):\n",
    "    m1.center = (x1n[i], 0)\n",
    "    m2.center = (x2n[i], 0)\n",
    "    return m1, m2\n",
    "\n",
    "anim = animation.FuncAnimation(fig, animate,\n",
    "                               init_func=init,\n",
    "                               frames=x1n.size, \n",
    "                               interval=30,\n",
    "                               blit=True)\n",
    "plt.close(fig)"
   ]
  },
  {
   "cell_type": "markdown",
   "id": "c658e624-30d8-43d2-be68-26bc7e723e82",
   "metadata": {},
   "source": [
    "## Apresenta animação"
   ]
  },
  {
   "cell_type": "code",
   "execution_count": 73,
   "id": "2248d4b6-8a21-40d0-86d1-e154d23e880b",
   "metadata": {},
   "outputs": [
    {
     "data": {
      "text/html": [
       "<video width=\"1008\" height=\"222\" controls autoplay loop>\n",
       "  <source type=\"video/mp4\" src=\"data:video/mp4;base64,AAAAIGZ0eXBNNFYgAAACAE00ViBpc29taXNvMmF2YzEAAAAIZnJlZQAAQ/ltZGF0AAACrgYF//+q\n",
       "3EXpvebZSLeWLNgg2SPu73gyNjQgLSBjb3JlIDE2MCByMzAxMSBjZGU5YTkzIC0gSC4yNjQvTVBF\n",
       "Ry00IEFWQyBjb2RlYyAtIENvcHlsZWZ0IDIwMDMtMjAyMCAtIGh0dHA6Ly93d3cudmlkZW9sYW4u\n",
       "b3JnL3gyNjQuaHRtbCAtIG9wdGlvbnM6IGNhYmFjPTEgcmVmPTMgZGVibG9jaz0xOjA6MCBhbmFs\n",
       "eXNlPTB4MzoweDExMyBtZT1oZXggc3VibWU9NyBwc3k9MSBwc3lfcmQ9MS4wMDowLjAwIG1peGVk\n",
       "X3JlZj0xIG1lX3JhbmdlPTE2IGNocm9tYV9tZT0xIHRyZWxsaXM9MSA4eDhkY3Q9MSBjcW09MCBk\n",
       "ZWFkem9uZT0yMSwxMSBmYXN0X3Bza2lwPTEgY2hyb21hX3FwX29mZnNldD0tMiB0aHJlYWRzPTYg\n",
       "bG9va2FoZWFkX3RocmVhZHM9MSBzbGljZWRfdGhyZWFkcz0wIG5yPTAgZGVjaW1hdGU9MSBpbnRl\n",
       "cmxhY2VkPTAgYmx1cmF5X2NvbXBhdD0wIGNvbnN0cmFpbmVkX2ludHJhPTAgYmZyYW1lcz0zIGJf\n",
       "cHlyYW1pZD0yIGJfYWRhcHQ9MSBiX2JpYXM9MCBkaXJlY3Q9MSB3ZWlnaHRiPTEgb3Blbl9nb3A9\n",
       "MCB3ZWlnaHRwPTIga2V5aW50PTI1MCBrZXlpbnRfbWluPTI1IHNjZW5lY3V0PTQwIGludHJhX3Jl\n",
       "ZnJlc2g9MCByY19sb29rYWhlYWQ9NDAgcmM9Y3JmIG1idHJlZT0xIGNyZj0yMy4wIHFjb21wPTAu\n",
       "NjAgcXBtaW49MCBxcG1heD02OSBxcHN0ZXA9NCBpcF9yYXRpbz0xLjQwIGFxPTE6MS4wMACAAAAK\n",
       "rmWIhAAz//727L4FNf2f0JcRLMXaSnA+KqSAgHc0wAAAAwAAAwAAAwAACkCNDfUG4H+B2vzAdDMD\n",
       "/Gh/Kt2/xqrOmQuEx/rKJCKNG8te+Eqje2AAAAMABJFB9II8/UGQkRYYHsSZMQ8X4ZcIkl9Rpp2C\n",
       "IWVdAvbBiZE/lwL3294qX22mRdXptNTnSgIEw0ErjvijM0nlhS/eyYMRiz8TVwJYWCpNNor0FyJL\n",
       "vF5+fHhwZU8AAAMABSPXkdTr3ZXM+KpNZ352pZk2XTjgMaadAwEcEbZNdT7k9CrqfRAZJJpAHgtb\n",
       "5LeDo+T2SmsP5xUFTUdI5he+NjGi3q2SA2kCCjfNiz4Yx50cnmnwjSmiqIGkGTo1Cst7ERFBRSgR\n",
       "IxGbm/tD0GAQRlNmsrih3LrA04Z34hsABengsY5mQFauL1VGbUXFQn5RvRjAPV8tAOj1zQg/nOMT\n",
       "lKirhUE0fIdLcdLsZJel8+9mEwaHP5htfrhYqs9iUjCF3mZQjgAAAwAAAwAMWViSmwPcmfHHeJUo\n",
       "ipwdcQoCgdCCnDGlrHxJEpyfYYdPG4ZBUV6ikjCx2S1D+NEmliF+W+UB8OfIFYzSeuQwd3flwrG9\n",
       "uyFxkeEK1YEUoNpDSeHlDA3HVlBAAAAb2Sck4wpMk0c3OmTL0azkkV7yFppRcgF6O7F3qHNDJ9As\n",
       "8ZtVW/XYYdOv1RKnhoVRymPhj3jIieCJxI6koSKSc2fdhn+J6yAwsBo7u9lvDpBRKsGDM9TpTQb0\n",
       "PJvMTU961PYvBXxwCwRm6WCUaSvOqwI44mPhgukwbluwL6yurLdmw/XF3gCCnVvdz/3VOaZVDTAB\n",
       "8QlIg6lFkf3Aco8LCl/fR8wn/uZJE2xSM/URLwvQ8Ox4bhfQbNoQ76V2b5d6HCJP+J0EOMQBTbJG\n",
       "stk+oiRdyG93RSRiyo2oBXZYWzFBr7GdvhDQ7adicBabqK7fSebTPGT1Q8mnKimR1DfTM55RtWgC\n",
       "g4b/rj8aDMOnAANOn6h/jmfbIZo8QcQHcuwMYilQT9ichYG7xh21UFWdmpYJtC421M4zU3OCHMKK\n",
       "2qotbfNxDh9GmF4SMyWX3/AY2rIR7voMA2/aYTZWy/EIZqT+oFj60GF9ykGGUH3JOCtU+na5pRJk\n",
       "ot49w6sipTofSVHNw6FrR87xcWABGb2RLHWmuqcxhiecIDzfGuAFZVVtA9xhrNCeWHJgMUXWoMdu\n",
       "dJ266vbV2JXKF4NtofyAqweWl+mHIKFJduXlPyQlxt+3o48ipCwQqv5I6PLHvIG9eSjSRzJqXrYK\n",
       "GJcFrAI8sKQ+dzxpZG3P75PVRN4nEHsMIpDjc99jdnpCrZBynddXcvPjTwPzQn8nuVu53eldRfg7\n",
       "yL/uj6tyBEBIHJbozzh4IqPZhj2ipiFsjH34e6mb0+rZtp6NEFw6Umsc1JChqDk/TJ42mStLe2Pt\n",
       "T5Tn8R0YjwbyLnqWgAUyTDn4lAcbiY3Ked4Q4K7O/N4ffhHnGK9kROdkf4/6enL25LBTHez3/orX\n",
       "pyuGDru5BzZsgfkK+Nlu+Qf8vJl9Y92B+gVe5GMXzLJcMBFkkvhotZxUV2FGkq/1Zo1BgaSzDrB8\n",
       "/h0ETrcDUHLqOgDpdojZqjX/7Jru1HiXnKCB8Tn01A0w2XH9Vr3yQq5L7sjkzk8oiSVVIMn7GPQM\n",
       "jveuyHhy0ViwaWuuXkyrSczB4g4UOOI3Lso6n+Rh3nNUqWMUXFQnQs+ceRBeeCoKO5VyvRXCCDGf\n",
       "ynEgBENin7gH5Rmkc53K989hw5uHwroEJo6omyNMWQRiBfULuYWVlFJG/S3v4Gh0vGQmjwx6cbni\n",
       "Eg9gl+YtKrJwQeSepv+SEhaeBqmBI2NN6BSeAuxw1FdLh0e60JmcoYLxYI8EXbHk1M4v9y7k6CQo\n",
       "WQWNGhA7uq3pa30VZToTnDDW2F+oPQbAHa79xaXEYhvWuDc1epR8kLSGgLIxH3Na2hsjreINiuyf\n",
       "+nxPd/pPgkX5wZaJeVkGMLxoiPCf//gmmUDUoltaJRxO5AE3G+d0oLZ2PvTYXvgnOmbW/eTkQyI4\n",
       "7HnA3Hgo29uXwCUshvIq//u1/muIh1YkYCFeL3hyUoWYgtuYAR1vuhHwWFpyKxg9AlsNIaBEdroA\n",
       "2EZpqLz2u3cABm3vb/S9dhGkXNBbnk3HA+1nhYvuUCdNMF32qFJgfJP2/IVoBLj/kba/5DKvtXXF\n",
       "/sHUCq+/IZpbdXGI+S0S3nTieSaXDfan84ICsu3TZTCPVw54KPfDv5KEkNh/3aKutNO5SfTLUXTn\n",
       "mb65lSEmY0bMA23hD7MBxmd+KQkNZCUAAAMAAaSDTYZyoeAAF2W0YQU0f36sk77TsvqM3TmO3uwF\n",
       "qfRKCWmS90AmjiR0mbh/43sbA38YkGyE8AO/LBcPLMYfh9bnfiFufhtFk1N5+Cl02xWNmQiHv+Wd\n",
       "JA8OHFkuiJeRzqxQv6szV0nY2NM6L7cnZ1DL2BzNwPh5rJ/GsBOSg8WBDrtt1CizbGGBmCrlZRJK\n",
       "Tivflr5FK0McQcHkXeWshx8otlFb6KUP4yj6wpcKQZCZ/vp/G5FxAuhBbkbdrMUg9vEvqXaUa5lI\n",
       "rtSnbZM0Jzb9Zw6tbp/bzC7G6zc1fqby9msZiAPuqvY0hcYW6honO+bElfNhFZz2e3iyIXIvKeJN\n",
       "Xlb0GPjIErGf9M3+J09xTLkpk9SW/dp+TJF9Po4cx+uhmhQFiUYRW4BxX5vLR+FZB/+RJFvwRVl6\n",
       "3E2DkQ081+gcH46Gz5uO4KS+I10rgsX5kQGPVT1rC1BS2IL1zR1ZvRInVzgTooKy/1zkuXxEr0G9\n",
       "W3wtvZy+OIROlc6nO7SE3n8kR32Kkp9XlfoaQdt5lUm2g9sxfY6uWG59gINIgiRW7xkqwtId0SsX\n",
       "Z3oIGi0tOwZrZ8tJAOb//HPBjY1fBv6HaVZsB4OH8gHKqot4VyeMzyG+uUhm3xuqP0R1qL2P8NnJ\n",
       "RZuuaSUWZNWbS5v3mida5WPPGz13Mk1MjFM1Hg1JVNTeJ11I/EuUol4hFdKuCzvQgHUO4IxOUUWq\n",
       "CSLbuvzfFMysrAutvmdi2Q2r7wBPaFUmMJu8ijRcAPiPrHvoOZa4Or2nlqmmncclHpPcEbMd2PS4\n",
       "rko1V3gdt9x07elzzta8U59UWTNUfhnErDI8HdbiRUV8gG2B0Fd9VeAk6sVxZjPxqQc2bsFGyaPa\n",
       "11y0WovwH5niEqpg4Eljz/BLVhpG7qnyo6DqKwFubzyP1mxpAECFsgiWANni/aGlIta+UI+CsJTA\n",
       "XHekq49P4lx3Ll+tM8yuf8u7v+YnUVlv0sPZ+1p4SeD6y3bM7Ru77R2QCmIa9tavWp6JX+bXg9+j\n",
       "LqPuvqbY9LWCYETI1+dA+XVSF7zsuurnSnqfILTtakF26Xo3yXPhaQvDHZUwAPNaDp7jPMBTIa8d\n",
       "3uo0RGNskVeumVUZ7i6Y6cKFyrVXn9+7Q1kHGVsByJ5XZqi4YnaEraJxIGDrfa46CFjrPXdXa08f\n",
       "hp2xEEL8Wqd0rMsUHogl/+z5hvcRxVoQWZnQ+Cl74j6XK17SE4WjOmazHSLWiZ+Oy3N5SFtDTOkF\n",
       "ZLkD00WkpqeoYXmuswHHOLlGezScYXhZeVTwpKllvCutGs6eIREEWVlgGiVCt1r+v4f60CUI+mEA\n",
       "AAC3QZojbEL//oywADFZd2wCYO6fowgR1I2o2uHJoFVM93238p9vhNxyEXFOolZEyhGZqHeeM/c0\n",
       "Tabqkj3/mPMo90qSHNw3mMDrMxqZ6wWjiLCHLhgqQpp7Yev2gLVa0W6f4+vhjp7ljDQJcdVV2xiv\n",
       "mYyVwTEXK2IgmFskQdDSbkSZsLXXwn1v43EniHbIYy2E/Z/yVAgt8MI4pAZPymhJQwGx2jAdiDC9\n",
       "WwpbUJUGW9LKBWwXGibgAAAANUGeQXiE/wANMKZWbMzRz9eCEkcESN9AzWKK2T6aiGjgxcv9sPYc\n",
       "9NdB4XlPlEhIoJO8cr9xAAAAMgGeYmpCfwAAGIEvNPFWYCuzVAAL62aztnCJCq6vutdKoyaSCyDT\n",
       "gIZUyopbxaZYhn9IAAAAW0GaZUmoQWiZTBTwv/6MsAAAWb2s3B0GDnO5SXDa9yOyAEtWHUvMqXy/\n",
       "9NKCoTZ7lrBgdtXf2L+hHi4q287+t3fjVsSKnDS9+v67bXmtPL3J+yWOeHcOq/aLUUEAAAAyAZ6E\n",
       "akJ/AAAX4ThM3QQCegmuVXPWAntyJ/7ldhREWGO8Oq3xLMAZoa/1lIdpqbIAl4EAAABpQZqGSeEK\n",
       "UmUwIX/+jLAAAFU5lepywM/AAl1OzBF0hNhHCQ0S2XKzD3OlqAOAlWgx/xJS2VLieTwF0XM0a/vq\n",
       "xNz8rnmI74JjgdJur9JqEg9HTGaMQfNfl5O9TnB0/1Qg/JgXixjvFCaRAAAAXEGap0nhDomUwIX/\n",
       "/oywAABS+ZcmfJQdzI4yHQAtT6UxzhC49Th2i+LK5itoVl+glew8lBe65QAO8XVcB2i23C0N1H6/\n",
       "gxIN4O4yH4XZUGdVWVLDTCoWQJQJx5aBAAAAekGayEnhDyZTAhf//oywAABQvzOAOVCKbCrcMfkW\n",
       "eVLbV2R32sM6LntU5YpGxIPHwGV9aC5FN7HciztFfs0Cn8bNxaA0rZVzhDdvCUJYULbe/lXWL2jf\n",
       "BMFFE7Ue6qV/AbbINK7FzumZDQyJkaHwl+n7jcp761HY8CrYAAAAdEGa6UnhDyZTAhf//oywAABO\n",
       "f1KE3BFUYkUANgmIeubJHA8d3pHQkIChbVWEgi8yfLmKK4T4ZvKOQQ7//ZSp7NAtpvMtYsOMipic\n",
       "x52aZr+3rsh7MQjAOtdnEutdA5MtvsGau56dCFKPZmqMTDAopQnaDqDgAAAATkGbCknhDyZTAhf/\n",
       "/oywAABMficR+vvkVW1UnG9Oyp3nYFwAF5Cp4b1mNoj6LPlWomLKIIRkzWnkkg3xWQIHTbiBiA4q\n",
       "RcGZQygmzK7X0QAAAHFBmytJ4Q8mUwIX//6MsAAASHpvP25+bkdAC3hbwgZMvIRZw06rIgdmjgGg\n",
       "z2d4+NkXI7cehwaSYyCzRT6zG/teEVa170HLf9cGFApqJQqXF4YRuYD5jaifow+K354E6/qgogx0\n",
       "sgBbTW9TGTU801K1QAAAAG5Bm0xJ4Q8mUwIX//6MsAAARn4mErQ6TvcAHSFc6zkO58KeVRPYuFUe\n",
       "Esq5epaeW8IgxkzcdEIF6LgRFVmJhWsxOSqrHELDCzCzhkHCcg24vpyapIDgCl3GLkSQMCo2sjOG\n",
       "z6RaWzE6absLiEgEhAAAAHNBm21J4Q8mUwIX//6MsAAARH4nEfr75GTnXHAC11OrtLpGKP+uaghr\n",
       "U+Q2mkBVkb3ImSu4rK73jzBpWZtCylMlyfT9hGVcWU9BVcnp2cZNTIcHZH9r0paGVnvy4hXxAnRk\n",
       "Yj5mCzqe1HRNd5CZ/8N89PaBAAAASUGbjknhDyZTAhf//oywAABAELgBrRzdI5AA0FkYmDcYhSgt\n",
       "e49WREkklm1oK9jfxgDvr3+dwfIdpPmvlgI2gQGqrYKUVG1QtoEAAABJQZuvSeEPJlMCF//+jLAA\n",
       "AD6+t1z74lv22j1mNnvdzX3JomfTF5cIm0bXAkFSiMHxmrg6MJ/qVJnQH6RmifUfNtixjbAPMliB\n",
       "6QAAAH5Bm9BJ4Q8mUwIX//6MsAAAO/wnPLP3fCKaKgAtil9hO3IDZOsPrgWop4A8KYKKVVt+1aKa\n",
       "BfyZcpNKvq3kYemF4ZNeEpsWFyeAvdE3EQb4CBXfKytAxGBq5XxzcOPg6iH/q+p4AV5rPi/FnnUo\n",
       "tgZd0AaEs/yUSW9oHAHouGAAAACLQZvxSeEPJlMCF//+jLAAADqcJ0WAZdI0wAh0kYfOWGn1XdUm\n",
       "az4cym8fPMozeXgBIy3SvsjmF3zqXw3wgrS78zW9q4UMOjXLqMWorxDhEo/f62o2TFir0fQpaTn5\n",
       "AITtTSRlSkPDJ5ZQ23Z85YWnmTHAs2T8ulqrqNKgHLiBc9pHOGJzCJM42pDXYAAAAFNBmhJJ4Q8m\n",
       "UwIX//6MsAAAOT62hdkO7gAILDj57kdn2AITvEc/x+4aGkLI+AvuJnXeeAHzx9q8r/Ifb+EVFnu5\n",
       "JkqMb+/AZo+zwiOXbU+P8PBG8QAAAHVBmjNJ4Q8mUwIZ//6eEAABDvixau7Bxs2qToACCWBF4sYf\n",
       "7Bcsq7I1Q0GJ/011eLsma84XFhWj4jobkpwxJnOJ8qVmSN8De3WaBfSV2ALqr1S4rytKWxnzBzaB\n",
       "K/oCNw0oyvpwIzmIE2CleMudTtOeOVkaPdAAAAB+QZpUSeEPJlMCGf/+nhAAADY8JzxO3JvFAA42\n",
       "3Dv57YebfpV5pK/cXMxVndasNk49XJfeXeKjJQWrRO4IaQOdWqucd7fCVoPPvvZ5J7w5i/hv/yG7\n",
       "y0xv79XmOqt4MlCIMx7JBevFqhCxWozL/kY97xS1Zp1wOkbUJXSaxYkoAAAAZkGadUnhDyZTAhv/\n",
       "/qeEAAANjwnkzXz0qwACTDUcfvo3wXnDQCjwXQHptanriFnigB6ubN+uQ8GAEjohuY79c05VSHv+\n",
       "BVIM4QJy1+A70SOoIzo0cmPu5tYZWwM6sQGIV4qf0QmbHQAAAHRBmplJ4Q8mUwIZ//6eEAAAk3xY\n",
       "u/7GkEGiayHVeBP1bANQm79Qms61K082q/lA0NzoKLPhWDA59lgT3PTnZpKwGke4ar1LbUMUpLRQ\n",
       "e8dGwrb105mQUDI5RCTs/wnqB3P3keWGC2YlTi2GO/aDt+jHam0tgAAAADVBnrdFETwr/wAAHmA/\n",
       "YHl3f7xw0VH/ed35wAGejIWVrb18wBqqTUeJCnJB0JwdK0k+V1S0aQAAACoBntZ0Qn8AACfIyLbW\n",
       "nVvaj38kfEAi72zQSn+vCJW/xTizvwjriBhqA8EAAAAqAZ7YakJ/AAAN0JiERwwdxQ+GB4uGt5M6\n",
       "pBk3gV8DqfPoZ8Qtf6fEnQGBAAAAZEGa3UmoQWiZTAhf//6MsAAANRpViMAABwhbImC0D2hsusxP\n",
       "GHUs4dqKlwqfmLDLug6cR3Low+fUNspba3JZQCkPsrSa/dccq4xwZR5Fs/0PyFAmn4g/p5IXSK4x\n",
       "cdZ4ZgNa0IEAAABKQZ77RREsK/8AABWT3RxO6z6k4gycmwiKp4x8eUAGcws+ImHQ4M/b3U42GMv6\n",
       "ViFL4ZJ52DvNuggrCoU0yFYwj8Wr2KQpQkjmI2AAAAArAZ8adEJ/AAAN06yWvzHPacREaPn/2iLp\n",
       "yXrnyaQAsrYrr03hDX8yUnaNMQAAADoBnxxqQn8AAA4rRVUhcAD+Ep7UCi62UV3FzdtYxnrT2g03\n",
       "fPyXthZWnHnYLaEz3JDXkrzSNsHjmHVBAAAAbkGbH0moQWyZTBRML//+jLAAADegWxNRgrOorm0+\n",
       "AixZWaTpIGHloqBbaADXR4i9meLPxyW5jJyrzZLLXNrsLHs5Gb1Wrnw9gJYgoN+qlet0Boekn9lo\n",
       "iJgsfqL4DEahk+U0NF017y7uh8xwPWGwAAAAMgGfPmpCfwAADtu/7r1w/SDfTCSbc1V4TK0FOHB5\n",
       "KGN+Ac0EwqfoeJFUdJrcMFj2nxeAAAAATkGbIEnhClJlMCF//oywAAA43NmyK0SFtyAnLreV/vdU\n",
       "9SH4AcHfpGcukpC04O39XM8GgWZ3MWSOrvhqGg5YTuUsISwcipGO50hqrbiUWQAAAFRBm0FJ4Q6J\n",
       "lMCF//6MsAAAO+hixstYBB/PJyyR0cEaAJ/DL29zx5o1WrWNQ1CtMdbt6F6sgnk43GqqdSL+q66H\n",
       "orrBQWmM0/T+nZ7DuJ2s7vYMLXAAAABoQZtjSeEPJlMFETwv//6MsAAAPlzrOwnwALoPNgaMwWnX\n",
       "c5TCGYi9FEK2ZXIu/aZdabglEdJixddRAtEyhpbrNN5IRYDMge9XoDVHlgVgBs3LXCX8sR0ltuQD\n",
       "9awotMiMHxGMXf4qMJEAAAA0AZ+CakJ/AAAQ3bBVdAnzEU0AybOnqaMfi2nx87aF1E/FUmnutjZS\n",
       "B+pyF2ZR21j+cONbmAAAAIpBm4RJ4Q8mUwIX//6MsAAAQlYrsCwABVDtcBx4mGfqkdbj+GWdd6Xt\n",
       "KYqySAU7iSOd+ooo6OwBxsk9YUp8TUgTWiZA0hAHcNlocTYbKnzj2SwrK8oXihlOXA6wt+gEsTFv\n",
       "HANgknzIqNIdP86bw2ZvbQiOjv1H7l5M7Ah0G/wZLr/04jQnqRAPr8EAAABzQZulSeEPJlMCF//+\n",
       "jLAAAEPygMRVuhuyAAlaD/+kI1qwTm06FQrFYQ0A53BCKvSAU1J7y5eW+pANChiuhP+MqXA6yeon\n",
       "rxwCgZvxxKMYCMPnoYDeVaxzRVLawaKsD3vJH/GsD/ozYcpouAjxGFaLM0dn/QAAAIFBm8ZJ4Q8m\n",
       "UwIX//6MsAAASFYrwkY3oK/1J8Bc9vI+3NoP5vF7+L9mjNBZksa2/Ag3XAH6iFKh7JC30AcFOLQV\n",
       "sPrBx+32gYNItlqjjA0Pp7x09zEgPAecvDp1wJ2Blg0jilhTHXy6guaYnadY4dBMaV0gK+r7Ppv1\n",
       "CggWakAIm+sAAAB0QZvnSeEPJlMCF//+jLAAAEn0wvfi3B9TgB/NIa2HOsoc55b+3bBrkTg9Lyy7\n",
       "CUXGHkIxXgjdL28+UQHaa2GLO1+WqUwSKFCu2hDm2Iro65MHCJZFRdG08377FtLBXQ7dxGSCkHOw\n",
       "T9WbAJ8lo+En1tI5TzEAAABsQZoISeEPJlMCF//+jLAAAExeYunjxTWD4AG40+HrUeSR6ezOG3Yh\n",
       "6ZhY7iTmKRo+hN9lihr3ff1P1XiHdI7qnqq8xSLYLL++m5vmUeSKx1dF706hJ4eeM++3yMH3D8EQ\n",
       "nS2UBLvug3mPQcGAAAAAhUGaKUnhDyZTAhn//p4QAABPa+LBryAF4EmJPZyRWhg0TW/d8v2f3W+G\n",
       "mvssBFDKCZpVq+1HZ8PgBt5J8zGMl6xemVttJTxiLS3IyDCQ5rhNrCLhOgkRjeaUN9peDfX65hin\n",
       "yoDyFy5o521CL+9H5Ut2GiEncT+yahte6pPVYVduxw3izaAAAACRQZpKSeEPJlMCGf/+nhAAAFGr\n",
       "4ItjgCp63+5nedPzMYsk8phban7dGJ176t8Hi40YH32u5MTAaEH8eS/bhayFCN6dLZj8RWiqQF4Y\n",
       "U8ipcObJA6F53lFW5Ll7TNl3X1k9BiyaK9/QQdQ/pD8PawV6lfO2sDG8XM//NMYtfW0eSSXwlyds\n",
       "RRGZ3ErGeMxhjvKXYwAAAH5BmmxJ4Q8mUwURPDP//p4QAADE+x4S96SZxR0tUS9iSFwNIA6H6zvo\n",
       "e54LADf1q9T1UBZaNyUtpz94VRBK80YXo9WwSB5v0NFbUyZn89/g+KPZnqfz9zp3bAQtnlyxFcaX\n",
       "2JPB6AcQQseUfOsTNa0+foNkADozIU2giystTcAAAAA0AZ6LakJ/AAA0wqaXVKpcUbZ04htTHPZb\n",
       "XB3ShhFczXXgc1MdGp+8uBHacehDtC5FtxSI2AAAAJVBmo5J4Q8mUwU8M//+nhAAAFhr5aViAFtG\n",
       "22B0AHtjNPWDqw1sdCctcBBrNrtAvLYgDtpGwVDDqFeHo/RZ1g4rJ8DDFNgq8WVyYeUWqtLTzyN1\n",
       "prlwv5/FVKKQQ/s6XWCe97x6qPa+z8sqQElCNEPbKS16/DCKHEW/M4mMVwIpKT35sLfXqoXQwhiA\n",
       "mBUqrvVJ01Tc0QAAADABnq1qQn8AAHbeJRIuK9YQhhIRLVSA0cXJiYMNojD2CYr/zt3faikw8PIg\n",
       "gnlrwg8AAABaQZqySeEPJlMCGf/+nhAAAFrZC4AoABdCAZo1nrgMDGzjY4hc1rz0vn6ydMt7GCQt\n",
       "KsVWHRGkW8qtI1Uc/YSNHE5lFWbT3J6lfbXmX7cOn9FqSr5gnxK2NylVAAAAN0Ge0EURPCv/AABd\n",
       "GnFTYIOuEuAlNAt/QAL9PCrAxDY6rqE0dzeuIhE2oxYL7CCZ6dRPMCeuHZsAAAAqAZ7vdEJ/AAAY\n",
       "h5XW5w5EAk3zgXCNMmcbpBkO/SC7XfTCGqpmuXMcLwMGAAAALwGe8WpCfwAAGH/PhwAbbszSkjFy\n",
       "V6imayMjc5EkLqWqQ50PE6Pvo0qJ24Mj4WBpAAAAYUGa9UmoQWiZTAhf//6MsAAAW/2qyy+ufABW\n",
       "3ZglyxWUecFbFqHrOqCwRf19/PBWXgzwZwA8yT0knobPAjaEPTgYFKt/1NKf540Pw8ZQmchULbec\n",
       "M1mpDZc2jKs1jo0AqfAAAAAxQZ8TRREsJ/8AABh/XD0c+WvNQBcj3PV4ti8dj5IA+tnd9rcSMvwM\n",
       "THVW3haKci8xWgAAAC8BnzRqQn8AABiBOEPkbzNf9Ju3ldqGmTlWUABacqXqTymLeR9fO9Q20FDi\n",
       "ChCQgQAAAFpBmzZJqEFsmUwIX//+jLAAAFm9qsrbogABwPysaEkdERTPC7/aXThYqqPeqZm2sa7r\n",
       "FHpc629V0sVH2Rt5595b31XgPjwFxZwsxpA3S0wlQD6fHt/4P9/dPXAAAABbQZtXSeEKUmUwIX/+\n",
       "jLAAAFb9EAUYHXgajQAJZ3vEN8CYDvRZ/3/NAlUf862st+fiYvPohyptT5jq7YRMyp7NA2BLrK1t\n",
       "DfPp/swqQsCWc3Wr1rouELCNpCTDBwAAAGpBm3hJ4Q6JlMCF//6MsAAAVTmV7MJxBLAAS1LsGwds\n",
       "22w51VcBZ2pyVj6YYVr2ondxka3oJdPmtBXBEEHTEMAG32GQLuOfUYQxpqWCj0GrL25JgK5uDgWQ\n",
       "efTOXQRYxcKj3Hm7w5YNdHptAAAAZUGbmUnhDyZTAhf//oywAABS+ZcgyzM/jABV1+UffVDQnDx9\n",
       "A1KLrVHoAgWxAsLNOr2EMj4aD1J2te738JqbnpI6cyyVXMBg2B340svEUpt1WPyN18ColEwnJ8jW\n",
       "1gOdNljlXQyoAAAAZkGbuknhDyZTAhf//oywAABQKp3Tk9o16AHHl05cYt1KJCgUMSXvYsbdx6Mf\n",
       "uLPTWbnyjAGd+Wmn/0RvS+GjzVl6Hv/i9HbsoYWNzv/1xpBhU5Pxnepuo74h9b0xNUacO95z9lgt\n",
       "swAAAFVBm9tJ4Q8mUwIX//6MsAAATn4nEfsf/uOPMABLGvxIMWPmJr7euA9fzOAWRS7iZI98rQYy\n",
       "Xcec7fkM21BFU3knfx/NTJ8+0l5aQIJKaCJ2zVcsapeAAAAAWkGb/EnhDyZTAhf//oywAABMficR\n",
       "+xcBnscPADiqt0HPd2VWkdYeBlpzFX29xV4bDewydZNfL6Y1zvp09+KqoKyrNqYblX0ZonUSS1kg\n",
       "NRHRLrCLsuR4VGpTgQAAAFZBmh1J4Q8mUwIX//6MsAAASH4mErQ15nwBSRbyjhfORBTGRk/rrDAW\n",
       "C/SXF+LFCyu33ejDxYRNpkzbUec/oL6SWOX+FGnXdhUmLlUsxMb3hqRNbrOJIQAAAINBmj5J4Q8m\n",
       "UwIX//6MsAAARn4nEfrv0S1UADwwy+NEYo/PHMR+fRB5Epb3IbxO9xKqvV/PFtMqun6c2O2AI4jN\n",
       "2yQQ0F6/EPlXv1sp9IWIh9IxaTqBlD/4J0cJOFr55zYcJzLecX9GXaswFOxuwK1WsDY6wJLGUXqM\n",
       "45MRlV3uy3YYoAAAAIxBml9J4Q8mUwIX//6MsAAAQn4IQ0QdJ4ANuG/pd3dlZWRUqZH+mq78gkVT\n",
       "rrY5PKW5fgzo9z9gHWqY0sISqFdHDYeqvRtyR9GthdjpUA4zbE+ggvRR3wc6r27vqbJ1dgU8S0/S\n",
       "1Z0sd+Otm9LMLnhyqdY0OjvV0rpav4YpzCxDnNMIPcJVKWI5sHZg6gAAAGRBmmBJ4Q8mUwIX//6M\n",
       "sAAAQH4nEfsEhwe1XGhgAK626Qlqwzy/MPJ7dwxWfk82/f8yVnfMAVzrBb4qyuStLSiZ//WkfAQA\n",
       "K8yiEcuNZ7pqWUpqv+1xOAsbH3WafM3hn1PCyIGhAAAATkGagUnhDyZTAhf//oywAAA+vrdc/A4r\n",
       "fgdZtT5HmHQ8MY/pwwAp768CClEPJ6Kau2LIbz7UEK2kjs/So801MAkggEhiDYLV0Y6LmCZBTQAA\n",
       "AHpBmqJJ4Q8mUwIX//6MsAAAO/wnSkzWX57ABvzQZdoz2AMxdet+2Jgz0pNncqX6sUwqdfA1yzlx\n",
       "WUZllqLYUHnci4EKg15S7IHKkEryFDetKD9kkcKWFvrmWJlhR7xj974ZkGwuHqcVD0qgHlGakiCA\n",
       "oZFzX3nJb1+kQQAAAH1BmsNJ4Q8mUwIX//6MsAAAOp62hdk3T+IQgCDciyI5iSu8hEwo5UJrn6/O\n",
       "8hvfIv7DyPOSR4kjWA/PFX1cbBeT4f0pDeJlWknUj/G5GDVCCB1H+p9LpPIunnIyEgCWhaS9nTpW\n",
       "DIHLTToQkXICPpC7VE7gRfRlCdWOvEE0lgAAAHdBmuRJ4Q8mUwIX//6MsAAAOT62fubYS+J89b4G\n",
       "voDF8jT3ihjX1cghaa7aoYujsFhSBuqxSRiER7/qnpj5hhYJlqQYl+iaPd5hRTkoeRfvf2Sckv/z\n",
       "qCYQTTzVzBjAP681SyDOSTQTuNeBwtqzRtzKPfGR/MpugQAAAGdBmwVJ4Q8mUwIZ//6eEAAAN36z\n",
       "kO35YsAB0hgvjNtkjnHyr8GbCHtkWBPdujdQskdwRDghxzDGJQLWv7zbIYosRlBA/awBrR0K7F+Q\n",
       "ynXYsy/eS7Ip4Eok3tvkViLE5Ao4wS1emIIPAAAAcUGbJknhDyZTAhn//p4QAAA2PCc61dZEQAbj\n",
       "NseRZoJ17rvW85CG3ccEDfjFemOz5d4rYOqWQMnPusJCwn0Wlbrh8XpgwRG+MAKsf8jYdvumHEZM\n",
       "HuoWiR+9aI1PuiyelhsRpvvA7qL8Xfq6RXeFntxBAAAAiUGbSUnhDyZTAhn//p4QAAA0/CdG5wLs\n",
       "WEv68BPT6Ax9x45BP9Diad9DRXXyKPqls8EDym304i+xaiz7F8EOjRfe3aDFgI/6nl9CYwlxdqic\n",
       "pExgkUM43IkVfiu/0qBjtF1FK7Lhg4mLR7NqgT5/rKV39Nc8kiL1f5Gd/xOZTs/3IOQIMxyC2SGh\n",
       "AAAAL0GfZ0URPCf/AAAOKDzhXQ5Y1nOlUrh5KxCR6w3WIuNXeInHevZhq8DDa6CfhBjgAAAAJgGf\n",
       "iGpCfwAADdNCeb/P4oOmP5y9C/sJeUBg9cnjrFTq3bgVMOooAAAAZUGbjEmoQWiZTAhn//6eEAAA\n",
       "M6I0PpDgBtYuMehmnqz8Z56N7mD73aErf2La/1VDhXiBDeYF0msBqJpCu+4ydsW18lsJhqvONXeX\n",
       "ve9XJ65eNGpYmP+uJBKk4SUME3lhieYiHbzpAAAANUGfqkURLCf/AAANs5+uDFChAAQq6yGMmpbI\n",
       "DcHxSuis4mMoGXRFj58GAf6sWckd0VmDRy1AAAAAMgGfy2pCfwAADdX+/gDmCn4Wz7AJMznbdKLX\n",
       "W5+zwST8T+b3Zrlh1RxxJQ0bcmMZgCggAAAAjkGbz0moQWyZTAhf//6MsAAANktVz0ngBbxae75B\n",
       "A6h/dH6t8Rw4QJIXbslolRqqgOyg0qL5ePqG0fCoUESsoqIzXF4hjT+EcPrFutBjkGoTDmUpEKVm\n",
       "krVMRM7RbJBQxDcjopCXVJJ6uSbl+AFAmLuQ4aBFkZ/HtA7RB21gNQ0O2IGaR80mAmD8BLmbcdMA\n",
       "AAA2QZ/tRRUsJ/8AAA6DwEgqC5y+fu9Du5RitAUBVGo0qADFTkFkKmqjTbeKqz5KhnkN44nCwGjB\n",
       "AAAAKwGeDmpCfwAADoPBk8VcwKpGvAB9x3T9hUmw7F3yTmBxbujTrkxA3r6MAQMAAACJQZoRSahB\n",
       "bJlMFEwv//6MsAAAOPptqZ+rAH4trDcpEH8dK+ynSxSqSzK+pCjYKuca0lhjg3qIeqM5Y3LLIaj5\n",
       "N88UBIoKIDH7vuxg3JFBkjT8JzoMtRas/A5Ttk+NmN19NLzCcjs6CQK6tscfoPYBbW61g5T7dARp\n",
       "Xmq5AoaFv2S863+GpVlX5CsAAABCAZ4wakJ/AAAPM7/vKhIXgCJeoDmjaKFuk31+uNyXdaPArfuJ\n",
       "+vdYIrmx+4WrUoEcqFe9CeS76NEvAruSM8y13cRkAAAAZUGaMknhClJlMCF//oywAAA6g3O1Rrs+\n",
       "tz0wGGhKQAWhT5+AwzEPaf6CYbFAtgDZY0cIDwRpD/aEuGhlCTZl8X/UFdJGoZXfXR7ICkfXXRi/\n",
       "Yr3438cuSnMCSLZHQlNRZjl/L8fBAAAAXkGaU0nhDomUwIX//oywAAA7nNwGk2ZQx4/pC46ACGmo\n",
       "oldnM72XafsGM6T96QtII26SJOY507Q0JUvufEo2Jyb8rgrPLKvDX9S1xLPbLwhJwdQcYolZyKce\n",
       "1Eo0qEAAAABVQZp0SeEPJlMCF//+jLAAAD0LGKaOLwFMBlnWpE6lFuDwA2eJWxb7YRYc5U4kgAkk\n",
       "YG4lqufCyrX8QvUrrvwxps31XiEZkn0Npb49qZv8rgoOTl5UowAAAJ1BmpVJ4Q8mUwIX//6MsAAA\n",
       "QAHPiYMAIoAIyK74uzaNH7i4wjoIamrWIRCNF+/+4y25xSujEVV2g3NHIIlKNx6Nl4DRn2KRPpY0\n",
       "PYM7nvjDVPM77wXBe+5Dl/HGHRO4Sm419v0swjT0CoYmGPHqLYef9AFocSUYCgHeBNOJkHzIbFfO\n",
       "4Mxl5uRarMw8pFjWdyZW1n0dRNGQgwm3+2BlAAAAZUGatknhDyZTAhf//oywAABCELf/c+AFYm9b\n",
       "9w/slsxJ8gTkKzL795onCfqzUqs58x9axgkVxbvr8+tekjEa5+yoLJWHiDtOuRxjdAgd8RO9zVJ2\n",
       "PMcb8hFOeZEXKt6y/bWNYsGAAAAAbUGa10nhDyZTAhf//oywAABGAdAqXwBax4aHaS4m17gOXI2K\n",
       "oE4avS7PWdgnlgUyKgNVf6UUTYAlkrWUDJoePE1NHMRmDj2ytB6o5oYvXnOaBXOXjKjaZIHSKMI0\n",
       "dXUXjgp1xoC5ZxACyWdXAUEAAAB8QZr4SeEPJlMCF//+jLAAAEg0O/GAzJIgGt5Flo7wBPR7Fzqb\n",
       "d1MJ9f552nyvErQqHUAvh9L6E0yrVB+h1ChBk0KMMYPC1CxqUvz94wjeLjkh36DZ/EQxYVP2Er8k\n",
       "NxvUIVIm9NXbXWREfvVPBG+Ql/9jWOOydpwNhWBqQQAAAFVBmxlJ4Q8mUwIX//6MsAAASgHPMti5\n",
       "qhxLQzLBPnIKWnJ3hwA+MH7I9XTHH8PnHriKwryEZW3870V+sU4//ezuJbS+RsZegKS++F25Q+Er\n",
       "dw+xTnQgAAAAj0GbOknhDyZTAhn//p4QAABNllk5mdwAqebWaIbE41iPeZJAVyLl5/mWZa1WaJaF\n",
       "fT5TqNrrfXRiSj0EaqhZLRTm2RCLb2boK3VPCkqTVT3pGCdVxHSG7N41mtzu7S8U7kQCfqLTEVef\n",
       "PrEafOdN+hn34rt2nsIZOUsgPfHyh5raWkCjQS8AC1gLpzYyRlLBAAAAbkGbW0nhDyZTAhn//p4Q\n",
       "AABP1IH/ecj9gAqYYWWO7u1DoMUVkRb5dlmm7M+L+oqKv0fEKhJwttG35T7GUWvknQPYqiE0buV9\n",
       "MsWHk6T+pCqf1fkB8XCalXkX7FmD3ZOR1LeMHpL3n0JlygHs9QZgAAAAlEGbfUnhDyZTBRE8M//+\n",
       "nhAAAX/2PAL3pQcqLACTRUbfrFe5as4ysNGdKS/+QTrOEi4Mt9cZff5g1NW7V3LdvPEpPeH/JOjL\n",
       "/NIgg/I+jAsKT2KT/FKhbmYCbM/EfnYrc6rlrSVj9opJupo9L02R9rKDTa6XSowa/ZmhW7uGpzXE\n",
       "Op+Sjan9MdERZpRYTwoUL0vZZxEAAAA1AZ+cakJ/AABnBTR3XZMvMgQyTTh9wekJs1griQinjU0B\n",
       "yG+gBJAwBdkB0cDJZJnWF3VegysAAAB8QZufSeEPJlMFPDf//qeEAAAWw8kJMzgBsE5WzP8+NoHc\n",
       "flEwK55e+oPVLZfB7a7GPDl9U/9RvUxVd/MfdimcQZTeBQj9tfY6sE3/M8cae1ZFOVUrKzQOoIWv\n",
       "saP68smNWlIw84drwLu+XlEz4zLTb0x3VvYWWRyPF71PYAAAADABn75qQn8AABfnd7fQ1XpYjSxe\n",
       "EiT6F3UjV0o4aiWmf5BdEhHJIxZa0YhmL/WQgYAAAACGQZujSeEPJlMCGf/+nhAAAFqr4vZvQAlq\n",
       "X/ox5Vrx/wHBlglL19DfHCtCLotvFoCOMcvSTqH/TFGRY9FlI+l/bb4yCml3CaH6GJG3m0LTQ4lw\n",
       "TVXinDFYn2QlT1ODwFdyyT8VcfNlSLhxQZp5p3HSMUmaqY8Zupxwk5VcPpbE89OP0NaSAosAAAAv\n",
       "QZ/BRRE8K/8AACxWASGYbzdz2fJ+goTg/QbAyK7HIX1FBAmMnOd25b1nBtHQfkAAAAAyAZ/gdEJ/\n",
       "AAAYiWXW+XuKo+xI5yXXEKIxgBIfuwpaEB7qm34YzfBDWFMqSM7qRmFVaEEAAAAlAZ/iakJ/AAA4\n",
       "rxr2pH5J8t51BgA+5ieIbbCJsK+dWjI0EfAYsAAAAENBm+dJqEFomUwIX//+jLAAANV63gXf47/V\n",
       "1VN/Wl9XoxrXRpV1U0AM36+LBK3CszcnVB8Tkk550lgZVD9uxjKu35inAAAAOkGeBUURLCv/AAAs\n",
       "TUJDYI5nvrQw7pX404Mz4brp6fl/UaklTWHQIWWABYqjl883RoNpvuaP2vLwAVMAAAAqAZ4kdEJ/\n",
       "AAA4mzQ90vJDYzVu6DOyGXw0qxdpeRVz4vo7Nbd+rjhdIqlJAAAAKAGeJmpCfwAAGIEvOlfYLi0B\n",
       "BWpcCbCaTmS8LoyuWYiX6tYQ/5wIK9kAAABYQZooSahBbJlMCF///oywAABW6oW6TwAceWvFVHB7\n",
       "ezKFu+VAhiKcM7lIG3RNetUSfxeHBYZtgeOVtjUk2NcAUzWWJzf3pz//yym4DMwWp6+tXloPgt40\n",
       "CwAAAF9BmklJ4QpSZTAhf/6MsAAAV3mXHnhQpgA0gTGJ0g6gUc3kfUCLhBjkHLzUMKvLtEEyJGX5\n",
       "DaKfLHFwevyrkdueS4bKHf4pWYhFgxvL6vDCfKLo4xb5pBZQ8U2XaLjSoAAAAEdBmmpJ4Q6JlMCF\n",
       "//6MsAAAVT3LqChRe8RuI2fZTaYgKK3TeTx9ro/iqVTZBdUmCMADSNsPX9uxVOrWN9GPIi1rmu8W\n",
       "KQijxwAAAF1BmotJ4Q8mUwIX//6MsAAAUv3M3/DRc020esxmEFtk5gAPoHDU/v7l+RzzD7XXz/OV\n",
       "9qAXL8wivTZeCf5rb5T2/zduIoaxtJvhovlv4Gv6C3klLSgQY3hLnTh4i4AAAABZQZqsSeEPJlMC\n",
       "F//+jLAAAE56bz3ZhjlgAJNJ0Fx+cbPNYqV7op3lI1Z22bxTZUIN3Eho6HuwlCHJH7GzV4VHdKJl\n",
       "W801CZEA+SL/UszGRDoJ/k+s97JQIoAAAABoQZrNSeEPJlMCF//+jLAAAEx+JgtvgjBgAubZTFtK\n",
       "vo5M/4L2FFFV4N/7GyI2OsvPTkNNBVi0lfDDlFtt62Au0yW+2p85agOcG0RpORd9Wf0TrzW7fSBS\n",
       "c9x0LeHS+R2D6Cp1WMk75/kAAABnQZruSeEPJlMCF//+jLAAAEp+JxH6++RfnQYACxYMoJA5uEp9\n",
       "KuDITT5qwmoGY1oRUuHsOW7HYTcNPR49d5hPmcMmNsPRehv9fFnnSQdyiY5EFSDS+JnjqPMfyLhY\n",
       "RR26CfKYMypggQAAAGRBmw9J4Q8mUwIX//6MsAAARnpvP26ARUIAW0cvYEa7j82+m/4zbhiNUrT1\n",
       "yq6kPjmBDKB+EnPZDIQTsXoDcErSjPFkQT84W9MPzWCds1RuGjiHUJOt9VRMueUluq7aLIar4C/n\n",
       "AAAAXUGbMEnhDyZTAhf//oywAABEELgBrRzdJr0ARmBcS6NEh8W5thaWFNgWQsuOBVhc93HpMS00\n",
       "w4NwpRkTTLon6CYk6DIb7TYU9ZpJWQn4afgQnRvRkLFQcjkDTOvLwAAAAIVBm1FJ4Q8mUwIX//6M\n",
       "sAAAQn4nEfsmK40HXUNVrgBa6tQKMIEuHbAex6jJ1wZsgrX0k9mQnTRLEjLiKT2udfiu4JvUP9DE\n",
       "hfBd1q0Kf1tz8f2/w6EVGUv3sH1c6MBYQQSn7zO2FB0MB8/fx0E36L9Xmzve//dfn38vNjal+n3Z\n",
       "MxFf0gEVAAAAbkGbcknhDyZTAhf//oywAAA+vCc92b/JMAN8nkvSegpn94qzE/l+a3fcd4bDBcXu\n",
       "4HE4qWXQ9Vs3c3YqeTlJFVkmDLjd0Drgzpd38olP8/1pzvYYdAOjoWvJvMI5Kbtx7GWXElDGU4Zd\n",
       "UFqimYPBAAAAk0Gbk0nhDyZTAhf//oywAAA9XrZlmgJbgBt+I3fKjHubp8izwQDhyjF+OOSbXPrH\n",
       "snUCu+x+76JyMgx0er5fh7g+voeHV2KYEMDyxo75ICcHPREHG3OWCfkoKlsvtb7dYqRJYgjhLzm1\n",
       "4LX2uQGt2no/d2nWPzM8uwIvgTmUscZPNNOxXqX1SEg/PY/zadPMPnye4AAAAFlBm7RJ4Q8mUwIX\n",
       "//6MsAAAO/63XPwH/kiIlgALQ/gYCOdXQHxpFjWK+Fj9vLFXcmWeBelUsn+qPDM21Z8bN5DgkNXL\n",
       "OYqAh396GQjsDL9V136Oo7LfcaiZgAAAAFRBm9VJ4Q8mUwIZ//6eEAAAON7GjT1a0/AJXNSjh3wC\n",
       "nWEXX2rCyVs8ROhp0Yz53t/4e4jyO4ahCSVY6mvOlhpkYrt9aIW3G5ImbCYFUCJaar/h36MAAABf\n",
       "QZv2SeEPJlMCGf/+nhAAADd8JzrXJbSutO/SaH0bTQGLJyCmmluLQcHMhn1SpKSzcJ53ksLAnPmC\n",
       "U7NwArxz9M8Sz9KKrDh1OOBh6r/lAGVqXkG3iJNXjvNmhmjFCogAAACLQZoYSeEPJlMFETwz//6e\n",
       "EAAANjwnOtf6dnXAES/EqJqvLBEqQCHAM62F3kVPD0A2dF2pTRPOQw3CN+IIix11fS3FnmotzkVp\n",
       "hYwiVxV34IcX5GE+jyExVqCHEqEMhbRfRguWe+KNliHBfKX/KL7h5h/YfsYFUJXql/hMf6oO+/lV\n",
       "o8qlaNag82XT8QAAAC0BnjdqQn8AAA6AOM/vhnY510E82KEKTapMymyeLyZHt83N14CQVdZLqJ+w\n",
       "44EAAABoQZo8SeEPJlMCGf/+nhAAADT+x2D8RXgt3LgA/beMoRsblJiFCvIQFhDQK6qQSqrNJZXV\n",
       "lzkHzyiQusnUgGNHO4dyT0G1ymprUPFPVBXANzog+4CW2bI/Kjj2gzZM60N7uXF9l3MCapAAAAA1\n",
       "QZ5aRRE8K/8AABWT3SKj232jq2IcgZHjRJkv2PApelBXzPIorPEorgmj9boSieW4Vj5zAYEAAAAt\n",
       "AZ55dEJ/AAAOJr3eUZuD/YNP5hCdUJDC/Bt6AAf49/OXXyVE20tQrE41leMCAAAAIwGee2pCfwAA\n",
       "DdCYTKc0phLMb9NC5Q59KQCd49PMnmmXxmzBAAAATkGafkmoQWiZTBTwz/6eEAAAM3PXabACsCo+\n",
       "A3T/LqSEH32sXL5+aHQhL4bvLyTavsk9oah12svOmY6EgAAMT8QaFws/gqG9+wscNHwccQAAADIB\n",
       "np1qQn8AAA3JjY4Q27QgN6R2gAFryjh9zdQG9Os4zwMxTM9fRApEymrKQM+ylMAb8AAAAG9BmoBJ\n",
       "4QpSZTBSwv/+jLAAADULTedFwAtx9YOoU1Br160CDx5F+9XiNbpppiARv1d3EVlk2ApqT3ly8RjP\n",
       "N3Tp9OIp1vjepmmiGmhSUgwAKguCJzp1Lwkx6BxohjqD9+3q9PjZ8Qg/PTMp5w4x4GMAAAArAZ6/\n",
       "akJ/AAAOK7/sJ7j66kEnyQdLqeJ2pFKRRyUGP3WAtJ/bRTu9Z8PYCwAAAF9BmqJJ4Q6JlMFEwv/+\n",
       "jLAAADeLVTX2wA3IRR6doZQ2tTpDIVsosI1Ers4RQH6uSWin0P2XW7TMGRBkTiuzU04LwCEjD1vE\n",
       "Do9qjcVCXcAvqJbThC6J9noBBY71fo34gAAAADUBnsFqQn8AAEd2+W6ScY773m8Y7VsPj48O703E\n",
       "SOQLT5wUqL7qJYH4Dvg6xA7E/Nze7BpFwQAAAFlBmsNJ4Q8mUwIX//6MsAABCfic3nmuBMpHkNok\n",
       "BHYT5fm0jAAlkwn1nhW3SKPcqsnVSkDx4OhpQdbWY6eOE/boY/7Syhrj5mWsw4Qqcm3frLwNPBv0\n",
       "wLdn8AAAAFtBmuRJ4Q8mUwIX//6MsAAAOjzauytN5bfcE99tqkAWYuGjf+ydp/FWB6+qQ2oQV+Bh\n",
       "LjHdoKeb+sw4k87kqpK0sEIJeTjTvmOJ5IMbtxyJAYfA1QfWKJBuwZbhAAAATkGbBUnhDyZTAhf/\n",
       "/oywAAA7qxiWPWcAE52/kAYQRKPrE0MiE7lTBv/5U9Wn6KyHil/yVSlzDkDaOsuLBvpeUQeTBRGq\n",
       "Cq/fzCPQ3Q/nPQAAAHdBmyZJ4Q8mUwIX//6MsAAAPp6p39shAC1wpjF0MvFpPan2+C+EOCdgSVB3\n",
       "aI90UFnt2rtwFSxZa7U2MPXH+51PVBYY7Dh2X0cR1rL7dM4Yf29ON37qV1kqiD7LQh3mt/MvFy7c\n",
       "SwJlfJbxtHD8dv+Idrwe8xe/QQAAAGtBm0dJ4Q8mUwIX//6MsAABMfic3o7c5jL1lHhpfk3s0rgU\n",
       "BFtj6rXhCOXSngeZSYrwfeM2KymvfJxBxs8vRobbH37eGh2HlqM2Wy4wLXD8NWZnN2hy1R3iCxFV\n",
       "zN3PRUYJS/OqjhJvnr83IQAAAFhBm2hJ4Q8mUwIX//6MsAAARFYrztj4AOOkl2b7b78Gyme6UljZ\n",
       "QQ4PUrSlFYC5hHO36iSOsNdyN5Mqy/x0GQwmPPXCH6fqXYODqANRC5KPDaxeJQXkklLAAAAASEGb\n",
       "iUnhDyZTAhf//oywAABGFFoeyFIQSwPj+zRSPcajgBVTCoa6iEz80Fkn3i7WuIQZQsYEXpTpt53u\n",
       "gEVMDh0ANAx4RxA44AAAAGdBm6pJ4Q8mUwIX//6MsAAAvHuaGs6oW9ZwASYQro+hlyWUPtWRbbQF\n",
       "8mcoli7dSeYoQqBYhJIVoRAOf2TxVx4xkh2ysBDewcDl7UVweTFBIXwysimiutQbGHf9EBH2Ew7L\n",
       "T+FnTWSRAAAAaUGby0nhDyZTAhf//oywAABMAc7pgwAiaYigbOdvsaLg3ADTdlu0bklGBcInkaIz\n",
       "OnTyky6S8FBemrt3kwbx9XtiYFFqrzrnL8Ud4XLdtuzKQAAAJiVeRTkROXRBZ9xY8Kiu4fbayDiA\n",
       "7gAAAGVBm+xJ4Q8mUwIX//6MsAAATgHNrY/ABJQkG92RXvZfGzK05yjE1aSD9F97IDycyehyV3sM\n",
       "9Bu0SRZ5jRlvZmpc2cfO3Lhen2ZUR+pZuNrP0S+EQK9yDruSemDaW6gcxRijqNiQkgAAAFhBmg1J\n",
       "4Q8mUwIZ//6eEAAAT3vht4jkAJmCO0ma0aj1kDm19SKArh1bbodFSJjJMcWmE1KBzpXgBeTQMdQO\n",
       "IMJ4sV1C1/9b+q4VDi0tFSlG+X8fXGb8880nAAAAc0GaL0nhDyZTBRE8M//+nhAAAFPr8RBAWAC0\n",
       "CdemJxkFw6KZhAeXIFQnCIxoTyNgEHq4Imewt9C8UmMHY8l8Zsd1OAOBBpd6vVsjUtm9jOUS0vOb\n",
       "wS6iX828nijryKAw3cSrCT1tZtUWMaz696oNcfivg0kAAAA6AZ5OakJ/AAAWu3gocK5gViESrnkA\n",
       "ybxVtkdw4YAVUQ++LtQLv34oOikPxwE+aoZqykqQqu4Eg70j/QAAAGFBmlFJ4Q8mUwU8L//+jLAA\n",
       "AFlYdJZcwASYAz+yGtDSFbVnNce/tr7f1qHCVdgUGrecnuqE0KkxgYAHZCQMg99NMev9ShtyODBW\n",
       "o40x1GAwMLZqn/JR1pIu58m7IPNBXdHtAAAAOgGecGpCfwAAF+d7TJwAADiK2FvEdFa8b9U6uQD2\n",
       "ge6G41jusR6oUiLVvvg0P49LRDqavhC0d+9gh4AAAABIQZp1SeEPJlMCE//98QAAAwNgQjWaRs18\n",
       "FKDE1XE686GLc3q1vccIw3C92LEAK4fx35Z+TeL3SkmDiif/XG1J9yH/u2vE4ua5AAAAPkGek0UR\n",
       "PCv/AAAVk+Fs48okpmNDzR7+EbOdQAai6Cud2EeTlS3vz4Is/YKGKpvavEODn+F/QTbnnM9P0QLu\n",
       "AAAANwGesnRCfwAAGIl7qhhvIsneizWO+CxR9aG9jPYAPke/nNe2OVB/GFzI3/aN3XF7wRbIHTJo\n",
       "h0wAAAAyAZ60akJ/AAAYgTINDyT7xB2DyfrACqiH3y53VuGoU1zG0W7hYFG8625NM0IAfemFA+cA\n",
       "AAfabW9vdgAAAGxtdmhkAAAAAAAAAAAAAAAAAAAD6AAAEZQAAQAAAQAAAAAAAAAAAAAAAAEAAAAA\n",
       "AAAAAAAAAAAAAAABAAAAAAAAAAAAAAAAAABAAAAAAAAAAAAAAAAAAAAAAAAAAAAAAAAAAAAAAAAA\n",
       "AgAABwR0cmFrAAAAXHRraGQAAAADAAAAAAAAAAAAAAABAAAAAAAAEZQAAAAAAAAAAAAAAAAAAAAA\n",
       "AAEAAAAAAAAAAAAAAAAAAAABAAAAAAAAAAAAAAAAAABAAAAAA/AAAADeAAAAAAAkZWR0cwAAABxl\n",
       "bHN0AAAAAAAAAAEAABGUAAADAAABAAAAAAZ8bWRpYQAAACBtZGhkAAAAAAAAAAAAAAAAAAAyAAAA\n",
       "4QBVxAAAAAAALWhkbHIAAAAAAAAAAHZpZGUAAAAAAAAAAAAAAABWaWRlb0hhbmRsZXIAAAAGJ21p\n",
       "bmYAAAAUdm1oZAAAAAEAAAAAAAAAAAAAACRkaW5mAAAAHGRyZWYAAAAAAAAAAQAAAAx1cmwgAAAA\n",
       "AQAABedzdGJsAAAAt3N0c2QAAAAAAAAAAQAAAKdhdmMxAAAAAAAAAAEAAAAAAAAAAAAAAAAAAAAA\n",
       "A/AA3gBIAAAASAAAAAAAAAABAAAAAAAAAAAAAAAAAAAAAAAAAAAAAAAAAAAAAAAAAAAAGP//AAAA\n",
       "NWF2Y0MBZAAe/+EAGGdkAB6s2UD8d+oQAAADADAAAAyA8WLZYAEABmjr48siwP34+AAAAAAcdXVp\n",
       "ZGtoQPJfJE/FujmlG88DI/MAAAAAAAAAGHN0dHMAAAAAAAAAAQAAAJYAAAGAAAAAFHN0c3MAAAAA\n",
       "AAAAAQAAAAEAAAJgY3R0cwAAAAAAAABKAAAAAQAAAwAAAAABAAAGAAAAAAIAAAGAAAAAAQAABIAA\n",
       "AAABAAABgAAAABAAAAMAAAAAAQAAB4AAAAABAAADAAAAAAEAAAAAAAAAAQAAAYAAAAABAAAHgAAA\n",
       "AAEAAAMAAAAAAQAAAAAAAAABAAABgAAAAAEAAASAAAAAAQAAAYAAAAACAAADAAAAAAEAAASAAAAA\n",
       "AQAAAYAAAAAHAAADAAAAAAEAAASAAAAAAQAAAYAAAAABAAAEgAAAAAEAAAGAAAAAAQAAB4AAAAAB\n",
       "AAADAAAAAAEAAAAAAAAAAQAAAYAAAAABAAAGAAAAAAIAAAGAAAAAEQAAAwAAAAABAAAGAAAAAAIA\n",
       "AAGAAAAAAQAABgAAAAACAAABgAAAAAEAAAYAAAAAAgAAAYAAAAABAAAEgAAAAAEAAAGAAAAACgAA\n",
       "AwAAAAABAAAEgAAAAAEAAAGAAAAAAQAABIAAAAABAAABgAAAAAEAAAeAAAAAAQAAAwAAAAABAAAA\n",
       "AAAAAAEAAAGAAAAAAQAAB4AAAAABAAADAAAAAAEAAAAAAAAAAQAAAYAAAAAPAAADAAAAAAEAAASA\n",
       "AAAAAQAAAYAAAAABAAAHgAAAAAEAAAMAAAAAAQAAAAAAAAABAAABgAAAAAEAAASAAAAAAQAAAYAA\n",
       "AAABAAAEgAAAAAEAAAGAAAAAAQAABIAAAAABAAABgAAAAAsAAAMAAAAAAQAABIAAAAABAAABgAAA\n",
       "AAEAAASAAAAAAQAAAYAAAAABAAAHgAAAAAEAAAMAAAAAAQAAAAAAAAABAAABgAAAABxzdHNjAAAA\n",
       "AAAAAAEAAAABAAAAlgAAAAEAAAJsc3RzegAAAAAAAAAAAAAAlgAADWQAAAC7AAAAOQAAADYAAABf\n",
       "AAAANgAAAG0AAABgAAAAfgAAAHgAAABSAAAAdQAAAHIAAAB3AAAATQAAAE0AAACCAAAAjwAAAFcA\n",
       "AAB5AAAAggAAAGoAAAB4AAAAOQAAAC4AAAAuAAAAaAAAAE4AAAAvAAAAPgAAAHIAAAA2AAAAUgAA\n",
       "AFgAAABsAAAAOAAAAI4AAAB3AAAAhQAAAHgAAABwAAAAiQAAAJUAAACCAAAAOAAAAJkAAAA0AAAA\n",
       "XgAAADsAAAAuAAAAMwAAAGUAAAA1AAAAMwAAAF4AAABfAAAAbgAAAGkAAABqAAAAWQAAAF4AAABa\n",
       "AAAAhwAAAJAAAABoAAAAUgAAAH4AAACBAAAAewAAAGsAAAB1AAAAjQAAADMAAAAqAAAAaQAAADkA\n",
       "AAA2AAAAkgAAADoAAAAvAAAAjQAAAEYAAABpAAAAYgAAAFkAAAChAAAAaQAAAHEAAACAAAAAWQAA\n",
       "AJMAAAByAAAAmAAAADkAAACAAAAANAAAAIoAAAAzAAAANgAAACkAAABHAAAAPgAAAC4AAAAsAAAA\n",
       "XAAAAGMAAABLAAAAYQAAAF0AAABsAAAAawAAAGgAAABhAAAAiQAAAHIAAACXAAAAXQAAAFgAAABj\n",
       "AAAAjwAAADEAAABsAAAAOQAAADEAAAAnAAAAUgAAADYAAABzAAAALwAAAGMAAAA5AAAAXQAAAF8A\n",
       "AABSAAAAewAAAG8AAABcAAAATAAAAGsAAABtAAAAaQAAAFwAAAB3AAAAPgAAAGUAAAA+AAAATAAA\n",
       "AEIAAAA7AAAANgAAABRzdGNvAAAAAAAAAAEAAAAwAAAAYnVkdGEAAABabWV0YQAAAAAAAAAhaGRs\n",
       "cgAAAAAAAAAAbWRpcmFwcGwAAAAAAAAAAAAAAAAtaWxzdAAAACWpdG9vAAAAHWRhdGEAAAABAAAA\n",
       "AExhdmY1OC40NS4xMDA=\n",
       "\">\n",
       "  Your browser does not support the video tag.\n",
       "</video>"
      ],
      "text/plain": [
       "<IPython.core.display.HTML object>"
      ]
     },
     "execution_count": 73,
     "metadata": {},
     "output_type": "execute_result"
    }
   ],
   "source": [
    "HTML(anim.to_html5_video())"
   ]
  },
  {
   "cell_type": "code",
   "execution_count": null,
   "id": "80ce770c-c451-4bb5-89ed-8ffe233dfd79",
   "metadata": {},
   "outputs": [],
   "source": []
  }
 ],
 "metadata": {
  "kernelspec": {
   "display_name": "Python 3 (ipykernel)",
   "language": "python",
   "name": "python3"
  },
  "language_info": {
   "codemirror_mode": {
    "name": "ipython",
    "version": 3
   },
   "file_extension": ".py",
   "mimetype": "text/x-python",
   "name": "python",
   "nbconvert_exporter": "python",
   "pygments_lexer": "ipython3",
   "version": "3.9.4"
  }
 },
 "nbformat": 4,
 "nbformat_minor": 5
}
