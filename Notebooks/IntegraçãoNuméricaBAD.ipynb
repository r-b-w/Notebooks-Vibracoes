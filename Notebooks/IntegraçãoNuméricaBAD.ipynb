{
 "cells": [
  {
   "cell_type": "markdown",
   "id": "492bd439-29d7-4ae9-9e85-1695628cf21c",
   "metadata": {},
   "source": [
    "# Integração Numérica dos Coeficientes de Fourier\n",
    "## MÁ IDEIA\n",
    "\n",
    "Neste notebook tentaremos mostrar por que razão a integração numérica dos coefientes de Fourier, conforme proposta no Rao, é uma **má ideia.**\n",
    "\n",
    "Vamos definir uma função em um intervalo finito, e considerá-la periódica. Para facilitar e ficar bonitinho, vamos usar uma função que seja nula nas extremidades do intervalo.\n"
   ]
  },
  {
   "cell_type": "markdown",
   "id": "f9be96a8-09ce-4536-bcca-87b68e717172",
   "metadata": {},
   "source": [
    "## Setup"
   ]
  },
  {
   "cell_type": "code",
   "execution_count": 1,
   "id": "4f3674ae-847b-40df-a1dd-7ab18f41e1ec",
   "metadata": {},
   "outputs": [],
   "source": [
    "import numpy as np\n",
    "%matplotlib inline\n",
    "import matplotlib\n",
    "import matplotlib.pyplot as plt\n",
    "import ipywidgets as widgets"
   ]
  },
  {
   "cell_type": "code",
   "execution_count": 2,
   "id": "8ab7a6fb-afd1-4bdd-9f8b-35a1e6ed90f7",
   "metadata": {},
   "outputs": [],
   "source": [
    "def signal(t):\n",
    "    return -t*(t-2)*np.exp(t)"
   ]
  },
  {
   "cell_type": "markdown",
   "id": "2c76a80c-8893-4b6b-a14d-dfce3e774b87",
   "metadata": {},
   "source": [
    "## Período e frequência fundamentais\n",
    "Vamos considerar a função periódica, definida no intervalo de 0 a 2.\n",
    "Assim, o período fundamental é 2 e a frequência fundamental é $2\\pi/\\omega$."
   ]
  },
  {
   "cell_type": "code",
   "execution_count": 3,
   "id": "bbbcfb98-d5f3-459d-89c0-46a92504be4f",
   "metadata": {},
   "outputs": [
    {
     "name": "stdout",
     "output_type": "stream",
     "text": [
      "Período fundamental: 2 s\n",
      "Frequência fundamental: 0.5 Hz\n",
      "Frequência circular fundamental: 3.141592653589793 rad/s\n"
     ]
    }
   ],
   "source": [
    "τ = 2\n",
    "f = 1/τ\n",
    "ω = 2*np.pi*f\n",
    "print(f\"Período fundamental: {τ} s\")\n",
    "print(f\"Frequência fundamental: {f} Hz\")\n",
    "print(f\"Frequência circular fundamental: {ω} rad/s\")"
   ]
  },
  {
   "cell_type": "markdown",
   "id": "0a720943-31f6-4837-af7a-21196d0c5556",
   "metadata": {},
   "source": [
    "## Amostragem"
   ]
  },
  {
   "cell_type": "markdown",
   "id": "2d78df4b-de15-4326-942c-d70e7553eba4",
   "metadata": {},
   "source": [
    "Para que um sinal analógico seja processado em um computador, ele deve ser amostrado em intervalos periódicos. Vamos considerar que estamos amostrando a cada centésimo de segundo."
   ]
  },
  {
   "cell_type": "code",
   "execution_count": 4,
   "id": "2c5141f7-0f12-441a-84b1-1191e2b8d209",
   "metadata": {},
   "outputs": [
    {
     "name": "stdout",
     "output_type": "stream",
     "text": [
      "[0.   0.01 0.02 0.03 0.04 0.05 0.06 0.07 0.08 0.09]\n",
      "[1.91 1.92 1.93 1.94 1.95 1.96 1.97 1.98 1.99 2.  ]\n"
     ]
    }
   ],
   "source": [
    "dt = 0.01\n",
    "times = np.linspace(0, τ, int(np.ceil(τ/dt))+1)\n",
    "print(times[:10])\n",
    "print(times[-10:])"
   ]
  },
  {
   "cell_type": "markdown",
   "id": "193db94a-b67e-4d9d-abe6-2bd1844dac5d",
   "metadata": {},
   "source": [
    "## Função original"
   ]
  },
  {
   "cell_type": "code",
   "execution_count": 5,
   "id": "15efce8e-3860-49b6-bc9b-fd8984da958f",
   "metadata": {},
   "outputs": [
    {
     "data": {
      "image/png": "[encoded data removed]",
      "text/plain": [
       "<Figure size 432x288 with 1 Axes>"
      ]
     },
     "metadata": {
      "needs_background": "light"
     },
     "output_type": "display_data"
    }
   ],
   "source": [
    "fig, ax  = plt.subplots()\n",
    "ax.plot(times, signal(times))\n",
    "plt.show()"
   ]
  },
  {
   "cell_type": "markdown",
   "id": "6344a6fa-c4a0-4197-8705-14d05448dc98",
   "metadata": {},
   "source": [
    "## Coeficientes de Fourier\n",
    "\n",
    "Em contraste com o que a figura do Rao insinua, apesar de o texto e as fórmulas estarem corretas, para calcular os coeficientes de Fourier você não integra a função diretamente, mas multiplicada pelos harmônicos do seno e cosseno.\n",
    "\n",
    "Para demonstração aqui vamos considerar apenas os termos em cosseno, com frequências múltiplas inteiras da frequência fundamental."
   ]
  },
  {
   "cell_type": "code",
   "execution_count": 14,
   "id": "9ca0ad8b-3613-454f-84b0-0039e27927b8",
   "metadata": {},
   "outputs": [
    {
     "data": {
      "application/vnd.jupyter.widget-view+json": {
       "model_id": "8a507040c6714f71895806be2e6ad038",
       "version_major": 2,
       "version_minor": 0
      },
      "text/plain": [
       "interactive(children=(BoundedIntText(value=10, description='hamônico nº:', max=20, min=1), Output()), _dom_cla…"
      ]
     },
     "metadata": {},
     "output_type": "display_data"
    }
   ],
   "source": [
    "\n",
    "nw = widgets.BoundedIntText(value=10, min=1, max=20,\n",
    "        description=\"hamônico nº:\")\n",
    "\n",
    "@widgets.interact(n=nw)\n",
    "def make_plot(n):\n",
    "    fig, ax  = plt.subplots()\n",
    "    plt.grid(True)\n",
    "    fig.set_size_inches(10, 9)\n",
    "    ax.plot(times, signal(times)*np.cos(n*ω*times))\n",
    "    ax.plot(times, signal(times))\n",
    "    fig.set_visible(True)"
   ]
  },
  {
   "cell_type": "markdown",
   "id": "12fb8848-80d9-4d55-91e6-89fe95ed234c",
   "metadata": {},
   "source": [
    "## Amostragem com baixa frequência\n",
    "\n",
    "Até aqui parece tudo normal, mas vamos ver o que acontece com esta figura quando\n",
    "tentamos usar frequências de amostragem menores, isto é, \"dt\" maiores.\n",
    "\n",
    "No gráfico abaixo, dt deve ser dado em centésimos de segundos.\n",
    "\n",
    "Experimente por exemplo o harmônico 15."
   ]
  },
  {
   "cell_type": "code",
   "execution_count": 26,
   "id": "c8a286b5-9637-4253-8892-54299eb39640",
   "metadata": {},
   "outputs": [
    {
     "data": {
      "application/vnd.jupyter.widget-view+json": {
       "model_id": "4b98ff9c13a74410adc85724232b174e",
       "version_major": 2,
       "version_minor": 0
      },
      "text/plain": [
       "interactive(children=(BoundedIntText(value=10, description='hamônico nº:', max=20, min=1), BoundedIntText(valu…"
      ]
     },
     "metadata": {},
     "output_type": "display_data"
    }
   ],
   "source": [
    "dtw = widgets.BoundedIntText(value=1, min=1, max=200,\n",
    "        description=\"Período amostragem (x100 s):\")\n",
    "nw = widgets.BoundedIntText(value=10, min=1, max=20,\n",
    "        description=\"hamônico nº:\")\n",
    "\n",
    "@widgets.interact(n=nw, dt=dtw)\n",
    "def make_plot(n, dt):\n",
    "    dt /= 100.0\n",
    "    hp = 2*np.pi/(n*ω)\n",
    "    print(f\"Período do harmônico: {hp:.3f} (s),\"\n",
    "          f\" frequência do harmônico {1/hp} (Hz)\")\n",
    "    print(f\"Período de amostragem: {dt:.3f} (s),\"\n",
    "          f\" frequência de amostragem {1/dt} (Hz)\")\n",
    "    times = np.linspace(0, τ, int(np.ceil(τ/dt))+1)\n",
    "    fig, ax  = plt.subplots()\n",
    "    plt.grid(True)\n",
    "    fig.set_size_inches(10, 9)    \n",
    "    ax.plot(times, signal(times)*np.cos(n*ω*times))\n",
    "    ax.plot(times, signal(times))\n",
    "    fig.set_visible(True)"
   ]
  }
 ],
 "metadata": {
  "kernelspec": {
   "display_name": "Python 3 (ipykernel)",
   "language": "python",
   "name": "python3"
  },
  "language_info": {
   "codemirror_mode": {
    "name": "ipython",
    "version": 3
   },
   "file_extension": ".py",
   "mimetype": "text/x-python",
   "name": "python",
   "nbconvert_exporter": "python",
   "pygments_lexer": "ipython3",
   "version": "3.9.4"
  }
 },
 "nbformat": 4,
 "nbformat_minor": 5
}
