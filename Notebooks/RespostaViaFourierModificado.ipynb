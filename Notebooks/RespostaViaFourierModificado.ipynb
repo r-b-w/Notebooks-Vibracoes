{
 "cells": [
  {
   "cell_type": "markdown",
   "metadata": {
    "id": "BD514QzkTbC7"
   },
   "source": [
    "# Resposta via Série de Fourier\n",
    "\n",
    "## Teoria\n",
    "Supondo que a  força aplicada seja periódica, com frequência fundamental $\\omega = 2\\pi/\\tau$, podemos escrevê-la como\n",
    "\n",
    "$$ f(t) = \\frac{a_0}{2} + \\sum_{j=1}^\\infty\n",
    "\\left[ a_j \\cos(j \\omega t) + b_j \\sin(j \\omega t) \\right],$$\n",
    "com\n",
    "$$ a_j = \\int_0^\\tau f(t) \\cos(j\\omega t)\\, dt, \\quad\n",
    "   b_j = \\int_0^\\tau f(t) \\sin(j\\omega t)\\, dt. $$\n",
    "\n",
    "## Resposta\n",
    "Neste caso, a resposta é dada por\n",
    "\n",
    "$$x(t) = \\frac{a_0}{2k} + \n",
    "\\sum_{j=1}^{\\infty}\n",
    "\\left[ \\frac{a_j/k}{\\sqrt{(1-(jr)^2)^2 + (2j\\zeta r)^2}}\\cos(j\\omega t - \\phi_j)\n",
    "+\n",
    " \\frac{b_j/k}{\\sqrt{(1-(jr)^2)^2 + (2j\\zeta r)^2}}\\sin(j\\omega t - \\phi_j)\n",
    " \\right],$$\n",
    "com \n",
    "$$ r = \\frac{\\omega}{\\omega_n}, \\quad \\tan \\phi_j  = \\frac{2j\\zeta r}{1-(jr)^2}.$$"
   ]
  },
  {
   "cell_type": "markdown",
   "metadata": {
    "id": "GJ48hCi0uGeU"
   },
   "source": [
    "## Setup"
   ]
  },
  {
   "cell_type": "code",
   "execution_count": 8,
   "metadata": {
    "id": "wG4txw7puI3j"
   },
   "outputs": [],
   "source": [
    "import numpy as np\n",
    "import sympy as sp\n",
    "import matplotlib.pyplot as plt\n",
    "from sympy.abc import t # Não usar como variável do Python!!!\n",
    "%matplotlib inline"
   ]
  },
  {
   "cell_type": "markdown",
   "metadata": {
    "id": "cPE_nls6twNM"
   },
   "source": [
    "## Sistema mecânico"
   ]
  },
  {
   "cell_type": "code",
   "execution_count": 9,
   "metadata": {
    "id": "kNILCWKQTaPN"
   },
   "outputs": [],
   "source": [
    "m = 1\n",
    "c = 1.2\n",
    "k = 40"
   ]
  },
  {
   "cell_type": "markdown",
   "metadata": {
    "id": "89vYmItNt5xD"
   },
   "source": [
    "## Propriedades dinâmicas"
   ]
  },
  {
   "cell_type": "code",
   "execution_count": 10,
   "metadata": {
    "colab": {
     "base_uri": "https://localhost:8080/"
    },
    "id": "NvADisjFt3tV",
    "outputId": "d5ed29e4-30cb-46a5-8783-60c0385ccb48"
   },
   "outputs": [
    {
     "name": "stdout",
     "output_type": "stream",
     "text": [
      "Frequência natural: 6.32 rad/s, Razão de amortecimento: 0.0949\n",
      "Período natural: 0.993 s.\n"
     ]
    }
   ],
   "source": [
    "wn = np.sqrt(k/m)\n",
    "cc = 2*m*wn\n",
    "zeta = c/cc\n",
    "print(f\"Frequência natural: {wn:.3g} rad/s, Razão de amortecimento: {zeta:.3g}\")\n",
    "print(f\"Período natural: {2*np.pi/wn:.3g} s.\")"
   ]
  },
  {
   "cell_type": "markdown",
   "metadata": {
    "id": "7rMojHMHu1AR"
   },
   "source": [
    "## Força aplicada\n",
    "\n",
    "Temos que fornecer uma força periódica e sua série de fourier.\n",
    "Vamos usar uma onda quadrada.\n",
    "\n",
    "A figura abaixo mostra um período da força.\n"
   ]
  },
  {
   "cell_type": "markdown",
   "metadata": {},
   "source": [
    "### Pulso quadrado"
   ]
  },
  {
   "cell_type": "code",
   "execution_count": 11,
   "metadata": {
    "colab": {
     "base_uri": "https://localhost:8080/",
     "height": 334
    },
    "id": "N8tuDyKtK_yV",
    "outputId": "cb1b9c78-34a0-40f3-9413-2550c78fe874"
   },
   "outputs": [
    {
     "name": "stdout",
     "output_type": "stream",
     "text": [
      "Período Fundamental: 30 s.\n",
      "Frequência Fundamental: 0.209 rad/s\n"
     ]
    },
    {
     "data": {
      "image/png": "[encoded data removed]",
      "text/plain": [
       "<Figure size 432x288 with 1 Axes>"
      ]
     },
     "metadata": {
      "needs_background": "light"
     },
     "output_type": "display_data"
    }
   ],
   "source": [
    "tau = 30\n",
    "mag = 30\n",
    "w0 = 2*np.pi/tau\n",
    "nterm = 21             # for the numerical computation down below\n",
    "\n",
    "square_pulse = sp.Piecewise((mag, t<tau/5),(0, True))\n",
    "print(f\"Período Fundamental: {tau:.3g} s.\")\n",
    "print(f\"Frequência Fundamental: {w0:.3g} rad/s\")\n",
    "p = sp.plot(square_pulse, (t, 0, tau))"
   ]
  },
  {
   "cell_type": "markdown",
   "metadata": {},
   "source": [
    "### Dente de serra"
   ]
  },
  {
   "cell_type": "code",
   "execution_count": 12,
   "metadata": {
    "colab": {
     "base_uri": "https://localhost:8080/",
     "height": 334
    },
    "id": "N8tuDyKtK_yV",
    "outputId": "cb1b9c78-34a0-40f3-9413-2550c78fe874"
   },
   "outputs": [
    {
     "name": "stdout",
     "output_type": "stream",
     "text": [
      "Período Fundamental: 2 s.\n",
      "Frequência Fundamental: 3.14 rad/s\n"
     ]
    },
    {
     "data": {
      "image/png": "[encoded data removed]",
      "text/plain": [
       "<Figure size 432x288 with 1 Axes>"
      ]
     },
     "metadata": {
      "needs_background": "light"
     },
     "output_type": "display_data"
    }
   ],
   "source": [
    "tau = 2\n",
    "mag = 30\n",
    "w0 = 2*np.pi/tau\n",
    "nterm = 7             # for the numerical computation down below\n",
    "\n",
    "saw_tooth = sp.Piecewise((mag*t, t<tau/2), (-mag*(t-tau), t>tau/2), (0, True))\n",
    "print(f\"Período Fundamental: {tau:.3g} s.\")\n",
    "print(f\"Frequência Fundamental: {w0:.3g} rad/s\")\n",
    "p = sp.plot(saw_tooth, (t, 0, tau))"
   ]
  },
  {
   "cell_type": "markdown",
   "metadata": {},
   "source": [
    "### Nice wave\n",
    "\n",
    "Apesar de bonitinha, o SymPy não consegue calcular os coeficientes de Fourier desta função analicamente!"
   ]
  },
  {
   "cell_type": "code",
   "execution_count": 13,
   "metadata": {
    "colab": {
     "base_uri": "https://localhost:8080/",
     "height": 334
    },
    "id": "N8tuDyKtK_yV",
    "outputId": "cb1b9c78-34a0-40f3-9413-2550c78fe874"
   },
   "outputs": [
    {
     "name": "stdout",
     "output_type": "stream",
     "text": [
      "Período Fundamental: 2 s.\n",
      "Frequência Fundamental: 3.14 rad/s\n"
     ]
    },
    {
     "data": {
      "image/png": "[encoded data removed]",
      "text/plain": [
       "<Figure size 432x288 with 1 Axes>"
      ]
     },
     "metadata": {
      "needs_background": "light"
     },
     "output_type": "display_data"
    }
   ],
   "source": [
    "tau = 2\n",
    "mag = 30\n",
    "w0 = 2*np.pi/tau\n",
    "nterm = 7             # for the numerical computation down below\n",
    "\n",
    "#f1 = sp.Piecewise((sp.sin(w0*(2*t/tau)**2), t<tau/2), (0, True))\n",
    "f1 = sp.sin(w0*(2*t/tau)**2)\n",
    "f2 = -f1.subs(t, t-tau)\n",
    "nice_wave = sp.Piecewise((f1, t<tau/2), (f2, t>=tau/2), (0, True))\n",
    "print(f\"Período Fundamental: {tau:.3g} s.\")\n",
    "print(f\"Frequência Fundamental: {w0:.3g} rad/s\")\n",
    "p = sp.plot(nice_wave, (t, 0, tau))"
   ]
  },
  {
   "cell_type": "markdown",
   "metadata": {
    "id": "nQ1s29MxSzjq",
    "tags": []
   },
   "source": [
    "## Série de Fourier\n",
    "Escolha uma das funções definidas acima, ou defina a sua própria, de forma compatível."
   ]
  },
  {
   "cell_type": "code",
   "execution_count": null,
   "metadata": {
    "colab": {
     "base_uri": "https://localhost:8080/",
     "height": 53
    },
    "id": "Mc_uEJ4TSKHM",
    "outputId": "2982039f-d033-41ec-c0bb-ffab134402e3"
   },
   "outputs": [],
   "source": [
    "f = square_pulse\n",
    "# f = saw_tooth\n",
    "#f = nice_wave\n",
    "s = sp.fourier_series(f, (t, 0, tau))\n",
    "display(s)"
   ]
  },
  {
   "cell_type": "markdown",
   "metadata": {
    "id": "tuT-_haQ276N"
   },
   "source": [
    "Podemos examinar diretamente os coeficientes, o que é interessante neste caso."
   ]
  },
  {
   "cell_type": "code",
   "execution_count": null,
   "metadata": {
    "colab": {
     "base_uri": "https://localhost:8080/",
     "height": 119
    },
    "id": "76254UBi3Lgt",
    "outputId": "fa67ead3-40cc-4ebb-d422-109a712cabc5"
   },
   "outputs": [],
   "source": [
    "display(s.a0) # constant term\n",
    "display(s.an) # cosine terms\n",
    "display(s.bn) # sine terms"
   ]
  },
  {
   "cell_type": "code",
   "execution_count": null,
   "metadata": {
    "colab": {
     "base_uri": "https://localhost:8080/",
     "height": 293
    },
    "id": "-tT-xRMrS-5Z",
    "outputId": "918af5c3-6db6-4ca4-e3a7-dbafb29c9a73"
   },
   "outputs": [],
   "source": [
    "sk = s.truncate(nterm)\n",
    "display(sk)\n",
    "fp = sp.plot(f, sk, (t, 0, tau), show=False)\n",
    "fp[0].line_color = \"green\"\n",
    "fp[1].line_color = \"red\"\n",
    "fp.show()"
   ]
  },
  {
   "cell_type": "code",
   "execution_count": null,
   "metadata": {
    "colab": {
     "background_save": true,
     "base_uri": "https://localhost:8080/",
     "height": 537
    },
    "id": "5tl4CrWNTIwi",
    "outputId": "64cab2f3-4750-4600-aea8-639652584b9e"
   },
   "outputs": [],
   "source": [
    "final_time = 4*tau\n",
    "npoints = int(np.ceil(final_time*300))\n",
    "sn = sp.lambdify(t, sk, 'numpy')\n",
    "fig, ax = plt.subplots()\n",
    "times = np.linspace(0, final_time, npoints, endpoint=True)\n",
    "ax.plot(times, sn(times))\n",
    "fig.set_size_inches(12,9)\n",
    "#fig.show()"
   ]
  },
  {
   "cell_type": "markdown",
   "metadata": {},
   "source": [
    "## Resposta\n",
    "\n",
    "É necessário separar os coeficientes $a_n$ e $b_n$ para calcular a série da resposta.\n",
    "\n",
    "Também vamos usar um número finito de termos da série."
   ]
  },
  {
   "cell_type": "code",
   "execution_count": null,
   "metadata": {},
   "outputs": [],
   "source": [
    "nterm = 12\n",
    "a0 = s.a0\n",
    "aj_terms = [a.evalf() for a in s.an[:nterm]] # get rid of rationals\n",
    "bj_terms = [b.evalf() for b in s.bn[:nterm]]\n",
    "aj = [a.as_two_terms()[0] if a != 0 else 0 for a in aj_terms]\n",
    "bj = [b.as_two_terms()[0] if b != 0 else 0 for b in bj_terms]\n",
    "display(aj)\n",
    "display(bj)"
   ]
  },
  {
   "cell_type": "markdown",
   "metadata": {},
   "source": [
    "### Magnitude dos coefiecientes\n",
    "É interessante examinar a magnitude dos termos das séries em cosseno e seno."
   ]
  },
  {
   "cell_type": "code",
   "execution_count": null,
   "metadata": {},
   "outputs": [],
   "source": [
    "ws = np.linspace(0, nterm*w0, nterm+1)\n",
    "width = 0.1*w0\n",
    "\n",
    "fig, ax = plt.subplots()\n",
    "rects1 = ax.bar(ws - width/2, [a0]+aj, width, label=r'$a_j$')\n",
    "rects2 = ax.bar(ws + width/2, [0]+bj, width, label=r'$b_j$')\n",
    "\n",
    "# Add some text for labels, title and custom x-axis tick labels, etc.\n",
    "ax.set_title('Coeficientes da série de Fourier')\n",
    "ax.set_xlabel('Frequência (rad/s)')\n",
    "ax.legend()\n",
    "fig.set_size_inches(10, 8)\n",
    "fig.tight_layout()\n"
   ]
  },
  {
   "cell_type": "markdown",
   "metadata": {},
   "source": [
    "## Coeficientes da Resposta"
   ]
  },
  {
   "cell_type": "code",
   "execution_count": null,
   "metadata": {},
   "outputs": [],
   "source": [
    "r = w0/wn\n",
    "js = range(1, len(aj)+1)\n",
    "fs = [1/(k*sp.sqrt(((1 - (j*r)**2)**2 + (2*j*zeta*r)**2))) for j in js]\n",
    "Aj = [a*f for a, f in zip(aj, fs)]\n",
    "Bj = [b*f for b, f in zip(bj, fs)]\n",
    "\n",
    "fig, ax = plt.subplots()\n",
    "rects1 = ax.bar(ws - width/2, [a0]+Aj, width, label=r'$A_j$')\n",
    "rects2 = ax.bar(ws + width/2, [0]+Bj, width, label=r'$B_j$')\n",
    "\n",
    "# Add some text for labels, title and custom x-axis tick labels, etc.\n",
    "ax.set_title('Coeficientes da Resposta')\n",
    "ax.set_xlabel('Frequência (rad/s)')\n",
    "ax.legend()\n",
    "fig.set_size_inches(10, 8)\n",
    "fig.tight_layout()\n"
   ]
  },
  {
   "cell_type": "markdown",
   "metadata": {},
   "source": [
    "## Ângulos de fase"
   ]
  },
  {
   "cell_type": "code",
   "execution_count": null,
   "metadata": {},
   "outputs": [],
   "source": [
    "phij = [sp.atan2(2*j*zeta*r, 1-j**2*r**2).evalf() for j in js]        "
   ]
  },
  {
   "cell_type": "markdown",
   "metadata": {},
   "source": [
    "## Resposta"
   ]
  },
  {
   "cell_type": "code",
   "execution_count": null,
   "metadata": {},
   "outputs": [],
   "source": [
    "xt = a0/(2*k)\n",
    "for A, B, j, phi in zip(Aj, Bj, js, phij):\n",
    "    xt += A*sp.cos(j*w0*t-phi) + \\\n",
    "            B*sp.sin(j*w0*t-phi)\n",
    "\n",
    "display(xt)\n",
    "\n",
    "p = sp.plot(xt, (t, 0, 5*tau), size=(10, 8), xlim=(0, 1.1*5*tau), adaptive=False, nb_of_points=600)"
   ]
  }
 ],
 "metadata": {
  "colab": {
   "collapsed_sections": [
    "6n6P5BaYRhOs"
   ],
   "name": "RespostaViaFourier.ipynb",
   "provenance": []
  },
  "kernelspec": {
   "display_name": "Python 3 (ipykernel)",
   "language": "python",
   "name": "python3"
  },
  "language_info": {
   "codemirror_mode": {
    "name": "ipython",
    "version": 3
   },
   "file_extension": ".py",
   "mimetype": "text/x-python",
   "name": "python",
   "nbconvert_exporter": "python",
   "pygments_lexer": "ipython3",
   "version": "3.10.6"
  }
 },
 "nbformat": 4,
 "nbformat_minor": 4
}
