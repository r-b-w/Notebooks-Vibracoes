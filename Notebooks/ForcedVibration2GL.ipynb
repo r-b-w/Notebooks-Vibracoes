{
 "cells": [
  {
   "cell_type": "markdown",
   "id": "0a555b5c-20f5-4906-b4e4-1ede6d6dcaa0",
   "metadata": {},
   "source": [
    "# Vibração Forçada com dois graus de liberdade\n",
    "\n",
    "Vamos resolver o problema de vibração forçada com 2 GL usando a matriz de impedância mecânica.\n",
    "A solução é completamente genérica para qualquer problema com 2 GL, apenas a visualização é específica ao problema tratado."
   ]
  },
  {
   "cell_type": "markdown",
   "id": "c1cfb522-a54e-4fc4-981d-006215ca0dfa",
   "metadata": {},
   "source": [
    "##  Setup"
   ]
  },
  {
   "cell_type": "code",
   "execution_count": 28,
   "id": "517ced55-d32a-453c-b565-d9aeca81b9fa",
   "metadata": {},
   "outputs": [],
   "source": [
    "import sympy as sp\n",
    "from sympy import I"
   ]
  },
  {
   "cell_type": "markdown",
   "id": "ecfdda08-3a50-44aa-9c6e-332509c2a971",
   "metadata": {},
   "source": [
    "## Sistema mecânico\n",
    "Vamos definir o sistema mecânico com as matrizes de massa, rigidez e amortecimento."
   ]
  },
  {
   "cell_type": "code",
   "execution_count": 4,
   "id": "214bd394-4834-4d00-980c-8bd0c4c9e8a0",
   "metadata": {},
   "outputs": [],
   "source": [
    "m = sp.Matrix([[1, 0],\n",
    "               [0, 2]])\n",
    "c = sp.Matrix([[0.2, 0],\n",
    "               [0.0, 0.15]])\n",
    "k = sp.Matrix([[40.0, -40.0],\n",
    "               [-40.0, 70.0]])"
   ]
  },
  {
   "cell_type": "markdown",
   "id": "f213d271-1273-40e2-be39-cde03940b804",
   "metadata": {},
   "source": [
    "## Força externa"
   ]
  },
  {
   "cell_type": "code",
   "execution_count": 36,
   "id": "424fa620-d829-4ea3-9970-36a6a06e6ac2",
   "metadata": {},
   "outputs": [],
   "source": [
    "F0 = sp.Matrix([10.0, 0.0])\n",
    "ωe = 2.0*sp.pi"
   ]
  },
  {
   "cell_type": "markdown",
   "id": "62c486ce-9058-4675-8afd-98669402c657",
   "metadata": {},
   "source": [
    "## Frequências naturais\n",
    "Apesar de não ser estritamente necessário, sempre é bom calcular as frequências naturais do problema, para ajudar a entender o comportamento."
   ]
  },
  {
   "cell_type": "code",
   "execution_count": 9,
   "id": "c308dcc8-a48c-4605-a887-de192b612e71",
   "metadata": {},
   "outputs": [
    {
     "data": {
      "text/latex": [
       "$\\displaystyle \\left[\\begin{matrix}40.0 - ω^{2} & -40.0\\\\-40.0 & 70.0 - 2 ω^{2}\\end{matrix}\\right]$"
      ],
      "text/plain": [
       "Matrix([\n",
       "[40.0 - ω**2,         -40.0],\n",
       "[      -40.0, 70.0 - 2*ω**2]])"
      ]
     },
     "metadata": {},
     "output_type": "display_data"
    }
   ],
   "source": [
    "ω = sp.symbols('ω')\n",
    "Z0 = k - ω**2 * m\n",
    "display(Z0)"
   ]
  },
  {
   "cell_type": "markdown",
   "id": "94356344-26ff-4af8-bbc7-3f037d9fbfd9",
   "metadata": {},
   "source": [
    "### Equação característica"
   ]
  },
  {
   "cell_type": "code",
   "execution_count": 11,
   "id": "44e43b22-937f-4651-b67b-7b359630055e",
   "metadata": {},
   "outputs": [
    {
     "data": {
      "text/latex": [
       "$\\displaystyle 2 ω^{4} - 150.0 ω^{2} + 1200.0$"
      ],
      "text/plain": [
       "2*ω**4 - 150.0*ω**2 + 1200.0"
      ]
     },
     "metadata": {},
     "output_type": "display_data"
    }
   ],
   "source": [
    "eqc = sp.det(Z0)\n",
    "display(eqc)"
   ]
  },
  {
   "cell_type": "code",
   "execution_count": 15,
   "id": "ec959988-e711-475c-a273-c7ba501c49e4",
   "metadata": {},
   "outputs": [
    {
     "name": "stdout",
     "output_type": "stream",
     "text": [
      "[3.01752518978693, 8.11754530193712]\n"
     ]
    }
   ],
   "source": [
    "roots = sp.solve(eqc, ω)\n",
    "roots = [ r for r in roots if r > 0]\n",
    "print(roots)\n",
    "ω_1 = min(roots)\n",
    "ω_2 = max(roots)"
   ]
  },
  {
   "cell_type": "markdown",
   "id": "6ed47add-5ce3-4e68-b41b-8e3549d1045f",
   "metadata": {},
   "source": [
    "## Matriz de impedância mecânica\n",
    "A matriz de impedância mecânica é"
   ]
  },
  {
   "cell_type": "code",
   "execution_count": 30,
   "id": "f61b41da-0c74-4533-91e2-db1aa2889e70",
   "metadata": {},
   "outputs": [
    {
     "data": {
      "text/latex": [
       "$\\displaystyle \\left[\\begin{matrix}- ω^{2} + 0.2 i ω + 40.0 & -40.0\\\\-40.0 & - 2 ω^{2} + 0.15 i ω + 70.0\\end{matrix}\\right]$"
      ],
      "text/plain": [
       "Matrix([\n",
       "[-ω**2 + 0.2*I*ω + 40.0,                     -40.0],\n",
       "[                 -40.0, -2*ω**2 + 0.15*I*ω + 70.0]])"
      ]
     },
     "metadata": {},
     "output_type": "display_data"
    }
   ],
   "source": [
    "Ziw = k - ω**2*m + I*ω*c\n",
    "display(Ziw)"
   ]
  },
  {
   "cell_type": "markdown",
   "id": "27bdc317-9aca-43bc-8e30-61ca91145cf8",
   "metadata": {},
   "source": [
    "para a frequência da força externa dada,"
   ]
  },
  {
   "cell_type": "code",
   "execution_count": 34,
   "id": "99c44ad4-f4eb-41a2-9d6f-3d28164d252c",
   "metadata": {},
   "outputs": [
    {
     "data": {
      "text/latex": [
       "$\\displaystyle \\left[\\begin{matrix}0.521582395642565 + 1.25663706143592 i & -40.0\\\\-40.0 & -8.95683520871487 + 0.942477796076938 i\\end{matrix}\\right]$"
      ],
      "text/plain": [
       "Matrix([\n",
       "[0.521582395642565 + 1.25663706143592*I,                                   -40.0],\n",
       "[                                 -40.0, -8.95683520871487 + 0.942477796076938*I]])"
      ]
     },
     "metadata": {},
     "output_type": "display_data"
    }
   ],
   "source": [
    "Zi = Ziw.subs([(ω, ωe)])\n",
    "display(sp.N(Zi))"
   ]
  },
  {
   "cell_type": "markdown",
   "id": "0eb1c2c8-4255-4593-b505-070d42f02c26",
   "metadata": {},
   "source": [
    "## Resolvendo para os deslocamentos"
   ]
  },
  {
   "cell_type": "code",
   "execution_count": 40,
   "id": "82ea9dd6-1557-4906-80e6-54d24ef77545",
   "metadata": {},
   "outputs": [
    {
     "data": {
      "text/latex": [
       "$\\displaystyle \\left[\\begin{matrix}0.0557342333127445 - 0.00624258700763186 i\\\\-0.24907713347191 + 0.00166954199212658 i\\end{matrix}\\right]$"
      ],
      "text/plain": [
       "Matrix([\n",
       "[0.0557342333127445 - 0.00624258700763186*I],\n",
       "[ -0.24907713347191 + 0.00166954199212658*I]])"
      ]
     },
     "metadata": {},
     "output_type": "display_data"
    }
   ],
   "source": [
    "X = sp.N(Zi.LUsolve(F0))\n",
    "display(X)"
   ]
  },
  {
   "cell_type": "code",
   "execution_count": null,
   "id": "d67216f5-d370-4f6e-a121-fe156a08ab39",
   "metadata": {},
   "outputs": [],
   "source": []
  }
 ],
 "metadata": {
  "kernelspec": {
   "display_name": "Python 3 (ipykernel)",
   "language": "python",
   "name": "python3"
  },
  "language_info": {
   "codemirror_mode": {
    "name": "ipython",
    "version": 3
   },
   "file_extension": ".py",
   "mimetype": "text/x-python",
   "name": "python",
   "nbconvert_exporter": "python",
   "pygments_lexer": "ipython3",
   "version": "3.10.4"
  }
 },
 "nbformat": 4,
 "nbformat_minor": 5
}
