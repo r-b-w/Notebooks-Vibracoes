{
 "cells": [
  {
   "cell_type": "markdown",
   "id": "0a555b5c-20f5-4906-b4e4-1ede6d6dcaa0",
   "metadata": {},
   "source": [
    "# Vibração Forçada com dois graus de liberdade\n",
    "\n",
    "Vamos resolver o problema de vibração forçada com 2 GL usando a matriz de impedância mecânica.\n",
    "\n",
    "A solução é completamente genérica para qualquer problema com 2 GL."
   ]
  },
  {
   "cell_type": "markdown",
   "id": "c1cfb522-a54e-4fc4-981d-006215ca0dfa",
   "metadata": {},
   "source": [
    "##  Setup"
   ]
  },
  {
   "cell_type": "code",
   "execution_count": 1,
   "id": "517ced55-d32a-453c-b565-d9aeca81b9fa",
   "metadata": {},
   "outputs": [],
   "source": [
    "import sympy as sp\n",
    "from sympy import I\n",
    "from sympy.abc import t"
   ]
  },
  {
   "cell_type": "markdown",
   "id": "ecfdda08-3a50-44aa-9c6e-332509c2a971",
   "metadata": {},
   "source": [
    "## Sistema mecânico\n",
    "Vamos definir o sistema mecânico com as matrizes de massa, rigidez e amortecimento."
   ]
  },
  {
   "cell_type": "code",
   "execution_count": 2,
   "id": "214bd394-4834-4d00-980c-8bd0c4c9e8a0",
   "metadata": {},
   "outputs": [],
   "source": [
    "m = sp.Matrix([[1, 0],\n",
    "               [0, 2]])\n",
    "c = sp.Matrix([[0.2, 0],\n",
    "               [0.0, 0.15]])\n",
    "k = sp.Matrix([[40.0, -40.0],\n",
    "               [-40.0, 70.0]])"
   ]
  },
  {
   "cell_type": "markdown",
   "id": "f213d271-1273-40e2-be39-cde03940b804",
   "metadata": {},
   "source": [
    "## Força externa"
   ]
  },
  {
   "cell_type": "code",
   "execution_count": 3,
   "id": "424fa620-d829-4ea3-9970-36a6a06e6ac2",
   "metadata": {},
   "outputs": [],
   "source": [
    "F0 = sp.Matrix([0.0, 5.0])\n",
    "ωe = 1.0*sp.pi"
   ]
  },
  {
   "cell_type": "markdown",
   "id": "62c486ce-9058-4675-8afd-98669402c657",
   "metadata": {},
   "source": [
    "## Frequências naturais\n",
    "Apesar de não ser estritamente necessário, sempre é bom calcular as frequências naturais do problema, para ajudar a entender o comportamento."
   ]
  },
  {
   "cell_type": "code",
   "execution_count": 4,
   "id": "c308dcc8-a48c-4605-a887-de192b612e71",
   "metadata": {},
   "outputs": [
    {
     "data": {
      "text/latex": [
       "$\\displaystyle \\left[\\begin{matrix}40.0 - ω^{2} & -40.0\\\\-40.0 & 70.0 - 2 ω^{2}\\end{matrix}\\right]$"
      ],
      "text/plain": [
       "Matrix([\n",
       "[40.0 - ω**2,         -40.0],\n",
       "[      -40.0, 70.0 - 2*ω**2]])"
      ]
     },
     "metadata": {},
     "output_type": "display_data"
    }
   ],
   "source": [
    "ω = sp.symbols('ω')\n",
    "Z0 = k - ω**2 * m\n",
    "display(Z0)"
   ]
  },
  {
   "cell_type": "markdown",
   "id": "94356344-26ff-4af8-bbc7-3f037d9fbfd9",
   "metadata": {},
   "source": [
    "### Equação característica"
   ]
  },
  {
   "cell_type": "code",
   "execution_count": 5,
   "id": "44e43b22-937f-4651-b67b-7b359630055e",
   "metadata": {},
   "outputs": [
    {
     "data": {
      "text/latex": [
       "$\\displaystyle 2 ω^{4} - 150.0 ω^{2} + 1200.0$"
      ],
      "text/plain": [
       "2*ω**4 - 150.0*ω**2 + 1200.0"
      ]
     },
     "metadata": {},
     "output_type": "display_data"
    }
   ],
   "source": [
    "eqc = sp.det(Z0)\n",
    "display(eqc)"
   ]
  },
  {
   "cell_type": "code",
   "execution_count": 6,
   "id": "ec959988-e711-475c-a273-c7ba501c49e4",
   "metadata": {},
   "outputs": [
    {
     "name": "stdout",
     "output_type": "stream",
     "text": [
      "[3.01752518978693, 8.11754530193712]\n"
     ]
    }
   ],
   "source": [
    "roots = sp.solve(eqc, ω)\n",
    "roots = [ r for r in roots if r > 0]\n",
    "print(roots)\n",
    "ω_1 = min(roots)\n",
    "ω_2 = max(roots)"
   ]
  },
  {
   "cell_type": "markdown",
   "id": "6ed47add-5ce3-4e68-b41b-8e3549d1045f",
   "metadata": {},
   "source": [
    "## Matriz de impedância mecânica\n",
    "A matriz de impedância mecânica é"
   ]
  },
  {
   "cell_type": "code",
   "execution_count": 7,
   "id": "f61b41da-0c74-4533-91e2-db1aa2889e70",
   "metadata": {},
   "outputs": [
    {
     "data": {
      "text/latex": [
       "$\\displaystyle \\left[\\begin{matrix}- ω^{2} + 0.2 i ω + 40.0 & -40.0\\\\-40.0 & - 2 ω^{2} + 0.15 i ω + 70.0\\end{matrix}\\right]$"
      ],
      "text/plain": [
       "Matrix([\n",
       "[-ω**2 + 0.2*I*ω + 40.0,                     -40.0],\n",
       "[                 -40.0, -2*ω**2 + 0.15*I*ω + 70.0]])"
      ]
     },
     "metadata": {},
     "output_type": "display_data"
    }
   ],
   "source": [
    "Ziw = k - ω**2*m + I*ω*c\n",
    "display(Ziw)"
   ]
  },
  {
   "cell_type": "markdown",
   "id": "27bdc317-9aca-43bc-8e30-61ca91145cf8",
   "metadata": {},
   "source": [
    "para a frequência da força externa dada,"
   ]
  },
  {
   "cell_type": "code",
   "execution_count": 8,
   "id": "99c44ad4-f4eb-41a2-9d6f-3d28164d252c",
   "metadata": {},
   "outputs": [
    {
     "data": {
      "text/latex": [
       "$\\displaystyle \\left[\\begin{matrix}30.1303955989106 + 0.628318530717959 i & -40.0\\\\-40.0 & 50.2607911978213 + 0.471238898038469 i\\end{matrix}\\right]$"
      ],
      "text/plain": [
       "Matrix([\n",
       "[30.1303955989106 + 0.628318530717959*I,                                  -40.0],\n",
       "[                                 -40.0, 50.2607911978213 + 0.471238898038469*I]])"
      ]
     },
     "metadata": {},
     "output_type": "display_data"
    }
   ],
   "source": [
    "Zi = Ziw.subs([(ω, ωe)])\n",
    "display(sp.N(Zi))"
   ]
  },
  {
   "cell_type": "markdown",
   "id": "0eb1c2c8-4255-4593-b505-070d42f02c26",
   "metadata": {},
   "source": [
    "## Resolvendo para os deslocamentos"
   ]
  },
  {
   "cell_type": "code",
   "execution_count": 9,
   "id": "82ea9dd6-1557-4906-80e6-54d24ef77545",
   "metadata": {},
   "outputs": [
    {
     "data": {
      "text/latex": [
       "$\\displaystyle \\left[\\begin{matrix}-1.81307512601305 - 0.96602729329122 i\\\\-1.35054244869409 - 0.756149330136679 i\\end{matrix}\\right]$"
      ],
      "text/plain": [
       "Matrix([\n",
       "[ -1.81307512601305 - 0.96602729329122*I],\n",
       "[-1.35054244869409 - 0.756149330136679*I]])"
      ]
     },
     "metadata": {},
     "output_type": "display_data"
    }
   ],
   "source": [
    "X = sp.N(Zi.LUsolve(F0))\n",
    "display(X)"
   ]
  },
  {
   "cell_type": "markdown",
   "id": "c97a77bd-5cdc-4b42-a471-fdae476632cc",
   "metadata": {},
   "source": [
    "## Magnitude e fase"
   ]
  },
  {
   "cell_type": "code",
   "execution_count": 10,
   "id": "d67216f5-d370-4f6e-a121-fe156a08ab39",
   "metadata": {},
   "outputs": [
    {
     "data": {
      "text/latex": [
       "$\\displaystyle \\left[\\begin{matrix}2.05437341881918\\\\1.54781352726702\\end{matrix}\\right]$"
      ],
      "text/plain": [
       "Matrix([\n",
       "[2.05437341881918],\n",
       "[1.54781352726702]])"
      ]
     },
     "metadata": {},
     "output_type": "display_data"
    },
    {
     "data": {
      "text/latex": [
       "$\\displaystyle \\left[\\begin{matrix}-2.65204168020707\\\\-2.63119139049153\\end{matrix}\\right]$"
      ],
      "text/plain": [
       "Matrix([\n",
       "[-2.65204168020707],\n",
       "[-2.63119139049153]])"
      ]
     },
     "metadata": {},
     "output_type": "display_data"
    }
   ],
   "source": [
    "Xmag = sp.Abs(X)\n",
    "ϕ = sp.N(X.applyfunc(sp.arg))\n",
    "display(Xmag)\n",
    "display(ϕ)"
   ]
  },
  {
   "cell_type": "markdown",
   "id": "58f200f7-769d-4d15-a785-6026197931ec",
   "metadata": {},
   "source": [
    "## Resposta total\n",
    "\n",
    "Excluindo o transiente é claro."
   ]
  },
  {
   "cell_type": "code",
   "execution_count": 11,
   "id": "a6d76ccc-4506-484e-bd90-e671b19250bf",
   "metadata": {},
   "outputs": [
    {
     "data": {
      "text/latex": [
       "$\\displaystyle 2.05437341881918 \\cos{\\left(1.0 \\pi t - 2.65204168020707 \\right)}$"
      ],
      "text/plain": [
       "2.05437341881918*cos(1.0*pi*t - 2.65204168020707)"
      ]
     },
     "metadata": {},
     "output_type": "display_data"
    },
    {
     "data": {
      "text/latex": [
       "$\\displaystyle 1.54781352726702 \\cos{\\left(1.0 \\pi t - 2.63119139049153 \\right)}$"
      ],
      "text/plain": [
       "1.54781352726702*cos(1.0*pi*t - 2.63119139049153)"
      ]
     },
     "metadata": {},
     "output_type": "display_data"
    }
   ],
   "source": [
    "x_1 = Xmag[0]*sp.cos(ωe*t+ϕ[0])\n",
    "x_2 = Xmag[1]*sp.cos(ωe*t+ϕ[1])\n",
    "display(x_1)\n",
    "display(x_2)"
   ]
  },
  {
   "cell_type": "markdown",
   "id": "097cb81c-b724-4312-b193-014c0844e94a",
   "metadata": {},
   "source": [
    "## Resposta na forma gráfica"
   ]
  },
  {
   "cell_type": "code",
   "execution_count": 21,
   "id": "7e7e303b-83b0-4906-a632-59ff2aace734",
   "metadata": {},
   "outputs": [
    {
     "data": {
      "image/png": "[encoded data removed]",
      "text/plain": [
       "<Figure size 720x432 with 1 Axes>"
      ]
     },
     "metadata": {
      "needs_background": "light"
     },
     "output_type": "display_data"
    }
   ],
   "source": [
    "τe = 2*sp.pi/ωe\n",
    "p1 = sp.plot(x_1, (t, 0, 5*τe), size=(10,6), xlabel=\"tempo (s)\", ylabel=\"Deslocamento (m)\",\n",
    "             show=False, label=r\"$x_1$\", legend=True) \n",
    "p2 = sp.plot(x_2, (t, 0, 5*τe), show=False, label=r\"$x_2$\")\n",
    "p1.extend(p2)\n",
    "p1.show()"
   ]
  }
 ],
 "metadata": {
  "kernelspec": {
   "display_name": "Python 3 (ipykernel)",
   "language": "python",
   "name": "python3"
  },
  "language_info": {
   "codemirror_mode": {
    "name": "ipython",
    "version": 3
   },
   "file_extension": ".py",
   "mimetype": "text/x-python",
   "name": "python",
   "nbconvert_exporter": "python",
   "pygments_lexer": "ipython3",
   "version": "3.9.4"
  }
 },
 "nbformat": 4,
 "nbformat_minor": 5
}
