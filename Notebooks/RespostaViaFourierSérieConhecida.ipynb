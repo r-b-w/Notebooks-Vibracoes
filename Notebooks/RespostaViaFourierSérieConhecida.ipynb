{
 "cells": [
  {
   "cell_type": "markdown",
   "metadata": {
    "id": "NIqX-nUe2foX"
   },
   "source": [
    "# Solução via série de Fourier\n",
    "Neste notebook vamos demonstrar a solução via Série de Fourier de um problema de vibração forçada amortecida, quando você já sabe a série da Função, que veio, por exemplo, de uma tabela ou de uma busca na internet."
   ]
  },
  {
   "cell_type": "markdown",
   "metadata": {
    "id": "K0I0Y-413fZW"
   },
   "source": [
    "## Setup"
   ]
  },
  {
   "cell_type": "code",
   "execution_count": 1,
   "metadata": {
    "id": "jrytRvRx3fud"
   },
   "outputs": [],
   "source": [
    "import numpy as np\n",
    "import matplotlib.pyplot as plt\n",
    "%matplotlib inline"
   ]
  },
  {
   "cell_type": "markdown",
   "metadata": {
    "id": "HDu9yo4t20gN"
   },
   "source": [
    "## Fórmulas\n",
    "Supondo que a  força aplicada seja periódica, com frequência fundamental $\\omega = 2\\pi/\\tau$, podemos escrevê-la como\n",
    "\n",
    "$$ f(t) = \\frac{a_0}{2} + \\sum_{j=1}^\\infty\n",
    "\\left[ a_j \\cos(j \\omega t) + b_j \\sin(j \\omega t) \\right],$$\n",
    "com\n",
    "$$ a_j = \\int_0^\\tau f(t) \\cos(j\\omega t)\\, dt, \\quad\n",
    "   b_j = \\int_0^\\tau f(t) \\sin(j\\omega t)\\, dt. $$\n",
    "\n",
    "## Resposta\n",
    "Neste caso, a resposta é dada por\n",
    "\n",
    "$$x(t) = \\frac{a_0}{2k} + \n",
    "\\sum_{j=1}^{\\infty}\n",
    "\\left[ \\frac{a_j/k}{\\sqrt{(1-(jr)^2)^2 + (2j\\zeta r)^2}}\\cos(j\\omega t - \\phi_j)\n",
    "+\n",
    " \\frac{b_j/k}{\\sqrt{(1-(jr)^2)^2 + (2j\\zeta r)^2}}\\sin(j\\omega t - \\phi_j)\n",
    " \\right],$$\n",
    "com \n",
    "$$ r = \\frac{\\omega}{\\omega_n}, \\quad \\tan \\phi_j  = \\frac{2j\\zeta r}{1-(jr)^2}.$$"
   ]
  },
  {
   "cell_type": "markdown",
   "metadata": {
    "id": "42CzB4zv3YN7"
   },
   "source": [
    "## Sistema mecânico"
   ]
  },
  {
   "cell_type": "code",
   "execution_count": 2,
   "metadata": {
    "colab": {
     "base_uri": "https://localhost:8080/"
    },
    "id": "rxlbsf4r3cpF",
    "outputId": "cf37eeae-d18e-44f9-c99f-2da7aa7dfa38"
   },
   "outputs": [
    {
     "name": "stdout",
     "output_type": "stream",
     "text": [
      "Frequência natural: 6.32 rad/s, Período natural: 0.993 s\n",
      "Razão de amortecimento: 1.6%\n"
     ]
    }
   ],
   "source": [
    "m = 1\n",
    "c = 0.2\n",
    "k = 40\n",
    "wn = np.sqrt(k/m)\n",
    "cc = 2*m*wn\n",
    "zeta = c/cc\n",
    "taun = 2*np.pi/wn\n",
    "print(f\"Frequência natural: {wn:.3g} rad/s, Período natural: {taun:.3g} s\")\n",
    "print(f\"Razão de amortecimento: {100*zeta:.2g}%\")"
   ]
  },
  {
   "cell_type": "markdown",
   "metadata": {
    "id": "YQ-HUXtb556v"
   },
   "source": [
    "## Força externa\n",
    "Vamos tomar como exemplo uma função senoidal retificada, mostrada abaixo.\n",
    "<img src=\"https://drive.google.com/uc?export=view&id=1BqaHb0i2IOeg-gHsXruVluLO_RJM-Z5P\" width=\"500\">\n",
    "\n",
    "A série de Fourier desta função, conforme a tabela disponível no material, é\n",
    "\n",
    "$$f(t) =  \\frac{2A}{\\pi} - \\sum_{n=1}^\\infty \\frac{4A}{\\pi(4n^2-1)}\\cos(n \\omega_0 t), $$\n",
    "com $\\omega_0 = (2\\pi)/T$.\n",
    "\n",
    "Como esta é uma função par, temos uma série em cossenos apenas."
   ]
  },
  {
   "cell_type": "markdown",
   "metadata": {
    "id": "SXX5IiqW9lY8"
   },
   "source": [
    "## Parâmetros da força"
   ]
  },
  {
   "cell_type": "code",
   "execution_count": 3,
   "metadata": {
    "id": "EKS8IFsp9qfz"
   },
   "outputs": [],
   "source": [
    "A = 10\n",
    "T = 2.3\n",
    "\n",
    "w0 = 2*np.pi/T"
   ]
  },
  {
   "cell_type": "markdown",
   "metadata": {
    "id": "5WyDJayL9FJK"
   },
   "source": [
    "## Cálculo dos coeficientes da série\n",
    "\n",
    "Temos que escolher a priori o número de coeficientes."
   ]
  },
  {
   "cell_type": "code",
   "execution_count": 11,
   "metadata": {
    "colab": {
     "base_uri": "https://localhost:8080/",
     "height": 320
    },
    "id": "u7ltMc0q4TjC",
    "outputId": "346e90f1-57be-4e4c-8015-8663879f7267"
   },
   "outputs": [
    {
     "name": "stdout",
     "output_type": "stream",
     "text": [
      "[4.24413182 0.84882636 0.36378273 0.20210152 0.12861006 0.08903773\n",
      " 0.06529434 0.04993096 0.03941918 0.03191077 0.02636107 0.0221433\n",
      " 0.01886281 0.01626104 0.01416284]\n"
     ]
    },
    {
     "name": "stderr",
     "output_type": "stream",
     "text": [
      "/tmp/ipykernel_118179/451538812.py:8: UserWarning: Matplotlib is currently using module://matplotlib_inline.backend_inline, which is a non-GUI backend, so cannot show the figure.\n",
      "  fig.show()\n"
     ]
    },
    {
     "data": {
      "image/png": "[encoded data removed]",
      "text/plain": [
       "<Figure size 432x288 with 1 Axes>"
      ]
     },
     "metadata": {
      "needs_background": "light"
     },
     "output_type": "display_data"
    }
   ],
   "source": [
    "nterm = 15\n",
    "\n",
    "ens = np.arange(1, nterm+1)\n",
    "an = (4*A)/(np.pi*(4*ens**2 -1))\n",
    "print(an)\n",
    "fig, ax = plt.subplots()\n",
    "ax.bar(ens, an)\n",
    "fig.show()"
   ]
  },
  {
   "cell_type": "markdown",
   "metadata": {
    "id": "3eer5J5a-7sl"
   },
   "source": [
    "## Cálculo da resposta\n",
    "Precisamos definir em que tempos calcular a resposta."
   ]
  },
  {
   "cell_type": "code",
   "execution_count": 5,
   "metadata": {
    "id": "fv9bmscf9Ulw"
   },
   "outputs": [],
   "source": [
    "nT = 4\n",
    "points_per_cycle = 400\n",
    "final_time = nT*T\n",
    "total_points = nT*points_per_cycle\n",
    "times = np.linspace(0, final_time, total_points, endpoint=True)"
   ]
  },
  {
   "cell_type": "markdown",
   "metadata": {
    "id": "QLyYalUuCpUw"
   },
   "source": [
    "Só precisamos calcular os termos em cosseno! Vou mudar $j$ para $n$ para ficar consistente.\n",
    "\n",
    "$$ A_n = \\frac{a_n/k}{\\sqrt{(1-(nr)^2)^2 + (2n\\zeta r)^2}}.$$"
   ]
  },
  {
   "cell_type": "code",
   "execution_count": 12,
   "metadata": {
    "colab": {
     "base_uri": "https://localhost:8080/",
     "height": 556
    },
    "id": "2Rz_P96TCAxp",
    "outputId": "374e31eb-882f-4ce6-9885-34d03eef43d1"
   },
   "outputs": [
    {
     "name": "stdout",
     "output_type": "stream",
     "text": [
      "[1.30421138e-01 8.31587287e-02 1.33670161e-02 2.54422189e-03\n",
      " 8.77306884e-04 3.89345428e-04 2.00472898e-04 1.14090489e-04\n",
      " 6.98288527e-05 4.51798652e-05 3.05449838e-05 2.14013218e-05\n",
      " 1.54456139e-05 1.14294080e-05 8.64030917e-06]\n"
     ]
    },
    {
     "name": "stderr",
     "output_type": "stream",
     "text": [
      "/tmp/ipykernel_118179/1402585065.py:7: UserWarning: Matplotlib is currently using module://matplotlib_inline.backend_inline, which is a non-GUI backend, so cannot show the figure.\n",
      "  fig.show()\n"
     ]
    },
    {
     "data": {
      "image/png": "[encoded data removed]",
      "text/plain": [
       "<Figure size 720x576 with 1 Axes>"
      ]
     },
     "metadata": {
      "needs_background": "light"
     },
     "output_type": "display_data"
    }
   ],
   "source": [
    "r = w0/wn\n",
    "An = (an/k)/np.sqrt((1-(ens*r)**2)**2 + (2*ens*zeta*r)**2)\n",
    "print(An)\n",
    "fig, ax = plt.subplots()\n",
    "ax.bar(ens, An)\n",
    "fig.set_size_inches(10, 8)\n",
    "fig.show()"
   ]
  },
  {
   "cell_type": "markdown",
   "metadata": {
    "id": "WDpGgVfWD6Ca"
   },
   "source": [
    "Precisamos também dos ângulos de fase,\n",
    "$$\\phi_n  =\\arctan \\left( \\frac{2n\\zeta r}{1-(nr)^2} \\right).$$"
   ]
  },
  {
   "cell_type": "code",
   "execution_count": 7,
   "metadata": {
    "id": "TA6Y5VDeDhGu"
   },
   "outputs": [],
   "source": [
    "phin = np.arctan2(2*ens*zeta*r, 1 - (ens*r)**2)"
   ]
  },
  {
   "cell_type": "markdown",
   "metadata": {
    "id": "s3lbAmbAEprE"
   },
   "source": [
    "Podemos agora calcular todos os cossenos para todos os tempos e frequências."
   ]
  },
  {
   "cell_type": "code",
   "execution_count": 8,
   "metadata": {
    "id": "-wCvCIGs_uER"
   },
   "outputs": [],
   "source": [
    "cwt = np.cos(w0*ens[:,np.newaxis]*times - phin[:, np.newaxis])"
   ]
  },
  {
   "cell_type": "markdown",
   "metadata": {
    "id": "o4cVNSQeE7Rr"
   },
   "source": [
    "E, finalmente, a reposta, somando tudo."
   ]
  },
  {
   "cell_type": "code",
   "execution_count": 9,
   "metadata": {
    "id": "cUWBq23eEy4r"
   },
   "outputs": [],
   "source": [
    "xp = 2*A/(k*np.pi) - An.dot(cwt)"
   ]
  },
  {
   "cell_type": "code",
   "execution_count": 10,
   "metadata": {
    "colab": {
     "base_uri": "https://localhost:8080/",
     "height": 528
    },
    "id": "szF0RCY7FOEb",
    "outputId": "ab86e36d-7141-4b97-de09-6bc4b1710544"
   },
   "outputs": [
    {
     "name": "stderr",
     "output_type": "stream",
     "text": [
      "/tmp/ipykernel_118179/3856320583.py:7: UserWarning: Matplotlib is currently using module://matplotlib_inline.backend_inline, which is a non-GUI backend, so cannot show the figure.\n",
      "  fig.show()\n"
     ]
    },
    {
     "data": {
      "image/png": "[encoded data removed]",
      "text/plain": [
       "<Figure size 720x576 with 1 Axes>"
      ]
     },
     "metadata": {
      "needs_background": "light"
     },
     "output_type": "display_data"
    }
   ],
   "source": [
    "fig, ax = plt.subplots()\n",
    "ax.plot(times, xp)\n",
    "ax.set_title(\"Resposta via série de Fourier\",fontsize=22)\n",
    "ax.set_ylabel(r\"$x_p$\", fontsize=18)\n",
    "ax.set_xlabel(\"tempo\", fontsize=18)\n",
    "fig.set_size_inches(10, 8)\n",
    "fig.show()"
   ]
  },
  {
   "cell_type": "code",
   "execution_count": null,
   "metadata": {
    "id": "_G0FVQZqFSnq"
   },
   "outputs": [],
   "source": []
  }
 ],
 "metadata": {
  "colab": {
   "provenance": []
  },
  "kernelspec": {
   "display_name": "Python 3 (ipykernel)",
   "language": "python",
   "name": "python3"
  },
  "language_info": {
   "codemirror_mode": {
    "name": "ipython",
    "version": 3
   },
   "file_extension": ".py",
   "mimetype": "text/x-python",
   "name": "python",
   "nbconvert_exporter": "python",
   "pygments_lexer": "ipython3",
   "version": "3.10.6"
  }
 },
 "nbformat": 4,
 "nbformat_minor": 4
}
