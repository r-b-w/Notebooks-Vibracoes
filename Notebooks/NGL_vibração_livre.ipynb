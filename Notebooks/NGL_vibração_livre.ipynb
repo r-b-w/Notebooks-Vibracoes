{
 "cells": [
  {
   "cell_type": "markdown",
   "id": "3bf0d3b3-cf6b-44a6-b673-7dfaf2e0baf3",
   "metadata": {},
   "source": [
    "# N GL Vibração Livre -- Frequências  e modos normais\n",
    "\n",
    "Cálculo das frequências naturais e modos normais para um sistema com N graus de liberdade não amortecido.\n",
    "\n",
    "A equação de movimento é\n",
    "\n",
    "$$ \\boldsymbol{m} \\ddot x + \\boldsymbol{k} x = \\boldsymbol{0},$$\n",
    "\n",
    "Admitindo que a solução seja da forma $\\boldsymbol{x}(t) = \\boldsymbol{X} \\cos \\omega t$, podemos escrever\n",
    "\n",
    "$$ -\\omega^2 \\boldsymbol{m} \\boldsymbol{X} + \\boldsymbol{k}\\boldsymbol{X} = \\boldsymbol{0},$$\n",
    "\n",
    "ou \n",
    "\n",
    "$$ \\left[\\boldsymbol{k}-\\omega^2 \\boldsymbol{m}\\right] \\boldsymbol{X}= \\boldsymbol{0},$$\n",
    "\n",
    "pré-multiplicando por $ \\boldsymbol{k}^{-1}$ e definindo $ \\boldsymbol{D} = \\boldsymbol{k}^{-1}\\boldsymbol{m}$, temos \n",
    "\n",
    "$$ \\left[\\boldsymbol{I}-\\omega^2 \\boldsymbol{D}\\right] \\boldsymbol{X}= \\boldsymbol{0},$$\n",
    "\n",
    "dividindo por $\\omega^2$ ainda $\\lambda = 1/\\omega^2$, ficamos com\n",
    "\n",
    "$$ \\left[\\lambda \\boldsymbol{I}- \\boldsymbol{D}\\right] \\boldsymbol{X}= \\boldsymbol{0},$$\n",
    "\n",
    "que finalmente pode ser rearrumado para\n",
    "\n",
    "$$ \\lambda \\boldsymbol{I} = \\boldsymbol{D} \\boldsymbol{X}.$$\n",
    "\n",
    "\n",
    "É claro que $\\boldsymbol{X}$ é um autovetor da matriz dinâmica $\\boldsymbol{D}$ e $\\lambda$ é o autovalor correspondente."
   ]
  },
  {
   "cell_type": "markdown",
   "id": "cd71c6cb-aa54-45b2-832c-950ebceca8ff",
   "metadata": {},
   "source": [
    "## Setup"
   ]
  },
  {
   "cell_type": "code",
   "execution_count": 32,
   "id": "81433f04-0503-4ecd-9cec-9c25b4aad3ea",
   "metadata": {},
   "outputs": [],
   "source": [
    "import numpy as np\n",
    "import matplotlib.pyplot as plt"
   ]
  },
  {
   "cell_type": "markdown",
   "id": "d30ae572-6576-496c-9fb1-825a8c58bb3c",
   "metadata": {},
   "source": [
    "## Definição do sistema mecânico\n",
    "\n",
    "O sistema vai ser definido em termos das matrizes de massa e rigidez. \n",
    "\n",
    "Vamos usa o exemplo 6.10 como demonstração, mas o  procedimento abaixo é genérico e vale para qualquer número de graus de liberdade, é necessário apenas informar corretamente as matrizes de massa e rigidez.\n",
    "\n",
    "\n",
    "Para resolver o exemplo, temos que adotar valores numéricos para para a massa  e rigidez, e não de forma simbólica como no livro.  É perfeitamente possível resolver este problema simbolicamente como no livro usando o SymPy. No entanto, para problemas de maior porte, isto será inviável ou muito demorado."
   ]
  },
  {
   "cell_type": "code",
   "execution_count": 33,
   "id": "fe6106a5-b714-4472-9058-dd145b0f91ac",
   "metadata": {},
   "outputs": [],
   "source": [
    "m = 1.0\n",
    "k = 1.0\n",
    "\n",
    "M = m*np.array([[1.0, 0.0, 0.0],\n",
    "                [0.0, 1.0, 0.0],\n",
    "                [0.0, 0.0, 1.0]], dtype=np.double)\n",
    "K = np.array([[ 2.0, -1.0,  0.0],\n",
    "              [-1.0,  2.0, -1.0],\n",
    "              [ 0.0, -1.0,  1.0]], dtype=np.double)"
   ]
  },
  {
   "cell_type": "markdown",
   "id": "2e42ce31-73f9-418f-9dae-c88fa3a6f9a7",
   "metadata": {},
   "source": [
    "## Cálculo de autovalores e autovetores\n",
    "\n",
    "*Atenção:* não há garantia de que os autovalores venham em alguma ordem em particular. Para tê-los ordenados é melhor fazer isto explicitamente."
   ]
  },
  {
   "cell_type": "code",
   "execution_count": 34,
   "id": "f4ff0485-c806-409a-9368-e66f7b34b57b",
   "metadata": {},
   "outputs": [
    {
     "data": {
      "text/plain": [
       "array([0.44504187, 1.2469796 , 1.80193774])"
      ]
     },
     "metadata": {},
     "output_type": "display_data"
    },
    {
     "data": {
      "text/plain": [
       "array([[-0.32798528,  0.73697623, -0.59100905],\n",
       "       [-0.59100905,  0.32798528,  0.73697623],\n",
       "       [-0.73697623, -0.59100905, -0.32798528]])"
      ]
     },
     "metadata": {},
     "output_type": "display_data"
    }
   ],
   "source": [
    "D = np.linalg.inv(K)@M\n",
    "λ, X = np.linalg.eig(D)\n",
    "ω = 1.0/np.sqrt(λ)\n",
    "perm = np.argsort(ω)     # reordering index\n",
    "ω = ω[perm]\n",
    "X[...] = X[:, perm]\n",
    "display(ω)\n",
    "display(X)"
   ]
  },
  {
   "cell_type": "markdown",
   "id": "32ba1fe8-aa35-4ec1-998b-819ce6e5ff4b",
   "metadata": {},
   "source": [
    "## Normalização dos modos normais\n",
    "\n",
    "Para ficar igual ao exemplo do livro, temos que ter os modos normais com deslocamento unitário para o primeiro grau de liberdade"
   ]
  },
  {
   "cell_type": "code",
   "execution_count": 35,
   "id": "f2636676-d497-4843-b724-3a423690a2a3",
   "metadata": {},
   "outputs": [
    {
     "data": {
      "text/plain": [
       "array([[ 1.        ,  1.        ,  1.        ],\n",
       "       [ 1.80193774,  0.44504187, -1.2469796 ],\n",
       "       [ 2.2469796 , -0.80193774,  0.55495813]])"
      ]
     },
     "metadata": {},
     "output_type": "display_data"
    }
   ],
   "source": [
    "X /= X[0,:]\n",
    "display(X)"
   ]
  },
  {
   "cell_type": "markdown",
   "id": "b68e83a5-974b-4fe1-9f74-0deed8571587",
   "metadata": {},
   "source": [
    "## Plotagem dos modos normais"
   ]
  },
  {
   "cell_type": "code",
   "execution_count": 36,
   "id": "b94b6610-8181-4bf0-a6de-078e89b664de",
   "metadata": {},
   "outputs": [
    {
     "data": {
      "image/png": "[encoded data removed]",
      "text/plain": [
       "<Figure size 432x288 with 1 Axes>"
      ]
     },
     "metadata": {
      "needs_background": "light"
     },
     "output_type": "display_data"
    }
   ],
   "source": [
    "fig, ax = plt.subplots()\n",
    "_ = ax.plot(np.arange(1, ω.size+1), X)"
   ]
  }
 ],
 "metadata": {
  "kernelspec": {
   "display_name": "Python 3 (ipykernel)",
   "language": "python",
   "name": "python3"
  },
  "language_info": {
   "codemirror_mode": {
    "name": "ipython",
    "version": 3
   },
   "file_extension": ".py",
   "mimetype": "text/x-python",
   "name": "python",
   "nbconvert_exporter": "python",
   "pygments_lexer": "ipython3",
   "version": "3.9.4"
  }
 },
 "nbformat": 4,
 "nbformat_minor": 5
}
