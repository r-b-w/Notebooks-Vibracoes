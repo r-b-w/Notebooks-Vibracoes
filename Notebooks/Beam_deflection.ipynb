{
 "cells": [
  {
   "cell_type": "markdown",
   "id": "eec42176-250d-4db0-b1d0-71f40b61e804",
   "metadata": {},
   "source": [
    "# Simply supported beam deflection"
   ]
  },
  {
   "cell_type": "code",
   "execution_count": 2,
   "id": "22280385-c52e-40cb-9c05-32816df5c5a2",
   "metadata": {},
   "outputs": [],
   "source": [
    "import sympy as sp"
   ]
  },
  {
   "cell_type": "code",
   "execution_count": 3,
   "id": "89973b0c-2919-4fd4-8193-6c0955dc2e0d",
   "metadata": {},
   "outputs": [],
   "source": [
    "x, y, a, E, I, L, P = sp.symbols('x, y, a, E, I, L, P')"
   ]
  },
  {
   "cell_type": "code",
   "execution_count": 4,
   "id": "802b6620-7a18-4229-8dc8-c74b2b03ff6f",
   "metadata": {},
   "outputs": [
    {
     "data": {
      "text/latex": [
       "$\\displaystyle \\frac{P x^{2} \\cdot \\left(3 a - x\\right)}{6 E I}$"
      ],
      "text/plain": [
       "P*x**2*(3*a - x)/(6*E*I)"
      ]
     },
     "metadata": {},
     "output_type": "display_data"
    }
   ],
   "source": [
    "y = P*x**2/(6*E*I)*(3*a-x)\n",
    "display(y)"
   ]
  },
  {
   "cell_type": "code",
   "execution_count": 5,
   "id": "b242fcf9-ee94-40ff-8614-82bb35d6f307",
   "metadata": {},
   "outputs": [
    {
     "data": {
      "text/latex": [
       "$\\displaystyle \\frac{L^{3} P}{3 E I}$"
      ],
      "text/plain": [
       "L**3*P/(3*E*I)"
      ]
     },
     "metadata": {},
     "output_type": "display_data"
    }
   ],
   "source": [
    "y_L = y.subs([(a,L), (x, L)])\n",
    "display(y_L)"
   ]
  },
  {
   "cell_type": "code",
   "execution_count": 6,
   "id": "05b497ac-2569-449b-83f9-45aa5ca31661",
   "metadata": {},
   "outputs": [
    {
     "data": {
      "text/latex": [
       "$\\displaystyle \\frac{11 L^{3} P}{384 E I}$"
      ],
      "text/plain": [
       "11*L**3*P/(384*E*I)"
      ]
     },
     "metadata": {},
     "output_type": "display_data"
    }
   ],
   "source": [
    "y_1 = y.subs([(a,L), (x, L/4)])\n",
    "display(y_1)"
   ]
  },
  {
   "cell_type": "code",
   "execution_count": 7,
   "id": "8c8df20d-2a04-456a-a618-758b4140ec0e",
   "metadata": {},
   "outputs": [
    {
     "data": {
      "text/latex": [
       "$\\displaystyle \\frac{5 L^{3} P}{48 E I}$"
      ],
      "text/plain": [
       "5*L**3*P/(48*E*I)"
      ]
     },
     "metadata": {},
     "output_type": "display_data"
    }
   ],
   "source": [
    "y_2 = y.subs([(a,L), (x, L/2)])\n",
    "display(y_2)"
   ]
  },
  {
   "cell_type": "code",
   "execution_count": 8,
   "id": "abe7bf46-6d29-4618-884e-49bff4eeefd4",
   "metadata": {},
   "outputs": [
    {
     "data": {
      "text/latex": [
       "$\\displaystyle \\frac{27 L^{3} P}{128 E I}$"
      ],
      "text/plain": [
       "27*L**3*P/(128*E*I)"
      ]
     },
     "metadata": {},
     "output_type": "display_data"
    }
   ],
   "source": [
    "y_3 = y.subs([(a,L), (x, 3*L/4)])\n",
    "display(y_3)"
   ]
  },
  {
   "cell_type": "code",
   "execution_count": 9,
   "id": "8926c122-f3fa-4587-9f5e-0e7470adbe11",
   "metadata": {},
   "outputs": [],
   "source": [
    "y_m = sp.symbols('y_m')"
   ]
  },
  {
   "cell_type": "code",
   "execution_count": 10,
   "id": "e243212a-5c20-4f12-87cb-0ec5f4e9b329",
   "metadata": {},
   "outputs": [],
   "source": [
    "t1 = y_1.subs([(P*L**3/(E*I), 3*y_m)])"
   ]
  },
  {
   "cell_type": "code",
   "execution_count": 11,
   "id": "7de422b9-1cfe-4c84-84be-078f2c97a7fb",
   "metadata": {},
   "outputs": [],
   "source": [
    "t2 = y_2.subs([(P*L**3/(E*I), 3*y_m)])"
   ]
  },
  {
   "cell_type": "code",
   "execution_count": 12,
   "id": "40323437-0e31-4375-b6fb-e68868f25774",
   "metadata": {},
   "outputs": [],
   "source": [
    "t3 = y_3.subs([(P*L**3/(E*I), 3*y_m)])"
   ]
  },
  {
   "cell_type": "code",
   "execution_count": 13,
   "id": "a22ace8a-fa23-4c75-bdb5-7b3db238b1bd",
   "metadata": {},
   "outputs": [
    {
     "data": {
      "text/latex": [
       "$\\displaystyle \\frac{11 y_{m}}{128}$"
      ],
      "text/plain": [
       "11*y_m/128"
      ]
     },
     "metadata": {},
     "output_type": "display_data"
    },
    {
     "data": {
      "text/latex": [
       "$\\displaystyle \\frac{5 y_{m}}{16}$"
      ],
      "text/plain": [
       "5*y_m/16"
      ]
     },
     "metadata": {},
     "output_type": "display_data"
    },
    {
     "data": {
      "text/latex": [
       "$\\displaystyle \\frac{81 y_{m}}{128}$"
      ],
      "text/plain": [
       "81*y_m/128"
      ]
     },
     "metadata": {},
     "output_type": "display_data"
    }
   ],
   "source": [
    "display(t1)\n",
    "display(t2)\n",
    "display(t3)"
   ]
  },
  {
   "cell_type": "code",
   "execution_count": 14,
   "id": "0bd58b6b-3d77-43a9-913e-72187d9aab0f",
   "metadata": {},
   "outputs": [],
   "source": [
    "m1, m2, m3 = sp.symbols(\"m1, m2, m3\")"
   ]
  },
  {
   "cell_type": "code",
   "execution_count": 15,
   "id": "b0c32a20-0942-41df-9e38-f2e2b74cb40d",
   "metadata": {},
   "outputs": [
    {
     "data": {
      "text/latex": [
       "$\\displaystyle \\frac{121 m_{1} y_{m}^{2}}{16384} + \\frac{25 m_{2} y_{m}^{2}}{256} + \\frac{6561 m_{3} y_{m}^{2}}{16384}$"
      ],
      "text/plain": [
       "121*m1*y_m**2/16384 + 25*m2*y_m**2/256 + 6561*m3*y_m**2/16384"
      ]
     },
     "metadata": {},
     "output_type": "display_data"
    },
    {
     "data": {
      "text/latex": [
       "$\\displaystyle y_{m}^{2} \\cdot \\left(\\frac{121 m_{1}}{16384} + \\frac{25 m_{2}}{256} + \\frac{6561 m_{3}}{16384}\\right)$"
      ],
      "text/plain": [
       "y_m**2*(121*m1/16384 + 25*m2/256 + 6561*m3/16384)"
      ]
     },
     "metadata": {},
     "output_type": "display_data"
    },
    {
     "data": {
      "text/latex": [
       "$\\displaystyle y_{m}^{2} \\cdot \\left(0.003692626953125 m_{1} + 0.048828125 m_{2} + 0.200225830078125 m_{3}\\right)$"
      ],
      "text/plain": [
       "y_m**2*(0.003692626953125*m1 + 0.048828125*m2 + 0.200225830078125*m3)"
      ]
     },
     "metadata": {},
     "output_type": "display_data"
    },
    {
     "data": {
      "text/latex": [
       "$\\displaystyle y_{m}^{2} \\cdot \\left(0.00738525390625 m_{1} + 0.09765625 m_{2} + 0.40045166015625 m_{3}\\right)$"
      ],
      "text/plain": [
       "y_m**2*(0.00738525390625*m1 + 0.09765625*m2 + 0.40045166015625*m3)"
      ]
     },
     "metadata": {},
     "output_type": "display_data"
    }
   ],
   "source": [
    "Tm =(m1*t1**2+m2*t2**2+m3*t3**2)\n",
    "display(Tm)\n",
    "Tm = Tm.collect(y_m**2)\n",
    "display(Tm)\n",
    "Tm = 1/2*Tm\n",
    "display(Tm.simplify())\n",
    "display((2*Tm).simplify())"
   ]
  },
  {
   "cell_type": "code",
   "execution_count": 21,
   "id": "10e323f4-0670-42cb-8aea-2601128de206",
   "metadata": {},
   "outputs": [
    {
     "data": {
      "text/latex": [
       "$\\displaystyle \\frac{P x^{2} \\cdot \\left(3 L - x\\right)}{6 E I}$"
      ],
      "text/plain": [
       "P*x**2*(3*L - x)/(6*E*I)"
      ]
     },
     "metadata": {},
     "output_type": "display_data"
    },
    {
     "data": {
      "text/latex": [
       "$\\displaystyle \\frac{x^{2} y_{m} \\left(3 L - x\\right)}{2 L^{3}}$"
      ],
      "text/plain": [
       "x**2*y_m*(3*L - x)/(2*L**3)"
      ]
     },
     "metadata": {},
     "output_type": "display_data"
    },
    {
     "data": {
      "text/plain": [
       "'\\\\frac{x^{2} y_{m} \\\\left(3 L - x\\\\right)}{2 L^{3}}'"
      ]
     },
     "execution_count": 21,
     "metadata": {},
     "output_type": "execute_result"
    }
   ],
   "source": [
    "y_x = y.subs([(a, L)])\n",
    "display(y_x)\n",
    "sp.latex(y_x)\n",
    "y_x = y_x.subs([(P/(E*I), 3*y_m/L**3)])\n",
    "display(y_x)\n",
    "sp.latex(y_x)"
   ]
  },
  {
   "cell_type": "code",
   "execution_count": 23,
   "id": "d3188141-d383-49ed-84c2-20cd4007cb62",
   "metadata": {},
   "outputs": [
    {
     "data": {
      "text/latex": [
       "$\\displaystyle \\frac{M x^{4} y_{m}^{2} \\left(3 L - x\\right)^{2}}{4 L^{7}}$"
      ],
      "text/plain": [
       "M*x**4*y_m**2*(3*L - x)**2/(4*L**7)"
      ]
     },
     "metadata": {},
     "output_type": "display_data"
    }
   ],
   "source": [
    "M = sp.symbols('M')\n",
    "dtb = (M/L)*y_x**2\n",
    "display(dtb)"
   ]
  },
  {
   "cell_type": "code",
   "execution_count": 26,
   "id": "f8bea27b-32d7-4d2c-8ac0-33c4548bb848",
   "metadata": {},
   "outputs": [
    {
     "data": {
      "text/latex": [
       "$\\displaystyle \\frac{33 M y_{m}^{2}}{140}$"
      ],
      "text/plain": [
       "33*M*y_m**2/140"
      ]
     },
     "metadata": {},
     "output_type": "display_data"
    }
   ],
   "source": [
    "Tb = sp.integrate(dtb, (x, 0, L))\n",
    "display(Tb)"
   ]
  },
  {
   "cell_type": "code",
   "execution_count": 28,
   "id": "bec9b5df-c873-4b02-99bd-8198504cc59f",
   "metadata": {},
   "outputs": [
    {
     "data": {
      "text/latex": [
       "$\\displaystyle 0.235714285714286$"
      ],
      "text/plain": [
       "0.235714285714286"
      ]
     },
     "execution_count": 28,
     "metadata": {},
     "output_type": "execute_result"
    }
   ],
   "source": [
    "sp.N(33/140)"
   ]
  },
  {
   "cell_type": "code",
   "execution_count": null,
   "id": "da2f3a4d-f4f4-4534-aa01-7db7fb6ca574",
   "metadata": {},
   "outputs": [],
   "source": []
  }
 ],
 "metadata": {
  "kernelspec": {
   "display_name": "Python 3 (ipykernel)",
   "language": "python",
   "name": "python3"
  },
  "language_info": {
   "codemirror_mode": {
    "name": "ipython",
    "version": 3
   },
   "file_extension": ".py",
   "mimetype": "text/x-python",
   "name": "python",
   "nbconvert_exporter": "python",
   "pygments_lexer": "ipython3",
   "version": "3.9.4"
  }
 },
 "nbformat": 4,
 "nbformat_minor": 5
}
