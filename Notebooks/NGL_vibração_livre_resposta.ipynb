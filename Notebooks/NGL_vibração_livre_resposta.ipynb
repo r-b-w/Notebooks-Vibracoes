{
 "cells": [
  {
   "cell_type": "markdown",
   "id": "c3eac0a9-9e70-4306-b737-dd500468e291",
   "metadata": {},
   "source": [
    "# Reposta NGL em vibração livre não amortecida\n",
    "\n",
    "## Definição do problema\n",
    "\n",
    "As equações de movimento para um sistema em vibração livre não amortecida são\n",
    "\n",
    "$$ \\boldsymbol{m}  \\boldsymbol{\\ddot x} + \\boldsymbol{k} \\boldsymbol{x} = \\boldsymbol{0},$$\n",
    "\n",
    "sujeitas à condições iniciais $\\boldsymbol{x}(0)$ e $\\boldsymbol{\\dot x}(0)$.\n",
    "\n",
    "### Frequências naturais e modos normais\n",
    "Substituindo uma solução  da forma $\\boldsymbol{x}(t) = \\boldsymbol{X} \\cos(\\omega t + \\phi)$ na equação de movimento, ficamos com\n",
    "\n",
    "$$ \\left( -\\omega^2 \\boldsymbol{m}  +  \\boldsymbol{k} \\right)\\boldsymbol{X} = \\boldsymbol{0},$$\n",
    "\n",
    "que pode ser reescrito para\n",
    "\n",
    "$$  \\omega^2 \\boldsymbol{m}\\boldsymbol{X}  =  \\boldsymbol{k} \\boldsymbol{X},$$\n",
    "\n",
    "prémultiplicando ambos os lados pela inversa da matriz de massa, ficamos com\n",
    "\n",
    "$$  \\omega^2 \\boldsymbol{X}  =  \\boldsymbol{k} \\boldsymbol{X},$$\n",
    "\n",
    "e fazendo $\\boldsymbol{\\hat k} = \\boldsymbol{k}$ e $\\lambda = \\omega^2$, ficamos com\n",
    "\n",
    "$$  \\lambda \\boldsymbol{X}  =  \\boldsymbol{\\hat k} \\boldsymbol{X}.$$\n",
    "\n",
    "Fica claro que os quadrados das frequências naturais são os autovalores da matriz $\\boldsymbol{\\hat k}$ e os modos normais seus autovetores.\n",
    "\n",
    "Após o cálculo dos modos normais vamos normalizá-los pela atriz de massa, de modo que para $i\\ne j$ temos\n",
    "$$  \\boldsymbol{X}_i^T  \\boldsymbol{m}  \\boldsymbol{X}_i = 1, \\quad \n",
    "    \\boldsymbol{X}_i^T  \\boldsymbol{m}  \\boldsymbol{X}_j = 0, \\quad\n",
    "    \\boldsymbol{X}_i^T  \\boldsymbol{k}  \\boldsymbol{X}_i = \\omega_i^2, \\quad \n",
    "    \\boldsymbol{X}_i^T  \\boldsymbol{k}  \\boldsymbol{X}_j = 0.$$\n",
    "\n",
    "### Resposta total\n",
    "\n",
    "Como, em princípio, encontraremos $N$ frequências naturais e $N$ modos normais correspondentes, a resposta total é da forma\n",
    "\n",
    "$$\\boldsymbol{x}(t) = \\sum_{i}^{N} \\boldsymbol{X}_i A_i \\cos(\\omega_i t + \\phi_i).$$\n",
    "\n",
    "Introduzindo as condições iniciais para o deslocamento, para $t = 0$, ficamos com\n",
    "\n",
    "$$\\boldsymbol{x}(0) = \\sum_{i}^{N} \\boldsymbol{X}_i A_i \\cos( \\phi_i), $$\n",
    "\n",
    "onde $\\boldsymbol{X}_i$ e $\\boldsymbol{x}(0)$ são conhecidos. O sistema acima pode ser reescrito como \n",
    "\n",
    "$$  \\boldsymbol{X}_m \\boldsymbol{A}_{c}  = \\boldsymbol{x}(0) ,$$\n",
    "\n",
    "onde $\\boldsymbol{X}_m$ é matriz modal, com a coluna $i$ sendo o modo normal $i$, e $\\boldsymbol{A}_{c}$ é uma matriz coluna onde a linha $i$ é $A_i\\cos\\phi_i$, que são as incógnitas deste sistema.\n",
    "\n",
    "A equação para velocidades é obtida derivando em relação ao tempo as equações para o deslocalmento.\n",
    "\n",
    "$$ \\boldsymbol{\\dot x}(t) = -  \\sum_{i}^{N} \\boldsymbol{X}_i \\omega_iA_i \\sin(\\omega_i t + \\phi_i).$$\n",
    "\n",
    "Introduzindo as condições iniciais para a velocidade, ficamos com\n",
    "\n",
    "$$ \\boldsymbol{\\dot x}(0) = -  \\sum_{i}^{N} \\boldsymbol{X}_i \\omega_iA_i \\sin( \\phi_i), $$\n",
    "\n",
    "onde $\\boldsymbol{X}_i$, $\\omega_i$ e $\\boldsymbol{\\dot x}(0)$ são conhecidos. Vamos rearrumar o sistema como acima,\n",
    "\n",
    "$$  \\boldsymbol{X}_\\omega \\boldsymbol{A}_{s}  = -\\boldsymbol{\\dot x}(0) ,$$\n",
    "\n",
    "onde $\\boldsymbol{X}_\\omega$ é uma matriz onde a coluna $i$ é dada por $\\omega_i \\boldsymbol{X}_i$ e $\\boldsymbol{A}_{s}$ é uma matriz coluna onde a linha $i$ é $A_i\\sin\\phi_i$, que são as incógnitas deste sistema.\n",
    "\n",
    "Após resolver estes sistemas, calculamos \n",
    "$$ A_i = \\sqrt{A_i\\sin\\phi_i^2+A_i\\sin\\phi_i^2}, \\quad \\phi_i = \\arctan\\left(\\frac{A_i \\sin\\phi_i}{A_i \\cos\\phi_i}\\right).$$\n"
   ]
  },
  {
   "cell_type": "markdown",
   "id": "57a007fa-1727-4a7c-8ab7-5244a92a88d6",
   "metadata": {
    "tags": []
   },
   "source": [
    "## Setup"
   ]
  },
  {
   "cell_type": "code",
   "execution_count": 12,
   "id": "d3dd38b0-c977-4199-9b66-6e1a204cb17f",
   "metadata": {},
   "outputs": [],
   "source": [
    "import numpy as np\n",
    "import matplotlib.pyplot as plt\n",
    "import ipywidgets as ipw"
   ]
  },
  {
   "cell_type": "markdown",
   "id": "49f96af4-33eb-43d1-b5aa-a6b61cf839f4",
   "metadata": {
    "tags": []
   },
   "source": [
    "## Sistema mecânico\n",
    "\n",
    "O sistema mecânico é definido através das matrizes de massa e rigidez, e dos deslocamentos e velocidades iniciais.\n",
    "\n",
    "Este notebook, em princípio, vale para qualquer sistema com $N$ graus de liberdade, mas a plotagem só está configurada para até 10 graus de liberdade."
   ]
  },
  {
   "cell_type": "code",
   "execution_count": 23,
   "id": "0da73e2d-0ef8-4d1f-a43b-150a45918829",
   "metadata": {},
   "outputs": [],
   "source": [
    "# Make sure all of these are compatible.\n",
    "\n",
    "m = np.array([[1.0, 0.0, 0.0],\n",
    "              [0.0, 1.0, 0.0],\n",
    "              [0.0, 0.0, 1.0]], dtype=np.float64)\n",
    "\n",
    "k = np.array([[ 2.0, -1.0,  0.0],\n",
    "              [-1.0,  2.0, -1.0],\n",
    "              [ 0.0, -1.0,  1.0]], dtype=np.float64)\n",
    "\n",
    "# Initial displacement\n",
    "x0 = np.array([0.7369, 0.3279, -0.5910])\n",
    "\n",
    "# Initial velocity\n",
    "v0 = np.array([0.0, 0.0, 0.0])"
   ]
  },
  {
   "cell_type": "markdown",
   "id": "ebabb577-292c-4a7a-be62-efafe7a22c3c",
   "metadata": {},
   "source": [
    "## Frequências naturais e modos normais"
   ]
  },
  {
   "cell_type": "code",
   "execution_count": 24,
   "id": "fa5e8a92-62d2-4c7c-9f0b-6e3770aba081",
   "metadata": {},
   "outputs": [
    {
     "data": {
      "text/plain": [
       "array([0.44504187, 1.2469796 , 1.80193774])"
      ]
     },
     "metadata": {},
     "output_type": "display_data"
    },
    {
     "data": {
      "text/plain": [
       "array([[ 0.32798528, -0.73697623, -0.59100905],\n",
       "       [ 0.59100905, -0.32798528,  0.73697623],\n",
       "       [ 0.73697623,  0.59100905, -0.32798528]])"
      ]
     },
     "metadata": {},
     "output_type": "display_data"
    }
   ],
   "source": [
    "k_hat = np.linalg.inv(m)@k\n",
    "λ, X = np.linalg.eig(k_hat)\n",
    "ω = np.sqrt(λ)\n",
    "perm = np.argsort(ω)     # reordering index\n",
    "ω = ω[perm]\n",
    "X[...] = X[:, perm]      # modal matrix\n",
    "display(ω)\n",
    "display(X)"
   ]
  },
  {
   "cell_type": "markdown",
   "id": "f231158e-8b27-4673-a9c7-5281b578c5e0",
   "metadata": {},
   "source": [
    "### Normalização"
   ]
  },
  {
   "cell_type": "code",
   "execution_count": 25,
   "id": "9ede6628-8c3e-458e-8e09-d12935f40e8f",
   "metadata": {},
   "outputs": [],
   "source": [
    "XmX = X.T@m@X\n",
    "Mii = np.diag(XmX)\n",
    "#display(Mii)\n",
    "Xm = X/np.sqrt(Mii)    # Divide colum i by sqrt(Mii). Understand roadcast rules.\n",
    "#display(Xm.T@m@Xm)"
   ]
  },
  {
   "cell_type": "markdown",
   "id": "3e9f7f92-fb0d-4f67-a7a6-e2857c1ca285",
   "metadata": {},
   "source": [
    "## Sistemas de equações\n",
    "\n",
    "### Resolvendo para $A_i \\cos \\phi_i$"
   ]
  },
  {
   "cell_type": "code",
   "execution_count": 26,
   "id": "07155191-2d3d-4b5b-bb36-78bb8284d4c6",
   "metadata": {},
   "outputs": [
    {
     "data": {
      "text/plain": [
       "array([-6.87333251e-05, -9.99910503e-01, -2.07632574e-05])"
      ]
     },
     "metadata": {},
     "output_type": "display_data"
    }
   ],
   "source": [
    "Ac = np.linalg.solve(Xm, x0)\n",
    "display(Ac)"
   ]
  },
  {
   "cell_type": "markdown",
   "id": "59493578-42fa-43f4-9171-a38b489edf99",
   "metadata": {},
   "source": [
    "### Resolvendo para $A_i \\sin \\phi_i$"
   ]
  },
  {
   "cell_type": "code",
   "execution_count": 27,
   "id": "f7773523-8f03-4f1f-a9f0-15e7d4b45d1d",
   "metadata": {},
   "outputs": [],
   "source": [
    "As = np.linalg.solve(Xm*ω, -v0)"
   ]
  },
  {
   "cell_type": "markdown",
   "id": "e44f1293-05ad-4633-bed1-aae46145480f",
   "metadata": {},
   "source": [
    "### Cálculo de $A_i$ e $\\phi_i$"
   ]
  },
  {
   "cell_type": "code",
   "execution_count": 28,
   "id": "70e40be2-82f3-4986-a2a0-22995d5ec267",
   "metadata": {},
   "outputs": [
    {
     "data": {
      "text/plain": [
       "array([6.87333251e-05, 9.99910503e-01, 2.07632574e-05])"
      ]
     },
     "metadata": {},
     "output_type": "display_data"
    },
    {
     "data": {
      "text/plain": [
       "array([ 3.14159265, -3.14159265,  3.14159265])"
      ]
     },
     "metadata": {},
     "output_type": "display_data"
    }
   ],
   "source": [
    "A = np.hypot(Ac, As)\n",
    "ϕ = np.arctan2(As, Ac)\n",
    "display(A)\n",
    "display(ϕ)"
   ]
  },
  {
   "cell_type": "markdown",
   "id": "fb63d16d-1642-4df0-b210-107074716400",
   "metadata": {},
   "source": [
    "## Resposta total"
   ]
  },
  {
   "cell_type": "code",
   "execution_count": 29,
   "id": "d159ad63-acf5-4079-8741-f08783e3d2a7",
   "metadata": {},
   "outputs": [],
   "source": [
    "τ = 2*np.pi/ω[0]\n",
    "nτ = 5\n",
    "npτ = 100\n",
    "times = np.linspace(0, nτ*τ, nτ*npτ)"
   ]
  },
  {
   "cell_type": "code",
   "execution_count": 30,
   "id": "cad57dc3-6cb7-4b65-9f1c-e84d9b02dca1",
   "metadata": {},
   "outputs": [],
   "source": [
    "Acωtϕ = A[:, np.newaxis]*np.cos(ω[:, np.newaxis]*times[np.newaxis,:] + ϕ[:, np.newaxis])"
   ]
  },
  {
   "cell_type": "code",
   "execution_count": 31,
   "id": "01c69efe-4487-4179-9239-f6e7791534b3",
   "metadata": {},
   "outputs": [],
   "source": [
    "N = Xm.shape[0]\n",
    "xt = np.zeros(Acωtϕ.shape, dtype=np.float64)\n",
    "for i in range(N):\n",
    "    xt += Xm[:,i].reshape(N,1)*Acωtϕ[i,:]"
   ]
  },
  {
   "cell_type": "code",
   "execution_count": 32,
   "id": "a09adf7e-bdb9-41f4-a322-18cd40903468",
   "metadata": {},
   "outputs": [
    {
     "data": {
      "application/vnd.jupyter.widget-view+json": {
       "model_id": "b0017228ef8a4dafb617dbb1852987d3",
       "version_major": 2,
       "version_minor": 0
      },
      "text/plain": [
       "VBox(children=(HTML(value='<h1> Resposta total</h1><p> Escolha os modos para visualizar abaixo.</p>'), HBox(ch…"
      ]
     },
     "execution_count": 32,
     "metadata": {},
     "output_type": "execute_result"
    }
   ],
   "source": [
    "modes = range(1, min(N, 10)+1)\n",
    "vxs = {f'x{i}' : ipw.Checkbox(value=True,description=f'$x_{i}$', disabled=False, indent=False) \n",
    "            for i in modes}\n",
    "title = ipw.HTML('<h1> Resposta total</h1><p> Escolha os modos para visualizar abaixo.</p>')\n",
    "\n",
    "def make_plot(**args):\n",
    "    fig, ax = plt.subplots(figsize=(12, 8))\n",
    "    ax.set_title('Deslocamento (m)', fontsize=18)\n",
    "    ax.set_xlabel('Tempo (s)', fontsize=18)\n",
    "    ax.set_ylabel('x(t)', fontsize=18)\n",
    "    lines = [ ax.plot(times, xt[i]) for i, c in enumerate(vxs.values()) if c.value ]\n",
    "        \n",
    "plot = ipw.interactive_output(make_plot, vxs)\n",
    "bar = ipw.HBox(list(vxs.values()))\n",
    "gui = ipw.VBox([title, bar, plot])\n",
    "gui"
   ]
  }
 ],
 "metadata": {
  "kernelspec": {
   "display_name": "Python 3 (ipykernel)",
   "language": "python",
   "name": "python3"
  },
  "language_info": {
   "codemirror_mode": {
    "name": "ipython",
    "version": 3
   },
   "file_extension": ".py",
   "mimetype": "text/x-python",
   "name": "python",
   "nbconvert_exporter": "python",
   "pygments_lexer": "ipython3",
   "version": "3.9.4"
  }
 },
 "nbformat": 4,
 "nbformat_minor": 5
}
