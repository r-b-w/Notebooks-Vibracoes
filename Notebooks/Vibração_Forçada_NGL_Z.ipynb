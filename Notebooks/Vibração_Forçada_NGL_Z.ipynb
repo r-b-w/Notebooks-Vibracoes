{
 "cells": [
  {
   "cell_type": "markdown",
   "id": "07aa6f3b-5fe1-423e-89c5-101c0ae4a457",
   "metadata": {},
   "source": [
    "# Vibração Forçada NGL Via Impedância Mecânica\n",
    "\n",
    "Este notebook resolve o problema de vibração forçada via a matriz de impedância mecânica.\n",
    "\n",
    "Claramente este procedimento só é aplicável se todas as forças tiverem a mesma frequência e *em fase*.\n",
    "\n",
    "A diferença entre este procedimento e o que fizemos para 2 GL é que aqui faremos todo o procedimento puramento numérico, sem o uso de matemática simbólica.\n",
    "\n",
    "Este notebook pode ser usado para qualquer número de graus de liberdade que você tenha paciência de entrar com as matrizes \"na mão\", mas a plotagem está limitada a 10 GL.\n",
    "## Equação de movimento\n",
    "\n",
    "A equação de movimento é\n",
    "\n",
    "$$ \\boldsymbol{m}  \\boldsymbol{\\ddot x} + \\boldsymbol{c} \\boldsymbol{\\dot x}+ \\boldsymbol{k} \\boldsymbol{x} = \\boldsymbol{F_0}e^{i\\omega t}.$$\n",
    "\n",
    "Vamos supor que a resposta seja da forma $\\boldsymbol{x}(t) = \\boldsymbol{X}e^{i\\omega t}$, onde $ \\boldsymbol{X}$ é uma matriz coluna de números complexos e $\\omega$ é a frequência da força de excitação.\n",
    "\n",
    "Introduzindo esta solução na equação de movimento ficamos com\n",
    "\n",
    "$$\\left( - \\omega^2 \\boldsymbol{m} + i \\omega \\boldsymbol{c} + \\boldsymbol{k} \\right) \\boldsymbol{X}e^{i\\omega t} = \\boldsymbol{F_0}e^{i\\omega t},$$\n",
    "\n",
    "É claro então que \n",
    "\n",
    "$$\\left( \\boldsymbol{k} - \\omega^2 \\boldsymbol{m} + i \\omega \\boldsymbol{c} \\right) \\boldsymbol{X} = \\boldsymbol{F_0},$$\n",
    "\n",
    "ou\n",
    "\n",
    "$$  \\boldsymbol{Z} \\boldsymbol{X} = \\boldsymbol{F_0},$$\n",
    "\n",
    "com $\\boldsymbol{Z} = \\boldsymbol{k} -\\omega^2 \\boldsymbol{m} + i \\omega \\boldsymbol{c} $ sendo a matriz de impedância mecânica.\n",
    "\n",
    "Claramente basta resolver este sistema de equações para a a resposta complexa $\\boldsymbol{X}$ e depois calcular as amplitudes e fases.\n",
    "\n",
    "## Frequências naturais e modos normais\n",
    "\n",
    "Não é estritamente necessário para este tipo de problema, mas sempre é importante calcular as frequências naturais e modos normais do sistema. Vamos resolver o problema de autovalores e autovetores\n",
    "\n",
    "$$ \\lambda \\boldsymbol{X} = \\boldsymbol{\\hat k}\\boldsymbol{X},$$\n",
    "\n",
    "com $\\lambda = \\omega^2$ e $\\boldsymbol{\\hat k} = \\boldsymbol{m}^{-1} \\boldsymbol{k}$."
   ]
  },
  {
   "cell_type": "markdown",
   "id": "38300ee5-c32d-4f87-be12-20ffe6916234",
   "metadata": {},
   "source": [
    "## Setup"
   ]
  },
  {
   "cell_type": "code",
   "execution_count": 31,
   "id": "b1c5234c-12f7-44ac-baa7-94e78d26264b",
   "metadata": {},
   "outputs": [],
   "source": [
    "import numpy as np\n",
    "import matplotlib.pyplot as plt\n",
    "import ipywidgets as ipw"
   ]
  },
  {
   "cell_type": "markdown",
   "id": "b6f62f75-b58b-4922-825b-6c2908a20b65",
   "metadata": {},
   "source": [
    "## Definição do sistema\n",
    "\n",
    "O sistema é definido através das matrizes de massa, rigidez e amortecimento e da força externa.\n",
    "\n",
    "Vamos chamar a frequẽncia da força externa aplicada de $\\omega_0$, já que usaremos $\\omega$ para as frequências naturais."
   ]
  },
  {
   "cell_type": "code",
   "execution_count": 32,
   "id": "b3e4eca2-4d96-411e-96f3-65bf68f16cb5",
   "metadata": {},
   "outputs": [],
   "source": [
    "m = np.array([[1.0, 0.0, 0.0],\n",
    "              [0.0, 1.0, 0.0],\n",
    "              [0.0, 0.0, 1.0]], dtype=np.float64)\n",
    "\n",
    "c = np.array([[ 2.4, -1.2,  0.0],\n",
    "              [-1.2,  2.4, -1.2],\n",
    "              [ 0.0, -1.2,  1.2]], dtype=np.float64)\n",
    "\n",
    "k = np.array([[ 80.0, -40.0,   0.0],\n",
    "              [-40.0,  80.0, -40.0],\n",
    "              [  0.0, -40.0,  40.0]], dtype=np.float64)\n",
    "\n",
    "F0 = np.array([10.0, 20.0, -30.0], dtype=np.float64)\n",
    "ω0 = 7.0"
   ]
  },
  {
   "cell_type": "markdown",
   "id": "3cc7ecae-288a-4908-a49b-f6fcec8ebdf7",
   "metadata": {},
   "source": [
    "## Frequências naturais e modos normais\n",
    "\n",
    "Não vamos normalizar os modos normais pois não vamos usá-los para nada aqui."
   ]
  },
  {
   "cell_type": "code",
   "execution_count": 33,
   "id": "37650951-e282-40a7-bb9a-3bdac721a12f",
   "metadata": {},
   "outputs": [
    {
     "data": {
      "text/plain": [
       "array([ 2.81469191,  7.88659149, 11.39645489])"
      ]
     },
     "metadata": {},
     "output_type": "display_data"
    },
    {
     "data": {
      "text/plain": [
       "array([[ 0.32798528, -0.73697623, -0.59100905],\n",
       "       [ 0.59100905, -0.32798528,  0.73697623],\n",
       "       [ 0.73697623,  0.59100905, -0.32798528]])"
      ]
     },
     "metadata": {},
     "output_type": "display_data"
    }
   ],
   "source": [
    "λ, X = np.linalg.eig(np.linalg.inv(m)@k)\n",
    "ω = np.sqrt(λ)\n",
    "perm = np.argsort(ω)     # reordering index\n",
    "ω = ω[perm]\n",
    "X[...] = X[:, perm]      # modal matrix\n",
    "display(ω)\n",
    "display(X)"
   ]
  },
  {
   "cell_type": "markdown",
   "id": "22d0eec7-b495-43db-896a-b602e5b0158a",
   "metadata": {},
   "source": [
    "## Impedância mecânica"
   ]
  },
  {
   "cell_type": "code",
   "execution_count": 34,
   "id": "1b3a4603-1e5d-4974-be16-70c8e543abcc",
   "metadata": {},
   "outputs": [
    {
     "data": {
      "text/plain": [
       "array([[ 31.-16.8j, -40. +8.4j,   0. +0.j ],\n",
       "       [-40. +8.4j,  31.-16.8j, -40. +8.4j],\n",
       "       [  0. +0.j , -40. +8.4j,  -9. -8.4j]])"
      ]
     },
     "metadata": {},
     "output_type": "display_data"
    }
   ],
   "source": [
    "Ziw = k - ω0**2*m - 1j*ω0*c\n",
    "display(Ziw)"
   ]
  },
  {
   "cell_type": "markdown",
   "id": "d2228379-0d34-415b-80c6-81b6fde88e7c",
   "metadata": {},
   "source": [
    "## Resposta\n",
    "\n",
    "Vamos chamar a reposta $X_t$, já usamos $X$ para a matriz modal."
   ]
  },
  {
   "cell_type": "code",
   "execution_count": 35,
   "id": "b64076c9-52b5-4a20-bb2d-f1257364b579",
   "metadata": {},
   "outputs": [
    {
     "data": {
      "text/plain": [
       "array([ 0.82650276+0.84030013j,  0.65089971+0.44079038j,\n",
       "       -0.65865489-0.73681741j])"
      ]
     },
     "metadata": {},
     "output_type": "display_data"
    }
   ],
   "source": [
    "Xt = np.linalg.solve(Ziw, F0)\n",
    "display(Xt)"
   ]
  },
  {
   "cell_type": "markdown",
   "id": "d6ed114d-18d1-4b49-b951-bbbb8f2b2924",
   "metadata": {},
   "source": [
    "### Amplitudes"
   ]
  },
  {
   "cell_type": "code",
   "execution_count": 36,
   "id": "9ac64271-d3fc-46c4-9cab-844d8b59b95c",
   "metadata": {},
   "outputs": [
    {
     "data": {
      "text/plain": [
       "array([1.17864801, 0.78610852, 0.98829457])"
      ]
     },
     "metadata": {},
     "output_type": "display_data"
    }
   ],
   "source": [
    "Xa = np.abs(Xt)\n",
    "display(Xa)"
   ]
  },
  {
   "cell_type": "markdown",
   "id": "3d9f09b3-e988-45d0-afd2-c62b98b60587",
   "metadata": {},
   "source": [
    "### Fases"
   ]
  },
  {
   "cell_type": "code",
   "execution_count": 37,
   "id": "f0013a92-c472-4e28-88e1-6b19e3813587",
   "metadata": {},
   "outputs": [
    {
     "data": {
      "text/plain": [
       "array([ 0.79367572,  0.59526066, -2.30024144])"
      ]
     },
     "metadata": {},
     "output_type": "display_data"
    }
   ],
   "source": [
    "ϕ = np.angle(Xt)\n",
    "display(ϕ)"
   ]
  },
  {
   "cell_type": "markdown",
   "id": "0d35e061-0753-46de-8c9c-cf3f070ab1d0",
   "metadata": {},
   "source": [
    "## Plotagem"
   ]
  },
  {
   "cell_type": "code",
   "execution_count": 38,
   "id": "55f8c46a-38cc-41b8-ae75-6df4fa5cf9f6",
   "metadata": {},
   "outputs": [],
   "source": [
    "τ = 2*np.pi/ω0\n",
    "nτ = 5\n",
    "npτ = 100\n",
    "times = np.linspace(0, nτ*τ, nτ*npτ)"
   ]
  },
  {
   "cell_type": "code",
   "execution_count": 39,
   "id": "76d776b1-1134-47cf-b87a-aa571c79a16c",
   "metadata": {},
   "outputs": [],
   "source": [
    "x = Xa[:,np.newaxis]*np.cos(ω0*times[np.newaxis,:] + ϕ[:, np.newaxis])"
   ]
  },
  {
   "cell_type": "code",
   "execution_count": 40,
   "id": "b58847df-9751-4583-8dd9-c666d2496378",
   "metadata": {},
   "outputs": [
    {
     "data": {
      "application/vnd.jupyter.widget-view+json": {
       "model_id": "aee555b90e7a4b429a286ca5feb95738",
       "version_major": 2,
       "version_minor": 0
      },
      "text/plain": [
       "VBox(children=(HTML(value='<h1> Resposta</h1><p> Escolha os modos para visualizar abaixo.</p>'), HBox(children…"
      ]
     },
     "execution_count": 40,
     "metadata": {},
     "output_type": "execute_result"
    }
   ],
   "source": [
    "N = k.shape[0]\n",
    "modes = range(1, min(N, 10)+1)\n",
    "vxs = {f'x{i}' : ipw.Checkbox(value=True,description=f'$x_{i}$', disabled=False, indent=False) \n",
    "            for i in modes}\n",
    "title = ipw.HTML('<h1> Resposta</h1><p> Escolha os modos para visualizar abaixo.</p>')\n",
    "\n",
    "def make_plot(**args):\n",
    "    fig, ax = plt.subplots(figsize=(12, 8))\n",
    "    ax.set_title('Deslocamento (m)', fontsize=18)\n",
    "    ax.set_xlabel('Tempo (s)', fontsize=18)\n",
    "    ax.set_ylabel('x(t)', fontsize=18)\n",
    "    lines = [ ax.plot(times, x[i]) for i, c in enumerate(vxs.values()) if c.value ]\n",
    "        \n",
    "plot = ipw.interactive_output(make_plot, vxs)\n",
    "bar = ipw.HBox(list(vxs.values()))\n",
    "gui = ipw.VBox([title, bar, plot])\n",
    "gui"
   ]
  }
 ],
 "metadata": {
  "kernelspec": {
   "display_name": "Python 3 (ipykernel)",
   "language": "python",
   "name": "python3"
  },
  "language_info": {
   "codemirror_mode": {
    "name": "ipython",
    "version": 3
   },
   "file_extension": ".py",
   "mimetype": "text/x-python",
   "name": "python",
   "nbconvert_exporter": "python",
   "pygments_lexer": "ipython3",
   "version": "3.9.4"
  }
 },
 "nbformat": 4,
 "nbformat_minor": 5
}
