{
 "cells": [
  {
   "cell_type": "markdown",
   "metadata": {
    "id": "RbhyG0BIQiYk"
   },
   "source": [
    "#Solução via transformada de Laplace"
   ]
  },
  {
   "cell_type": "markdown",
   "metadata": {
    "id": "uwHOEJtARDK2"
   },
   "source": [
    "## Setup"
   ]
  },
  {
   "cell_type": "code",
   "execution_count": 128,
   "metadata": {
    "id": "gVb0t_n0QH8_"
   },
   "outputs": [],
   "source": [
    "import sympy\n",
    "sympy.init_printing()\n",
    "import matplotlib.pyplot as plt\n",
    "%matplotlib inline\n",
    "\n",
    "t, s = sympy.symbols('t, s')\n",
    "a = sympy.symbols('a', real=True, positive=True)\n",
    "w = sympy.symbols('omega', real=True, positive=True)\n",
    "wn = sympy.symbols('omega_n', real=True, positive=True)\n",
    "F0 = sympy.symbols('F0', real=True)\n",
    "m = sympy.symbols('m', real=True)\n",
    "zeta = sympy.symbols('zeta', real=True)"
   ]
  },
  {
   "cell_type": "markdown",
   "metadata": {
    "id": "Y-lyiLDrRRsB"
   },
   "source": [
    "## Força externa"
   ]
  },
  {
   "cell_type": "code",
   "execution_count": 129,
   "metadata": {
    "colab": {
     "base_uri": "https://localhost:8080/",
     "height": 75
    },
    "id": "M8T2JEmERHQ7",
    "outputId": "d0586d28-6d81-4d9a-9e37-8299d42331cd"
   },
   "outputs": [
    {
     "data": {
      "image/png": "[encoded data removed]",
      "text/latex": [
       "$\\displaystyle F_{0} \\cos{\\left(\\omega t \\right)}$"
      ],
      "text/plain": [
       "F₀⋅cos(ω⋅t)"
      ]
     },
     "metadata": {},
     "output_type": "display_data"
    },
    {
     "data": {
      "image/png": "[encoded data removed]",
      "text/latex": [
       "$\\displaystyle \\frac{F_{0} s}{\\omega^{2} + s^{2}}$"
      ],
      "text/plain": [
       "  F₀⋅s \n",
       "───────\n",
       " 2    2\n",
       "ω  + s "
      ]
     },
     "metadata": {},
     "output_type": "display_data"
    }
   ],
   "source": [
    "f = F0*sympy.cos(w*t)\n",
    "display(f)\n",
    "F = sympy.laplace_transform(f, t, s, noconds=True)\n",
    "display(F)"
   ]
  },
  {
   "cell_type": "markdown",
   "metadata": {
    "id": "fZJshO36dXze"
   },
   "source": [
    "## Função de transferência do sistema"
   ]
  },
  {
   "cell_type": "code",
   "execution_count": 130,
   "metadata": {
    "colab": {
     "base_uri": "https://localhost:8080/",
     "height": 55
    },
    "id": "YnwYBSxGSLRB",
    "outputId": "50c7775b-a91b-4804-c411-4f1ac767df0d"
   },
   "outputs": [
    {
     "data": {
      "image/png": "[encoded data removed]",
      "text/latex": [
       "$\\displaystyle \\frac{1}{m \\left(\\omega_{n}^{2} + 2 \\omega_{n} s \\zeta + s^{2}\\right)}$"
      ],
      "text/plain": [
       "           1           \n",
       "───────────────────────\n",
       "  ⎛  2               2⎞\n",
       "m⋅⎝ωₙ  + 2⋅ωₙ⋅s⋅ζ + s ⎠"
      ]
     },
     "metadata": {},
     "output_type": "display_data"
    }
   ],
   "source": [
    "T = 1/(m*(s**2 + 2*zeta*wn*s + wn**2))\n",
    "display(T)"
   ]
  },
  {
   "cell_type": "markdown",
   "metadata": {
    "id": "JchWdZeYezxv"
   },
   "source": [
    "## Trasformada da resposta"
   ]
  },
  {
   "cell_type": "code",
   "execution_count": 131,
   "metadata": {
    "colab": {
     "base_uri": "https://localhost:8080/",
     "height": 56
    },
    "id": "jac8CkVSeaMY",
    "outputId": "5d047b81-8396-49f2-9462-eade1e2abd9e"
   },
   "outputs": [
    {
     "data": {
      "image/png": "[encoded data removed]",
      "text/latex": [
       "$\\displaystyle \\frac{F_{0} s}{m \\left(\\omega^{2} + s^{2}\\right) \\left(\\omega_{n}^{2} + 2 \\omega_{n} s \\zeta + s^{2}\\right)}$"
      ],
      "text/plain": [
       "               F₀⋅s              \n",
       "─────────────────────────────────\n",
       "  ⎛ 2    2⎞ ⎛  2               2⎞\n",
       "m⋅⎝ω  + s ⎠⋅⎝ωₙ  + 2⋅ωₙ⋅s⋅ζ + s ⎠"
      ]
     },
     "metadata": {},
     "output_type": "display_data"
    }
   ],
   "source": [
    "X = T*F\n",
    "display(X)"
   ]
  },
  {
   "cell_type": "markdown",
   "metadata": {
    "id": "FQZTeXVul8mu"
   },
   "source": [
    "Em princípio, poderíamos simplesmente fazer\n",
    "\n",
    "x = sympy.inverse_laplace_transform(X, s, t)\n",
    "\n",
    "mas o SymPy é meio lento. Eu interrompi a execução após 20 minutos\n",
    "de \"raciocínio\"."
   ]
  },
  {
   "cell_type": "code",
   "execution_count": 132,
   "metadata": {
    "colab": {
     "base_uri": "https://localhost:8080/",
     "height": 52
    },
    "id": "qbGMhs6QfPrg",
    "outputId": "c0d3e69f-44d9-4677-f9ba-cb92942b35ff"
   },
   "outputs": [
    {
     "data": {
      "image/png": "[encoded data removed]",
      "text/latex": [
       "$\\displaystyle \\frac{s}{\\left(\\omega^{2} + s^{2}\\right) \\left(\\omega_{n}^{2} + 2 \\omega_{n} s \\zeta + s^{2}\\right)}$"
      ],
      "text/plain": [
       "               s               \n",
       "───────────────────────────────\n",
       "⎛ 2    2⎞ ⎛  2               2⎞\n",
       "⎝ω  + s ⎠⋅⎝ωₙ  + 2⋅ωₙ⋅s⋅ζ + s ⎠"
      ]
     },
     "metadata": {},
     "output_type": "display_data"
    }
   ],
   "source": [
    "Xd = X*m/F0  # Só para simplificar, depois multiplico de volta\n",
    "display(Xd)"
   ]
  },
  {
   "cell_type": "code",
   "execution_count": 133,
   "metadata": {
    "id": "AvVnsrRLnirk"
   },
   "outputs": [],
   "source": [
    "a1, a2, a3, a4 = sympy.symbols('a_1, a_2, a_3, a_4')"
   ]
  },
  {
   "cell_type": "code",
   "execution_count": 134,
   "metadata": {
    "colab": {
     "base_uri": "https://localhost:8080/",
     "height": 131
    },
    "id": "wNNlwWDh9wjg",
    "outputId": "d0334266-efe2-4d06-ffe2-0b218bd0219f"
   },
   "outputs": [
    {
     "data": {
      "image/png": "[encoded data removed]",
      "text/latex": [
       "$\\displaystyle \\left( s, \\  F_{0}, \\  \\frac{1}{m}, \\  \\frac{1}{\\omega^{2} + s^{2}}, \\  \\frac{1}{\\omega_{n}^{2} + 2 \\omega_{n} s \\zeta + s^{2}}\\right)$"
      ],
      "text/plain": [
       "⎛       1     1              1         ⎞\n",
       "⎜s, F₀, ─, ───────, ───────────────────⎟\n",
       "⎜       m   2    2    2               2⎟\n",
       "⎝          ω  + s   ωₙ  + 2⋅ωₙ⋅s⋅ζ + s ⎠"
      ]
     },
     "metadata": {},
     "output_type": "display_data"
    },
    {
     "data": {
      "image/png": "[encoded data removed]",
      "text/latex": [
       "$\\displaystyle \\frac{1}{\\omega^{2} + s^{2}}$"
      ],
      "text/plain": [
       "   1   \n",
       "───────\n",
       " 2    2\n",
       "ω  + s "
      ]
     },
     "metadata": {},
     "output_type": "display_data"
    },
    {
     "data": {
      "image/png": "[encoded data removed]",
      "text/latex": [
       "$\\displaystyle \\frac{1}{\\omega_{n}^{2} + 2 \\omega_{n} s \\zeta + s^{2}}$"
      ],
      "text/plain": [
       "         1         \n",
       "───────────────────\n",
       "  2               2\n",
       "ωₙ  + 2⋅ωₙ⋅s⋅ζ + s "
      ]
     },
     "metadata": {},
     "output_type": "display_data"
    }
   ],
   "source": [
    "display(X.args)\n",
    "T1, T2 = X.args[3:5]\n",
    "display(T1, T2)"
   ]
  },
  {
   "cell_type": "code",
   "execution_count": 135,
   "metadata": {
    "colab": {
     "base_uri": "https://localhost:8080/",
     "height": 54
    },
    "id": "wdX1Pi21-Ghd",
    "outputId": "8fb03099-b187-411f-b3ac-2d1fe486e14f"
   },
   "outputs": [
    {
     "data": {
      "image/png": "[encoded data removed]",
      "text/latex": [
       "$\\displaystyle \\frac{a_{3} s + a_{4}}{\\omega_{n}^{2} + 2 \\omega_{n} s \\zeta + s^{2}} + \\frac{a_{1} s + a_{2}}{\\omega^{2} + s^{2}}$"
      ],
      "text/plain": [
       "     a₃⋅s + a₄        a₁⋅s + a₂\n",
       "─────────────────── + ─────────\n",
       "  2               2     2    2 \n",
       "ωₙ  + 2⋅ωₙ⋅s⋅ζ + s     ω  + s  "
      ]
     },
     "metadata": {},
     "output_type": "display_data"
    }
   ],
   "source": [
    "E = (a1*s+a2)*T1 + (a3*s+a4)*T2\n",
    "display(E)"
   ]
  },
  {
   "cell_type": "code",
   "execution_count": 136,
   "metadata": {
    "colab": {
     "base_uri": "https://localhost:8080/",
     "height": 99
    },
    "id": "umVjx67d-855",
    "outputId": "ac2bf92d-6617-4f81-a1c4-2f27d862ed60"
   },
   "outputs": [
    {
     "data": {
      "image/png": "[encoded data removed]",
      "text/latex": [
       "$\\displaystyle \\frac{a_{1} \\omega_{n}^{2} s + 2 a_{1} \\omega_{n} s^{2} \\zeta + a_{1} s^{3} + a_{2} \\omega_{n}^{2} + 2 a_{2} \\omega_{n} s \\zeta + a_{2} s^{2} + a_{3} \\omega^{2} s + a_{3} s^{3} + a_{4} \\omega^{2} + a_{4} s^{2}}{\\omega^{2} \\omega_{n}^{2} + 2 \\omega^{2} \\omega_{n} s \\zeta + \\omega^{2} s^{2} + \\omega_{n}^{2} s^{2} + 2 \\omega_{n} s^{3} \\zeta + s^{4}}$"
      ],
      "text/plain": [
       "     2              2         3        2                     2       2         3       2       2\n",
       "a₁⋅ωₙ ⋅s + 2⋅a₁⋅ωₙ⋅s ⋅ζ + a₁⋅s  + a₂⋅ωₙ  + 2⋅a₂⋅ωₙ⋅s⋅ζ + a₂⋅s  + a₃⋅ω ⋅s + a₃⋅s  + a₄⋅ω  + a₄⋅s \n",
       "────────────────────────────────────────────────────────────────────────────────────────────────\n",
       "                      2   2      2           2  2     2  2         3      4                     \n",
       "                     ω ⋅ωₙ  + 2⋅ω ⋅ωₙ⋅s⋅ζ + ω ⋅s  + ωₙ ⋅s  + 2⋅ωₙ⋅s ⋅ζ + s                      "
      ]
     },
     "metadata": {},
     "output_type": "display_data"
    },
    {
     "data": {
      "image/png": "[encoded data removed]",
      "text/latex": [
       "$\\displaystyle \\left( \\frac{1}{\\omega^{2} \\omega_{n}^{2} + 2 \\omega^{2} \\omega_{n} s \\zeta + \\omega^{2} s^{2} + \\omega_{n}^{2} s^{2} + 2 \\omega_{n} s^{3} \\zeta + s^{4}}, \\  a_{1} \\omega_{n}^{2} s + 2 a_{1} \\omega_{n} s^{2} \\zeta + a_{1} s^{3} + a_{2} \\omega_{n}^{2} + 2 a_{2} \\omega_{n} s \\zeta + a_{2} s^{2} + a_{3} \\omega^{2} s + a_{3} s^{3} + a_{4} \\omega^{2} + a_{4} s^{2}\\right)$"
      ],
      "text/plain": [
       "⎛                          1                                  2              2         3        2              \n",
       "⎜──────────────────────────────────────────────────────, a₁⋅ωₙ ⋅s + 2⋅a₁⋅ωₙ⋅s ⋅ζ + a₁⋅s  + a₂⋅ωₙ  + 2⋅a₂⋅ωₙ⋅s⋅ζ\n",
       "⎜ 2   2      2           2  2     2  2         3      4                                                        \n",
       "⎝ω ⋅ωₙ  + 2⋅ω ⋅ωₙ⋅s⋅ζ + ω ⋅s  + ωₙ ⋅s  + 2⋅ωₙ⋅s ⋅ζ + s                                                         \n",
       "\n",
       "       2       2         3       2       2⎞\n",
       " + a₂⋅s  + a₃⋅ω ⋅s + a₃⋅s  + a₄⋅ω  + a₄⋅s ⎟\n",
       "                                          ⎟\n",
       "                                          ⎠"
      ]
     },
     "metadata": {},
     "output_type": "display_data"
    }
   ],
   "source": [
    "Ec = E.cancel()\n",
    "display(Ec)\n",
    "display(Ec.args)\n",
    "numer = Ec.args[1]"
   ]
  },
  {
   "cell_type": "code",
   "execution_count": 137,
   "metadata": {
    "colab": {
     "base_uri": "https://localhost:8080/",
     "height": 39
    },
    "id": "0rpZrnle_VW_",
    "outputId": "7f253826-7e04-471a-f01b-21759301ad34"
   },
   "outputs": [
    {
     "data": {
      "image/png": "[encoded data removed]",
      "text/latex": [
       "$\\displaystyle a_{2} \\omega_{n}^{2} + a_{4} \\omega^{2} + s^{3} \\left(a_{1} + a_{3}\\right) + s^{2} \\cdot \\left(2 a_{1} \\omega_{n} \\zeta + a_{2} + a_{4}\\right) + s \\left(a_{1} \\omega_{n}^{2} + 2 a_{2} \\omega_{n} \\zeta + a_{3} \\omega^{2}\\right)$"
      ],
      "text/plain": [
       "     2       2    3              2                           ⎛     2                   2⎞\n",
       "a₂⋅ωₙ  + a₄⋅ω  + s ⋅(a₁ + a₃) + s ⋅(2⋅a₁⋅ωₙ⋅ζ + a₂ + a₄) + s⋅⎝a₁⋅ωₙ  + 2⋅a₂⋅ωₙ⋅ζ + a₃⋅ω ⎠"
      ]
     },
     "metadata": {},
     "output_type": "display_data"
    }
   ],
   "source": [
    "display(numer.collect(s))"
   ]
  },
  {
   "cell_type": "code",
   "execution_count": 138,
   "metadata": {
    "colab": {
     "base_uri": "https://localhost:8080/",
     "height": 39
    },
    "id": "FXWpC2LnA9-j",
    "outputId": "2600a9b8-5b35-4b0b-8800-43ae7434911c"
   },
   "outputs": [
    {
     "data": {
      "image/png": "[encoded data removed]",
      "text/latex": [
       "$\\displaystyle \\left[ a_{2} \\omega_{n}^{2} + a_{4} \\omega^{2}, \\  a_{1} \\omega_{n}^{2} + 2 a_{2} \\omega_{n} \\zeta + a_{3} \\omega^{2} - 1, \\  2 a_{1} \\omega_{n} \\zeta + a_{2} + a_{4}, \\  a_{1} + a_{3}\\right]$"
      ],
      "text/plain": [
       "⎡     2       2       2                   2                                  ⎤\n",
       "⎣a₂⋅ωₙ  + a₄⋅ω , a₁⋅ωₙ  + 2⋅a₂⋅ωₙ⋅ζ + a₃⋅ω  - 1, 2⋅a₁⋅ωₙ⋅ζ + a₂ + a₄, a₁ + a₃⎦"
      ]
     },
     "metadata": {},
     "output_type": "display_data"
    }
   ],
   "source": [
    "p = numer.collect(s)\n",
    "eql = [p.coeff(s,0),\n",
    "       p.coeff(s,1)-1,\n",
    "       p.coeff(s,2) ,\n",
    "       p.coeff(s,3)]\n",
    "display(eql)"
   ]
  },
  {
   "cell_type": "code",
   "execution_count": 139,
   "metadata": {
    "colab": {
     "base_uri": "https://localhost:8080/",
     "height": 58
    },
    "id": "m13jMSXQHVBe",
    "outputId": "fbce7bfe-b429-4615-a57a-d7d31dff065e"
   },
   "outputs": [
    {
     "data": {
      "image/png": "[encoded data removed]",
      "text/latex": [
       "$\\displaystyle \\frac{- \\omega^{2} + \\omega_{n}^{2}}{\\omega^{4} + 4 \\omega^{2} \\omega_{n}^{2} \\zeta^{2} - 2 \\omega^{2} \\omega_{n}^{2} + \\omega_{n}^{4}}$"
      ],
      "text/plain": [
       "               2     2           \n",
       "            - ω  + ωₙ            \n",
       "─────────────────────────────────\n",
       " 4      2   2  2      2   2     4\n",
       "ω  + 4⋅ω ⋅ωₙ ⋅ζ  - 2⋅ω ⋅ωₙ  + ωₙ "
      ]
     },
     "metadata": {},
     "output_type": "display_data"
    },
    {
     "data": {
      "image/png": "[encoded data removed]",
      "text/latex": [
       "$\\displaystyle \\frac{2 \\omega^{2} \\omega_{n} \\zeta}{\\omega^{4} + 4 \\omega^{2} \\omega_{n}^{2} \\zeta^{2} - 2 \\omega^{2} \\omega_{n}^{2} + \\omega_{n}^{4}}$"
      ],
      "text/plain": [
       "               2                 \n",
       "            2⋅ω ⋅ωₙ⋅ζ            \n",
       "─────────────────────────────────\n",
       " 4      2   2  2      2   2     4\n",
       "ω  + 4⋅ω ⋅ωₙ ⋅ζ  - 2⋅ω ⋅ωₙ  + ωₙ "
      ]
     },
     "metadata": {},
     "output_type": "display_data"
    },
    {
     "data": {
      "image/png": "[encoded data removed]",
      "text/latex": [
       "$\\displaystyle \\frac{\\omega^{2} - \\omega_{n}^{2}}{\\omega^{4} + 4 \\omega^{2} \\omega_{n}^{2} \\zeta^{2} - 2 \\omega^{2} \\omega_{n}^{2} + \\omega_{n}^{4}}$"
      ],
      "text/plain": [
       "              2     2            \n",
       "             ω  - ωₙ             \n",
       "─────────────────────────────────\n",
       " 4      2   2  2      2   2     4\n",
       "ω  + 4⋅ω ⋅ωₙ ⋅ζ  - 2⋅ω ⋅ωₙ  + ωₙ "
      ]
     },
     "metadata": {},
     "output_type": "display_data"
    },
    {
     "data": {
      "image/png": "[encoded data removed]",
      "text/latex": [
       "$\\displaystyle - \\frac{2 \\omega_{n}^{3} \\zeta}{\\omega^{4} + 4 \\omega^{2} \\omega_{n}^{2} \\zeta^{2} - 2 \\omega^{2} \\omega_{n}^{2} + \\omega_{n}^{4}}$"
      ],
      "text/plain": [
       "                 3               \n",
       "            -2⋅ωₙ ⋅ζ             \n",
       "─────────────────────────────────\n",
       " 4      2   2  2      2   2     4\n",
       "ω  + 4⋅ω ⋅ωₙ ⋅ζ  - 2⋅ω ⋅ωₙ  + ωₙ "
      ]
     },
     "metadata": {},
     "output_type": "display_data"
    }
   ],
   "source": [
    "sol = sympy.linsolve(eql, [a1, a2, a3, a4])\n",
    "r1, r2, r3, r4 = sol.args[0]\n",
    "display(r1)\n",
    "display(r2)\n",
    "display(r3)\n",
    "display(r4)"
   ]
  },
  {
   "cell_type": "code",
   "execution_count": 140,
   "metadata": {
    "id": "61bO_SHHJPTL"
   },
   "outputs": [
    {
     "data": {
      "image/png": "[encoded data removed]",
      "text/latex": [
       "$\\displaystyle \\frac{2 \\omega^{2} \\omega_{n} \\zeta}{\\omega^{6} + 4 \\omega^{4} \\omega_{n}^{2} \\zeta^{2} - 2 \\omega^{4} \\omega_{n}^{2} + \\omega^{4} s^{2} + \\omega^{2} \\omega_{n}^{4} + 4 \\omega^{2} \\omega_{n}^{2} s^{2} \\zeta^{2} - 2 \\omega^{2} \\omega_{n}^{2} s^{2} + \\omega_{n}^{4} s^{2}} + \\frac{\\omega^{2} s}{\\omega^{4} \\omega_{n}^{2} + 2 \\omega^{4} \\omega_{n} s \\zeta + \\omega^{4} s^{2} + 4 \\omega^{2} \\omega_{n}^{4} \\zeta^{2} - 2 \\omega^{2} \\omega_{n}^{4} + 8 \\omega^{2} \\omega_{n}^{3} s \\zeta^{3} - 4 \\omega^{2} \\omega_{n}^{3} s \\zeta + 4 \\omega^{2} \\omega_{n}^{2} s^{2} \\zeta^{2} - 2 \\omega^{2} \\omega_{n}^{2} s^{2} + \\omega_{n}^{6} + 2 \\omega_{n}^{5} s \\zeta + \\omega_{n}^{4} s^{2}} - \\frac{\\omega^{2} s}{\\omega^{6} + 4 \\omega^{4} \\omega_{n}^{2} \\zeta^{2} - 2 \\omega^{4} \\omega_{n}^{2} + \\omega^{4} s^{2} + \\omega^{2} \\omega_{n}^{4} + 4 \\omega^{2} \\omega_{n}^{2} s^{2} \\zeta^{2} - 2 \\omega^{2} \\omega_{n}^{2} s^{2} + \\omega_{n}^{4} s^{2}} - \\frac{2 \\omega_{n}^{3} \\zeta}{\\omega^{4} \\omega_{n}^{2} + 2 \\omega^{4} \\omega_{n} s \\zeta + \\omega^{4} s^{2} + 4 \\omega^{2} \\omega_{n}^{4} \\zeta^{2} - 2 \\omega^{2} \\omega_{n}^{4} + 8 \\omega^{2} \\omega_{n}^{3} s \\zeta^{3} - 4 \\omega^{2} \\omega_{n}^{3} s \\zeta + 4 \\omega^{2} \\omega_{n}^{2} s^{2} \\zeta^{2} - 2 \\omega^{2} \\omega_{n}^{2} s^{2} + \\omega_{n}^{6} + 2 \\omega_{n}^{5} s \\zeta + \\omega_{n}^{4} s^{2}} - \\frac{\\omega_{n}^{2} s}{\\omega^{4} \\omega_{n}^{2} + 2 \\omega^{4} \\omega_{n} s \\zeta + \\omega^{4} s^{2} + 4 \\omega^{2} \\omega_{n}^{4} \\zeta^{2} - 2 \\omega^{2} \\omega_{n}^{4} + 8 \\omega^{2} \\omega_{n}^{3} s \\zeta^{3} - 4 \\omega^{2} \\omega_{n}^{3} s \\zeta + 4 \\omega^{2} \\omega_{n}^{2} s^{2} \\zeta^{2} - 2 \\omega^{2} \\omega_{n}^{2} s^{2} + \\omega_{n}^{6} + 2 \\omega_{n}^{5} s \\zeta + \\omega_{n}^{4} s^{2}} + \\frac{\\omega_{n}^{2} s}{\\omega^{6} + 4 \\omega^{4} \\omega_{n}^{2} \\zeta^{2} - 2 \\omega^{4} \\omega_{n}^{2} + \\omega^{4} s^{2} + \\omega^{2} \\omega_{n}^{4} + 4 \\omega^{2} \\omega_{n}^{2} s^{2} \\zeta^{2} - 2 \\omega^{2} \\omega_{n}^{2} s^{2} + \\omega_{n}^{4} s^{2}}$"
      ],
      "text/plain": [
       "                                        2                                                                      \n",
       "                                     2⋅ω ⋅ωₙ⋅ζ                                                                 \n",
       "──────────────────────────────────────────────────────────────────────────────────── + ────────────────────────\n",
       " 6      4   2  2      4   2    4  2    2   4      2   2  2  2      2   2  2     4  2    4   2      4           \n",
       "ω  + 4⋅ω ⋅ωₙ ⋅ζ  - 2⋅ω ⋅ωₙ  + ω ⋅s  + ω ⋅ωₙ  + 4⋅ω ⋅ωₙ ⋅s ⋅ζ  - 2⋅ω ⋅ωₙ ⋅s  + ωₙ ⋅s    ω ⋅ωₙ  + 2⋅ω ⋅ωₙ⋅s⋅ζ + ω\n",
       "\n",
       "                                              2                                                                \n",
       "                                             ω ⋅s                                                              \n",
       "───────────────────────────────────────────────────────────────────────────────────────────────────────────────\n",
       "4  2      2   4  2      2   4      2   3    3      2   3          2   2  2  2      2   2  2     6       5      \n",
       " ⋅s  + 4⋅ω ⋅ωₙ ⋅ζ  - 2⋅ω ⋅ωₙ  + 8⋅ω ⋅ωₙ ⋅s⋅ζ  - 4⋅ω ⋅ωₙ ⋅s⋅ζ + 4⋅ω ⋅ωₙ ⋅s ⋅ζ  - 2⋅ω ⋅ωₙ ⋅s  + ωₙ  + 2⋅ωₙ ⋅s⋅ζ +\n",
       "\n",
       "                                                   2                                                           \n",
       "                                                  ω ⋅s                                                         \n",
       "─────── - ──────────────────────────────────────────────────────────────────────────────────── - ──────────────\n",
       "   4  2    6      4   2  2      4   2    4  2    2   4      2   2  2  2      2   2  2     4  2    4   2      4 \n",
       " ωₙ ⋅s    ω  + 4⋅ω ⋅ωₙ ⋅ζ  - 2⋅ω ⋅ωₙ  + ω ⋅s  + ω ⋅ωₙ  + 4⋅ω ⋅ωₙ ⋅s ⋅ζ  - 2⋅ω ⋅ωₙ ⋅s  + ωₙ ⋅s    ω ⋅ωₙ  + 2⋅ω ⋅\n",
       "\n",
       "                                                         3                                                     \n",
       "                                                     2⋅ωₙ ⋅ζ                                                   \n",
       "───────────────────────────────────────────────────────────────────────────────────────────────────────────────\n",
       "          4  2      2   4  2      2   4      2   3    3      2   3          2   2  2  2      2   2  2     6    \n",
       "ωₙ⋅s⋅ζ + ω ⋅s  + 4⋅ω ⋅ωₙ ⋅ζ  - 2⋅ω ⋅ωₙ  + 8⋅ω ⋅ωₙ ⋅s⋅ζ  - 4⋅ω ⋅ωₙ ⋅s⋅ζ + 4⋅ω ⋅ωₙ ⋅s ⋅ζ  - 2⋅ω ⋅ωₙ ⋅s  + ωₙ  + 2\n",
       "\n",
       "                                                                                          2                    \n",
       "                                                                                        ωₙ ⋅s                  \n",
       "───────────────── - ───────────────────────────────────────────────────────────────────────────────────────────\n",
       "   5         4  2    4   2      4           4  2      2   4  2      2   4      2   3    3      2   3          2\n",
       "⋅ωₙ ⋅s⋅ζ + ωₙ ⋅s    ω ⋅ωₙ  + 2⋅ω ⋅ωₙ⋅s⋅ζ + ω ⋅s  + 4⋅ω ⋅ωₙ ⋅ζ  - 2⋅ω ⋅ωₙ  + 8⋅ω ⋅ωₙ ⋅s⋅ζ  - 4⋅ω ⋅ωₙ ⋅s⋅ζ + 4⋅ω \n",
       "\n",
       "                                                                                               2               \n",
       "                                                                                             ωₙ ⋅s             \n",
       "─────────────────────────────────────────────────── + ─────────────────────────────────────────────────────────\n",
       "   2  2  2      2   2  2     6       5         4  2    6      4   2  2      4   2    4  2    2   4      2   2  \n",
       "⋅ωₙ ⋅s ⋅ζ  - 2⋅ω ⋅ωₙ ⋅s  + ωₙ  + 2⋅ωₙ ⋅s⋅ζ + ωₙ ⋅s    ω  + 4⋅ω ⋅ωₙ ⋅ζ  - 2⋅ω ⋅ωₙ  + ω ⋅s  + ω ⋅ωₙ  + 4⋅ω ⋅ωₙ ⋅s\n",
       "\n",
       "                           \n",
       "                           \n",
       "───────────────────────────\n",
       "2  2      2   2  2     4  2\n",
       " ⋅ζ  - 2⋅ω ⋅ωₙ ⋅s  + ωₙ ⋅s "
      ]
     },
     "metadata": {},
     "output_type": "display_data"
    }
   ],
   "source": [
    "R = E.subs([(a1, r1), (a2, r2), (a3, r3), (a4, r4)]).expand()\n",
    "display(R)"
   ]
  },
  {
   "cell_type": "code",
   "execution_count": null,
   "metadata": {},
   "outputs": [
    {
     "data": {
      "image/png": "[encoded data removed]",
      "text/latex": [
       "$\\displaystyle \\frac{1}{\\omega_{n}^{2} + 2 \\omega_{n} s \\zeta + s^{2}}$"
      ],
      "text/plain": [
       "         1         \n",
       "───────────────────\n",
       "  2               2\n",
       "ωₙ  + 2⋅ωₙ⋅s⋅ζ + s "
      ]
     },
     "metadata": {},
     "output_type": "display_data"
    }
   ],
   "source": [
    "T1 = 1/R.args[0].args[2].args[0].factor().args[0]\n",
    "display(T1)\n",
    "sympy.inverse_laplace_transform(T1, s, t).expand()"
   ]
  },
  {
   "cell_type": "markdown",
   "metadata": {},
   "source": [
    "### OK, perdi a paciência..."
   ]
  }
 ],
 "metadata": {
  "colab": {
   "name": "SoluçãoViaLaplace.ipynb",
   "provenance": []
  },
  "kernelspec": {
   "display_name": "Python 3 (ipykernel)",
   "language": "python",
   "name": "python3"
  },
  "language_info": {
   "codemirror_mode": {
    "name": "ipython",
    "version": 3
   },
   "file_extension": ".py",
   "mimetype": "text/x-python",
   "name": "python",
   "nbconvert_exporter": "python",
   "pygments_lexer": "ipython3",
   "version": "3.9.4"
  }
 },
 "nbformat": 4,
 "nbformat_minor": 4
}
