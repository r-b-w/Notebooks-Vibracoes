{
 "cells": [
  {
   "cell_type": "markdown",
   "id": "f1fe0c6e-d007-44c4-a330-96604856ff5a",
   "metadata": {},
   "source": [
    "# Diagrama de Forças\n",
    "\n",
    "Vamos criar o diagrama de forças para um sistema em vibração forçada amortecida, sujeito a excitação harmônica."
   ]
  },
  {
   "cell_type": "markdown",
   "id": "23140236-1627-4421-98a2-742d208f2a88",
   "metadata": {},
   "source": [
    "## Setup"
   ]
  },
  {
   "cell_type": "code",
   "execution_count": 7,
   "id": "bfc87a48-a538-482c-9309-f39853f4181d",
   "metadata": {},
   "outputs": [],
   "source": [
    "from math import sqrt\n",
    "import cmath\n",
    "import matplotlib.pyplot as plt"
   ]
  },
  {
   "cell_type": "markdown",
   "id": "b1c3a510-61e6-4096-a37e-2ecad4deb050",
   "metadata": {},
   "source": [
    "##  Sistema mecânico"
   ]
  },
  {
   "cell_type": "code",
   "execution_count": 8,
   "id": "da453f79-cda2-46c3-8e1d-037299c3ac32",
   "metadata": {},
   "outputs": [],
   "source": [
    "m = 1\n",
    "c = 0.12\n",
    "k = 40"
   ]
  },
  {
   "cell_type": "code",
   "execution_count": 9,
   "id": "cdd54b27-8404-4577-8d6e-65614d25dddc",
   "metadata": {},
   "outputs": [
    {
     "name": "stdout",
     "output_type": "stream",
     "text": [
      "Frequência natural: 6.325, Razão de amortecimento: 0.009.\n"
     ]
    }
   ],
   "source": [
    "ωn = sqrt(k/m)\n",
    "cc = 2*m*ωn\n",
    "ζ = c/cc\n",
    "print(f'Frequência natural: {ωn:.3f}, Razão de amortecimento: {ζ:.3f}.')"
   ]
  },
  {
   "cell_type": "markdown",
   "id": "4e4ffd6c-8f16-4315-acee-967b56151913",
   "metadata": {},
   "source": [
    "## Resposta\n",
    "Supondo que a força seja dada por $F(t) = F_0 e^{i\\omega t}$ equação de movimento para este problema ẽ\n",
    "$$ m \\ddot x + c \\dot x + k x = F_0 e^{i\\omega t}.$$\n",
    "Supondo que a resposta seja dada po $x(t) = Xe^{i\\omega t}$, temos que  $\\dot x(t) = i\\omega Xe^{i\\omega t}$ e $\\ddot x(t) = -\\omega^2 e^{i\\omega t}$, onde $X$ é um número complexo, ficamos com\n",
    "$$ -\\omega^2X e^{i\\omega t} m  + i\\omega Xe^{i\\omega t} c + Xe^{i\\omega t} k = F_0 e^{i\\omega} t,$$\n",
    "ou\n",
    "$$ \\left[-\\omega^2 m  + i\\omega c +  k\\right]Xe^{i\\omega t} = F_0 e^{i\\omega} t,$$\n",
    "$$ \\left[-\\omega^2 m  + i\\omega c +  k\\right]X  = F_0 ,$$\n",
    "e finalmente,\n",
    "$$ X = \\frac{F_0}{ k-\\omega^2 m  + i\\omega c }.$$"
   ]
  },
  {
   "cell_type": "code",
   "execution_count": null,
   "id": "b6473f62-0747-456e-9571-7de4488058ec",
   "metadata": {},
   "outputs": [],
   "source": []
  }
 ],
 "metadata": {
  "kernelspec": {
   "display_name": "Python 3 (ipykernel)",
   "language": "python",
   "name": "python3"
  },
  "language_info": {
   "codemirror_mode": {
    "name": "ipython",
    "version": 3
   },
   "file_extension": ".py",
   "mimetype": "text/x-python",
   "name": "python",
   "nbconvert_exporter": "python",
   "pygments_lexer": "ipython3",
   "version": "3.11.4"
  }
 },
 "nbformat": 4,
 "nbformat_minor": 5
}
