{
 "cells": [
  {
   "cell_type": "markdown",
   "id": "f1fe0c6e-d007-44c4-a330-96604856ff5a",
   "metadata": {},
   "source": [
    "# Diagrama de Forças\n",
    "\n",
    "Vamos criar o diagrama de forças para um sistema em vibração forçada amortecida, sujeito a excitação harmônica."
   ]
  },
  {
   "cell_type": "markdown",
   "id": "23140236-1627-4421-98a2-742d208f2a88",
   "metadata": {},
   "source": [
    "## Setup"
   ]
  },
  {
   "cell_type": "code",
   "execution_count": 118,
   "id": "bfc87a48-a538-482c-9309-f39853f4181d",
   "metadata": {},
   "outputs": [],
   "source": [
    "from math import sqrt, sin, cos, pi\n",
    "import cmath\n",
    "import matplotlib.pyplot as plt"
   ]
  },
  {
   "cell_type": "markdown",
   "id": "b1c3a510-61e6-4096-a37e-2ecad4deb050",
   "metadata": {},
   "source": [
    "##  Sistema mecânico"
   ]
  },
  {
   "cell_type": "code",
   "execution_count": 119,
   "id": "da453f79-cda2-46c3-8e1d-037299c3ac32",
   "metadata": {},
   "outputs": [],
   "source": [
    "m = 1\n",
    "c = 2.4\n",
    "k = 40"
   ]
  },
  {
   "cell_type": "code",
   "execution_count": 120,
   "id": "cdd54b27-8404-4577-8d6e-65614d25dddc",
   "metadata": {},
   "outputs": [
    {
     "name": "stdout",
     "output_type": "stream",
     "text": [
      "Frequência natural: 6.325, Razão de amortecimento: 0.190.\n"
     ]
    }
   ],
   "source": [
    "ωn = sqrt(k/m)\n",
    "cc = 2*m*ωn\n",
    "ζ = c/cc\n",
    "print(f'Frequência natural: {ωn:.3f}, Razão de amortecimento: {ζ:.3f}.')"
   ]
  },
  {
   "cell_type": "markdown",
   "id": "4e4ffd6c-8f16-4315-acee-967b56151913",
   "metadata": {},
   "source": [
    "## Resposta\n",
    "Supondo que a força seja dada por $F(t) = F_0 e^{i\\omega t}$ equação de movimento para este problema ẽ\n",
    "$$ m \\ddot x + c \\dot x + k x = F_0 e^{i\\omega t}.$$\n",
    "Supondo que a resposta seja dada po $x(t) = Xe^{i\\omega t}$, temos que  $\\dot x(t) = i\\omega Xe^{i\\omega t}$ e $\\ddot x(t) = -\\omega^2 e^{i\\omega t}$, onde $X$ é um número complexo, ficamos com\n",
    "$$ -\\omega^2X e^{i\\omega t} m  + i\\omega Xe^{i\\omega t} c + Xe^{i\\omega t} k = F_0 e^{i\\omega} t,$$\n",
    "ou\n",
    "$$ \\left[-\\omega^2 m  + i\\omega c +  k\\right]Xe^{i\\omega t} = F_0 e^{i\\omega} t,$$\n",
    "$$ \\left[-\\omega^2 m  + i\\omega c +  k\\right]X  = F_0 ,$$\n",
    "e finalmente,\n",
    "$$ X = \\frac{F_0}{ k-\\omega^2 m  + i\\omega c } = \\frac{\\delta_\\text{st}}{1 - r^2 + 2\\zeta r i}.$$\n",
    "\n",
    "Perceba que $X$ é um número complexo, com amplitude e fase!"
   ]
  },
  {
   "cell_type": "markdown",
   "id": "2076349c-d02a-4cd6-8686-c0c1099c2db8",
   "metadata": {},
   "source": [
    "## Forças\n",
    "Se o deslocamento é $Xe^{i\\omega t}$, a velocidade é $i \\omega Xe^{i\\omega t}$ e a aceleração é $ -\\omega^2 Xe^{i\\omega t}$.\n",
    "\n",
    "Sabemos também que a força elástica é $F_e = kx(t)$, a força de amortecimento é $F_a = c \\dot x(t)$ e a força de inércia é $F_i = m \\ddot x(t)$. Claramente, cada força é um fasor alinhado com a grandeza cinemática correspondente, e giram todas com a mesma velocidade.\n",
    "\n",
    "Temos então\n",
    "$$ F_e = kX e^{i\\omega t}, \\quad F_a = i \\omega c X e^{i\\omega t}, \\quad F_i = -m \\omega^2  X e^{i\\omega t}.$$\n",
    "\n",
    "Como sempre, a velocidade está adiantada de $\\pi/2$ radianos em relação ao deslocamento e a aceleração adiantada de $\\pi/2$ radianos em relação à velocidade.\n",
    "\n",
    "Como a massa encontra-se em equilíbrio dinâmico, o somatório das forças que agem sobre ela, incluindo a força de inércia, deve ser nulo, e portanto a representação gráfica deste somatório é um polígono fechado. \n",
    "\n",
    "Como todos os fasores giram com a mesma velocidade, podemos ignorar o termo $ e^{i\\omega t}$ e  plotar apenas as magnitudes e as direções relativas das forças."
   ]
  },
  {
   "cell_type": "markdown",
   "id": "4db7b915-ec66-4ab7-b45a-62cd89a01806",
   "metadata": {},
   "source": [
    "### Diagrama\n",
    "\n",
    "Precisamos calcular a reposta para calcular a magnitude das forças."
   ]
  },
  {
   "cell_type": "code",
   "execution_count": 121,
   "id": "fde65b50-d7e5-482d-8fc3-bb0216f91846",
   "metadata": {},
   "outputs": [
    {
     "name": "stdout",
     "output_type": "stream",
     "text": [
      "ωn:6.3246, ζ:0.1897, r:0.6325, δ:0.25\n"
     ]
    }
   ],
   "source": [
    "F0 = 10\n",
    "ω = 4\n",
    "\n",
    "δ = F0/k\n",
    "ωn = sqrt(k/m)\n",
    "r = ω/ωn\n",
    "cc = 2*m*ωn\n",
    "ζ = c/cc\n",
    "\n",
    "print(f'ωn:{ωn:.4f}, ζ:{ζ:.4g}, r:{r:.4g}, δ:{δ:.4g}')"
   ]
  },
  {
   "cell_type": "code",
   "execution_count": 122,
   "id": "46b033a6-1911-429c-9cbb-208ccb9a0ae5",
   "metadata": {},
   "outputs": [
    {
     "name": "stdout",
     "output_type": "stream",
     "text": [
      "X: (0.3591954022988506-0.14367816091954025j)\n"
     ]
    }
   ],
   "source": [
    "X = δ/(1 - r**2 + 2*ζ*r*1j)\n",
    "print(f'X: {X}')"
   ]
  },
  {
   "cell_type": "code",
   "execution_count": 123,
   "id": "9b70f9f9-12a1-4013-9a1c-cfd2cc3da13b",
   "metadata": {},
   "outputs": [
    {
     "name": "stdout",
     "output_type": "stream",
     "text": [
      "Fe: (14.37-5.747j)\n",
      "Fa: (1.379+3.448j)\n",
      "Fi: (-5.747+2.299j)\n"
     ]
    }
   ],
   "source": [
    "Fe = k*X\n",
    "Fa = 1j*ω*c*X\n",
    "Fi = -m*ω**2*X\n",
    "print(f'Fe: {Fe:.4}')\n",
    "print(f'Fa: {Fa:.4}')\n",
    "print(f'Fi: {Fi:.4}')"
   ]
  },
  {
   "cell_type": "markdown",
   "id": "112542c2-5b7a-4c82-b951-e482f87dd436",
   "metadata": {},
   "source": [
    "### Verificação\n",
    "\n",
    "Só para conforto espiritual,"
   ]
  },
  {
   "cell_type": "code",
   "execution_count": 124,
   "id": "8e28385a-abe6-4495-988d-67560706cd2a",
   "metadata": {},
   "outputs": [
    {
     "name": "stdout",
     "output_type": "stream",
     "text": [
      "R: (8.882e-16+0j)\n"
     ]
    }
   ],
   "source": [
    "R = -F0 + Fe + Fa + Fi\n",
    "print(f'R: {R:.4}')"
   ]
  },
  {
   "cell_type": "markdown",
   "id": "23b8561e-263e-4cd8-a1d1-1b48233e8503",
   "metadata": {},
   "source": [
    "A resultante não é nula devido à imprecisão da aritimética de ponto flutuante do computador."
   ]
  },
  {
   "cell_type": "markdown",
   "id": "5a7e27ff-1a68-451f-a742-37ff6eea489b",
   "metadata": {},
   "source": [
    "## Representação Gráfica\n",
    "\n",
    "Vamos rotacionar a força externa $F_0$  simplesmente para a figura ficar mais bonitinha, consequentemente, temos que rotacionar todas as outras forças do mesmo ângulo."
   ]
  },
  {
   "cell_type": "code",
   "execution_count": 125,
   "id": "e8e77456-14f1-4cfc-b4da-4ef353ed5b72",
   "metadata": {},
   "outputs": [
    {
     "data": {
      "image/png": "[encoded data removed]",
      "text/plain": [
       "<Figure size 800x800 with 1 Axes>"
      ]
     },
     "metadata": {},
     "output_type": "display_data"
    }
   ],
   "source": [
    "α = pi/8\n",
    "F0r = F0*cmath.exp(1j*α)\n",
    "Fer = Fe*cmath.exp(1j*α)\n",
    "Far = Fa*cmath.exp(1j*α)\n",
    "Fir = Fi*cmath.exp(1j*α)\n",
    "                \n",
    "fig, ax = plt.subplots()\n",
    "fig.set_size_inches(8,8)\n",
    "ax.set_title('Diagrama de Forças')\n",
    "ax.set_aspect('equal')\n",
    "f0 = ax.arrow(0, 0, F0r.real, F0r.imag, width=0.04, head_width=0.5, color='black',\n",
    "        length_includes_head=True)\n",
    "fe = ax.arrow(0, 0, Fer.real, Fer.imag, width=0.04, head_width=0.5, color='red',\n",
    "         length_includes_head=True)\n",
    "fa = ax.arrow(Fer.real, Fer.imag, Far.real, Far.imag, width=0.04, head_width=0.5, color='green',\n",
    "         length_includes_head=True)\n",
    "fi = ax.arrow(Far.real+Fer.real, Far.imag+Fer.imag, Fir.real, Fir.imag, width=0.04, head_width=0.5, color='blue',\n",
    "         length_includes_head=True, )\n",
    "f0.set_label(r'$F_0$')\n",
    "fe.set_label(r'$F_e$')\n",
    "fa.set_label(r'$F_a$')\n",
    "fi.set_label(r'$F_i$')\n",
    "_ = ax.legend()"
   ]
  }
 ],
 "metadata": {
  "kernelspec": {
   "display_name": "Python 3 (ipykernel)",
   "language": "python",
   "name": "python3"
  },
  "language_info": {
   "codemirror_mode": {
    "name": "ipython",
    "version": 3
   },
   "file_extension": ".py",
   "mimetype": "text/x-python",
   "name": "python",
   "nbconvert_exporter": "python",
   "pygments_lexer": "ipython3",
   "version": "3.11.4"
  }
 },
 "nbformat": 4,
 "nbformat_minor": 5
}
