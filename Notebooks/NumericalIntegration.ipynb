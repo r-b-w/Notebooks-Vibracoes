{
 "cells": [
  {
   "cell_type": "markdown",
   "id": "144ca7e4-dbfb-4b73-8ada-30f075f437ee",
   "metadata": {},
   "source": [
    "# Integração Numérica\n",
    "\n",
    "Neste notebook vamos mostrar como calcular a resposta de um problema  em vibração forçada ou livre amortecida, sujeito a uma força aplicada. Não há necessidade de o problema ser linear.\n",
    "\n",
    "Vamos usar o integrador numérico do [SciPy](https://scipy.org), que é um módulos de funcionalidades científicas para a linguagem Python que complementa o NumPy."
   ]
  },
  {
   "cell_type": "markdown",
   "id": "0dd58861-3dca-45c1-a81b-18fb0cfec85f",
   "metadata": {},
   "source": [
    "## Teoria\n",
    "\n",
    "Como praticamente todos os integradores numéricos, o do SciPy trabalha com sistemas de equações diferenciais de primeira ordem.\n",
    "\n",
    "Temos então que transformar a equação diferencia de movimento para o nosso problema, que é uma equação diferencial de segunda ordem, em um sistema de primeira ordem.\n",
    "\n",
    "A equação de movimento é:\n",
    "$$ m \\ddot x +  c \\dot x + k x = f(t).$$\n",
    "\n",
    "Vamos definir duas novas variáveis, $x_1(t) = x(t)$, e $x_2(t) = \\dot x_1(t)$, desta forma, a equação original torna-se\n",
    "\n",
    "$$ m \\dot x_2 + c x_2 + k x_1 = f(t),$$\n",
    "\n",
    "e podemos escrever o sistema de equações\n",
    "\n",
    "$$ \\left\\lbrace \n",
    "\\begin{aligned}\n",
    "\\dot x_1(t) &= x_2(t) \\\\\n",
    "\\dot x_2(t) &= \\left( f(t) - c x_2(t) - k x_1(t)\\right)/m \n",
    "\\end{aligned}\\right. $$\n",
    "\n",
    "que esta na forma que o integrador do SciPy necessita."
   ]
  },
  {
   "cell_type": "markdown",
   "id": "ef69278a-49fd-4775-bc6c-f9b35252a728",
   "metadata": {},
   "source": [
    "## Setup"
   ]
  },
  {
   "cell_type": "code",
   "execution_count": 2,
   "id": "f4ff62b9-8174-41cd-9a48-fd954c6b71fa",
   "metadata": {},
   "outputs": [],
   "source": [
    "import numpy as np\n",
    "import scipy as sp\n",
    "import matplotlib.pyplot as plt"
   ]
  },
  {
   "cell_type": "markdown",
   "id": "8a4c54a5-07d2-4958-bb7d-ac737542d9ad",
   "metadata": {},
   "source": [
    "## Definição do sistema mecânico"
   ]
  },
  {
   "cell_type": "code",
   "execution_count": 3,
   "id": "7bbcfe70-17d9-4bbb-a94f-cac66a359695",
   "metadata": {},
   "outputs": [],
   "source": [
    "m = 1\n",
    "c = 0.06\n",
    "k = 40"
   ]
  },
  {
   "cell_type": "markdown",
   "id": "8de917b5-9cf2-46b3-aa7d-88920272a089",
   "metadata": {},
   "source": [
    "## Definição do sistema de EDO de primeira ordem"
   ]
  },
  {
   "cell_type": "code",
   "execution_count": null,
   "id": "dfe85d06-1462-4eae-98be-92758f82088e",
   "metadata": {},
   "outputs": [],
   "source": [
    "# Tome o cuidado de definir f como uma função vetorizável usando o NumPy\n",
    "# Caso contrário, altere a chamada de solve_ivp para vectorized=False.\n",
    "\n",
    "def edo(t, y, m, c, k, f):\n",
    "    return y[1], (f(t) - c*y[1] - k*y[0])/m "
   ]
  },
  {
   "cell_type": "markdown",
   "id": "e96b28d6-c38e-4bd5-9abb-3a074face7e2",
   "metadata": {},
   "source": [
    "## Forças aplicadas"
   ]
  },
  {
   "cell_type": "code",
   "execution_count": 8,
   "id": "19897a56-93cd-423f-9a15-7ffb1c1f65c9",
   "metadata": {},
   "outputs": [],
   "source": [
    "# força constante\n",
    "def const_force(t):\n",
    "    return np.full(t.shape, 400)\n",
    "\n",
    "def ramp_force(t):\n",
    "    A = 400\n",
    "    d = 8\n",
    "    f = np.where(t<=d, A*t/d, 0)\n",
    "    return f\n",
    "\n",
    "def nice_force(t):\n",
    "    f = np.where(t<=4, t*(t-4)*np.exp(t), 0)\n",
    "    return f"
   ]
  },
  {
   "cell_type": "code",
   "execution_count": 9,
   "id": "50deed64-699b-4490-ba44-f26580374067",
   "metadata": {},
   "outputs": [
    {
     "data": {
      "text/plain": [
       "[<matplotlib.lines.Line2D at 0x7fb668152080>]"
      ]
     },
     "execution_count": 9,
     "metadata": {},
     "output_type": "execute_result"
    },
    {
     "data": {
      "image/png": "[encoded data removed]",
      "text/plain": [
       "<Figure size 432x288 with 1 Axes>"
      ]
     },
     "metadata": {
      "needs_background": "light"
     },
     "output_type": "display_data"
    }
   ],
   "source": [
    "times = np.linspace(0, 20, 401)\n",
    "fig, ax = plt.subplots()\n",
    "ax.plot(times, const_force(times))\n",
    "ax.plot(times, ramp_force(times))\n",
    "ax.plot(times, nice_force(times))"
   ]
  },
  {
   "cell_type": "code",
   "execution_count": null,
   "id": "dba70f10-ce73-48dc-a42c-5f91adcf5fee",
   "metadata": {},
   "outputs": [],
   "source": []
  }
 ],
 "metadata": {
  "kernelspec": {
   "display_name": "Python 3 (ipykernel)",
   "language": "python",
   "name": "python3"
  },
  "language_info": {
   "codemirror_mode": {
    "name": "ipython",
    "version": 3
   },
   "file_extension": ".py",
   "mimetype": "text/x-python",
   "name": "python",
   "nbconvert_exporter": "python",
   "pygments_lexer": "ipython3",
   "version": "3.10.4"
  }
 },
 "nbformat": 4,
 "nbformat_minor": 5
}
